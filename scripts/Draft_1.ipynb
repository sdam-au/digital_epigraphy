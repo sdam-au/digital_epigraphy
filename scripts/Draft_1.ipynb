{
 "cells": [
  {
   "cell_type": "markdown",
   "metadata": {},
   "source": [
    "# Inscriptions as data: digital epigraphy in macro-historical perspective \n",
    "\n",
    "* Petra Hermankova, Aarhus University, https://orcid.org/0000-0002-6349-0540 (corresponding author)\n",
    "* Vojtech Kase, Aarhus University, \n",
    "* Adela Sobotkova, Aarhus University\n"
   ]
  },
  {
   "cell_type": "markdown",
   "metadata": {},
   "source": [
    "## Abstract\n",
    "\n",
    "Inscriptions, as short texts written on a permanent medium, represent invaluable historical evidence of past societies, their organisation, cultural norms and practices, demographic patterns and human past behaviour. Several hundred thousand inscriptions in Greek and Latin language survived until today, providing us with a direct line of evidence to populations of large cities but also of rural communities of the entire Mediterranean Basin in the period between the 8th c. BC and 8th c. AD. Despite the enormous historical potential of inscriptions, large-scale and comparative studies are still rare, even though we live in the age of ample digital tools and online databases. The aim of this article is to demonstrate some of the challenges of macro-scale digital history on the example of online epigraphic resources. We have developed a FAIR and open science pipeline to overcome some of the challenges and biases that are not limited to inscriptions, but are inherent to any historical evidence. Amongst others, we discuss the computational approaches to problematic and incomplete datasets, temporal or spatial uncertainty of historical evidence and assess the suitability of traditional vs proposed solutions for historical research. \n",
    "\tIn the current article, we target primarily the first stages of the research lifecycle, such as data-access and streamlining phase as a key and formative aspect of any historical analysis, that is however often made peripheral in favour of analysis and discussion of results. We document the full research lifecycle of work with digital historical datasets in a series of scripts in R and Python, with primary focus on transparency and reproducibility in order to promote scientific collaboration and advance the historical discipline.\n",
    "We demonstrate our approach on two well-established digital sources for Latin epigraphy, both posing different challenges to any quantitative researcher: Epigraphic Database Heidelberg (EDH) containing over 81,000 of records and Epigraphische Datenbank Clauss-Slaby (EDCS) with 500,000 records.\n",
    "\n"
   ]
  },
  {
   "cell_type": "markdown",
   "metadata": {},
   "source": [
    "## Keywords\n",
    "digital epigraphy; quantitative research; FAIR science; reproducibility; digital history"
   ]
  },
  {
   "cell_type": "markdown",
   "metadata": {},
   "source": [
    "## GitHub\n",
    "https://github.com/sdam-au/digital_epigraphy"
   ]
  },
  {
   "cell_type": "code",
   "execution_count": 82,
   "metadata": {},
   "outputs": [
    {
     "name": "stdout",
     "output_type": "stream",
     "text": [
      "Requirement already satisfied: sddk in /home/petra/snap/jupyter/common/lib/python3.7/site-packages (2.8.2)\n",
      "Requirement already satisfied: scipy in /home/petra/snap/jupyter/common/lib/python3.7/site-packages (1.6.1)\n",
      "Requirement already satisfied: seaborn in /home/petra/snap/jupyter/common/lib/python3.7/site-packages (0.11.1)\n",
      "Requirement already satisfied: plotly in /home/petra/snap/jupyter/common/lib/python3.7/site-packages (4.14.3)\n",
      "Requirement already satisfied: kaleido in /home/petra/snap/jupyter/common/lib/python3.7/site-packages (0.2.1)\n",
      "Requirement already satisfied: matplotlib in /home/petra/snap/jupyter/common/lib/python3.7/site-packages (3.3.4)\n",
      "Requirement already satisfied: requests in /home/petra/snap/jupyter/common/lib/python3.7/site-packages (from sddk) (2.21.0)\n",
      "Requirement already satisfied: beautifulsoup4 in /home/petra/snap/jupyter/common/lib/python3.7/site-packages (from sddk) (4.7.1)\n",
      "Requirement already satisfied: pyarrow in /home/petra/snap/jupyter/common/lib/python3.7/site-packages (from sddk) (3.0.0)\n",
      "Requirement already satisfied: numpy in /home/petra/snap/jupyter/common/lib/python3.7/site-packages (from sddk) (1.20.1)\n",
      "Requirement already satisfied: pandas in /home/petra/snap/jupyter/common/lib/python3.7/site-packages (from sddk) (1.2.3)\n",
      "Requirement already satisfied: six in /snap/jupyter/6/lib/python3.7/site-packages (from plotly) (1.12.0)\n",
      "Requirement already satisfied: retrying>=1.3.3 in /home/petra/snap/jupyter/common/lib/python3.7/site-packages (from plotly) (1.3.3)\n",
      "Requirement already satisfied: pillow>=6.2.0 in /home/petra/snap/jupyter/common/lib/python3.7/site-packages (from matplotlib) (8.1.2)\n",
      "Requirement already satisfied: kiwisolver>=1.0.1 in /home/petra/snap/jupyter/common/lib/python3.7/site-packages (from matplotlib) (1.3.1)\n",
      "Requirement already satisfied: pyparsing!=2.0.4,!=2.1.2,!=2.1.6,>=2.0.3 in /home/petra/snap/jupyter/common/lib/python3.7/site-packages (from matplotlib) (2.4.7)\n",
      "Requirement already satisfied: cycler>=0.10 in /home/petra/snap/jupyter/common/lib/python3.7/site-packages (from matplotlib) (0.10.0)\n",
      "Requirement already satisfied: python-dateutil>=2.1 in /snap/jupyter/6/lib/python3.7/site-packages (from matplotlib) (2.8.0)\n",
      "Requirement already satisfied: certifi>=2017.4.17 in /snap/jupyter/6/lib/python3.7/site-packages (from requests->sddk) (2019.3.9)\n",
      "Requirement already satisfied: urllib3<1.25,>=1.21.1 in /home/petra/snap/jupyter/common/lib/python3.7/site-packages (from requests->sddk) (1.24.2)\n",
      "Requirement already satisfied: chardet<3.1.0,>=3.0.2 in /home/petra/snap/jupyter/common/lib/python3.7/site-packages (from requests->sddk) (3.0.4)\n",
      "Requirement already satisfied: idna<2.9,>=2.5 in /home/petra/snap/jupyter/common/lib/python3.7/site-packages (from requests->sddk) (2.8)\n",
      "Requirement already satisfied: soupsieve>=1.2 in /home/petra/snap/jupyter/common/lib/python3.7/site-packages (from beautifulsoup4->sddk) (1.9.1)\n",
      "Requirement already satisfied: pytz>=2017.3 in /home/petra/snap/jupyter/common/lib/python3.7/site-packages (from pandas->sddk) (2021.1)\n"
     ]
    }
   ],
   "source": [
    "# Python requirements: \n",
    "\n",
    "!pip install sddk scipy seaborn plotly kaleido matplotlib\n",
    "import scipy\n",
    "from scipy.stats import trapz\n",
    "import matplotlib.pyplot as plt\n",
    "import matplotlib.colors as mcolors\n",
    "import seaborn as sns\n",
    "import numpy as np\n",
    "import pandas as pd\n",
    "import sddk\n",
    "import requests\n"
   ]
  },
  {
   "cell_type": "markdown",
   "metadata": {},
   "source": [
    "## Introduction\n",
    "Inscriptions represent a diverse yet comparable source for the long-term studies of the ancient Mediterranean communities, including the evolution of demographic trends, migration patterns, changes of the socio-political organisation and cultural development. Estimates suggest over 600,000 Greek and Latin inscriptions have survived until today, but the overall number can be even higher as new inscriptions are published every year (Beltran-Lloris 2014, 135). Inscriptions vary greatly in form and contents, touching almost all aspects of life in an ancient society. The diverse group of texts range from short private messages on objects of daily use to extensive regulations and laws issued by a political authority, or to monumental inscriptions creating a public image and prestige. In contrast with literary texts that were often preserved via the act of multiple copying, the text of inscription has the original unaltered form with all typographical and grammatical errors. Moreover, the inscriptions were produced by a wider demographic group than literary sources, that were often representing only the elite’s point of view. Thus, the diversity of epigraphic sources and their large number make inscriptions an ideal source for macro-historical studies of ancient society.\n",
    "\n",
    "In recent years, large digital corpora containing tens of thousands inscriptions were made accessible to any researcher and published online and yet they remain underutilised as resources for quantitative and comparative studies (Elliott 2014, 80-83). Although the analysis of a large body of inscriptions may seem relatively straightforward from an outsider’s point of view, one has to deal with numerous technological, methodological and even ethical challenges when accessing digital datasets. \n",
    "    \n",
    "We will address some of the challenges of large scale comparative research in the digital age on examples of two well established digital resources: \n",
    "\n",
    "1. Epigraphic Database Heidelberg (EDH), that represents a flagship resource for Latin epigraphers and pioneer in the open and FAIR epigraphy; \n",
    "\n",
    "2. Epigraphic Database Clauss-Slaby, EDCS is the most extensive digital resource for Latin inscriptions, with over 500,000 texts. The overwhelming size of the EDCS unfortunately goes hand in hand with several shortcomings and well known limitations of the dataset. \n",
    "    \n",
    "In accordance with the Open and FAIR science practice, we advocate for transparency during the full research lifecycle, including its preliminary data-collection and access stages. We believe the only way forward for any digital researcher is to document all methodological decisions leading to modifications to the dataset alongside with the raw data and to do so in an open and accessible manner. Thus, all the stages of our project are accessible via public repositories on GitHub and Zenodo under CC-BY-SA 4.0 International license. Should anyone wish to build upon our work, or use the tools or methods we have developed, the provided license clearly states the conditions and thus facilitates the collaborative and inclusive research environment.\n"
   ]
  },
  {
   "cell_type": "markdown",
   "metadata": {},
   "source": [
    "## Data sources\n",
    "\n",
    "We have chosen two well established digital sources for Latin inscriptions, Epigraphic Database Heidelberg and Epigraphic Database Clasuss-Slaby in order to demonstrate the range of challenges a digital historian has to face when doing comparative historical research. We shortly present both sources and contrast their contents in relation to available spatial and chronological metadata and the epigraphic texts, all crucial aspects of quantitative analysis inscriptions over space and time.\n"
   ]
  },
  {
   "cell_type": "markdown",
   "metadata": {},
   "source": [
    "### Epigraphic Database Heidelberg \n",
    "\n",
    "The Epigraphic Database Heidelberg ([EDH](https://edh-www.adw.uni-heidelberg.de/)) represents the flagship digital resource for the discipline of digital epigraphy with over 30 years of development and high quality of its outputs. Thus, the EDH dataset with more than 81,000 inscriptions provides a representative sample of the total body of inscriptions from the Mediterranean dating from the 6th century BC to the 9th century AD covering most of the area of the former Roman Empire.\n",
    "\n",
    "EDH is one of the pioneers of digital and open epigraphy, providing access to high standard digital resources. The original [aim of the project](https://edh-www.adw.uni-heidelberg.de/projekt/konzept) financed by the Heidelberg Academy of Sciences And Humanities is to *“to render the epigraphic documentation of the provinces of the Roman Empire as completely and reliably as possible for online research work”* . The EDH follows the FAIR principles: all data of the Open Data Repository can be reused under the CC BY-SA 4.0 [licence](https://edh-www.adw.uni-heidelberg.de/data), making an ideal candidate for quantitative research on epigraphic cultures of the Mediterranean. \n",
    "\n",
    "The data is accessible via public API ([Application Programming Interface](https://edh-www.adw.uni-heidelberg.de/data/api)) and its editors are responsible for the quality of data entry as noted directly in individual XML files. Alternatively, the data can be accessed in raw Epidoc XML files, either directly on the website, GitHub pages or through Zenodo archive. However, based on the personal communication in 2020 with the maintainer of the EDH digital archive Frank Grieshaber, the API contains the most updated version of the data and will do so until the end of 2021. The accessibility of the future of the dataset beyond 2022 will be ensured by the release of the data-archives on Zenodo and on GitHub. As of March 2021, the phase of active data-entry is planned to finish in December 2021 with the end support by the Heidelberg Academy of Sciences.\n"
   ]
  },
  {
   "cell_type": "markdown",
   "metadata": {},
   "source": [
    "#### Contents of the EDH\n",
    "In June 2019 the authors claimed the database contained over 1.4 million metadata fields, averaging 18 metadata fields per inscription (Grieshaber 2019). As of September 2020, the EDH contained over 81,476 inscriptions, almost 40,000 photographs, 30,000+ locations and over 16,000 bibliographical publications.\t\n",
    "\n",
    "The EDH API provides direct access to the latest data, containing 11 attributes providing spatial and temporal metadata, object metadata, as well as the text of an inscription, its typological categorisation, bibliographical references and links to related digital sources and photos. Geospatial data are stored separately in the Geo API, as well as bulk dump with individual XML files containing additional metadata not present in the EDH API. We have combined all three sources to obtain as rich a resource as possible. We will discuss the entire access and preprocessing of the dataset and the technological solutions in the methodological section. "
   ]
  },
  {
   "cell_type": "code",
   "execution_count": 16,
   "metadata": {},
   "outputs": [
    {
     "name": "stdout",
     "output_type": "stream",
     "text": [
      "reading file located in a public folder\n"
     ]
    },
    {
     "data": {
      "text/html": [
       "<div>\n",
       "<style scoped>\n",
       "    .dataframe tbody tr th:only-of-type {\n",
       "        vertical-align: middle;\n",
       "    }\n",
       "\n",
       "    .dataframe tbody tr th {\n",
       "        vertical-align: top;\n",
       "    }\n",
       "\n",
       "    .dataframe thead th {\n",
       "        text-align: right;\n",
       "    }\n",
       "</style>\n",
       "<table border=\"1\" class=\"dataframe\">\n",
       "  <thead>\n",
       "    <tr style=\"text-align: right;\">\n",
       "      <th></th>\n",
       "      <th>responsible_individual</th>\n",
       "      <th>type_of_inscription</th>\n",
       "      <th>letter_size</th>\n",
       "      <th>not_after</th>\n",
       "      <th>literature</th>\n",
       "      <th>work_status</th>\n",
       "      <th>height</th>\n",
       "      <th>diplomatic_text</th>\n",
       "      <th>people</th>\n",
       "      <th>depth</th>\n",
       "      <th>...</th>\n",
       "      <th>clean_text_conservative</th>\n",
       "      <th>clean_text_interpretive_word</th>\n",
       "      <th>clean_text_interpretive_sentence</th>\n",
       "      <th>findspot</th>\n",
       "      <th>year_of_find</th>\n",
       "      <th>present_location</th>\n",
       "      <th>religion</th>\n",
       "      <th>geography</th>\n",
       "      <th>social_economic_legal_history</th>\n",
       "      <th>military</th>\n",
       "    </tr>\n",
       "  </thead>\n",
       "  <tbody>\n",
       "    <tr>\n",
       "      <th>0</th>\n",
       "      <td>Feraudi</td>\n",
       "      <td>epitaph</td>\n",
       "      <td>3.2-2 cm</td>\n",
       "      <td>0130</td>\n",
       "      <td>AE 1983, 0192.; M. Annecchino, Puteoli 4/5, 19...</td>\n",
       "      <td>provisional</td>\n",
       "      <td>33 cm</td>\n",
       "      <td>D M / NONIAE P F OPTATAE / ET C IVLIO ARTEMONI...</td>\n",
       "      <td>[{'name': 'Noniae P.f. Optatae', 'cognomen': '...</td>\n",
       "      <td>2.7 cm</td>\n",
       "      <td>...</td>\n",
       "      <td>D M Noniae P f Optatae et C Iulio Artemoni par...</td>\n",
       "      <td>Dis Manibus Noniae Publi filiae Optatae et Cai...</td>\n",
       "      <td>Dis Manibus Noniae Publi filiae Optatae et Cai...</td>\n",
       "      <td>NaN</td>\n",
       "      <td>NaN</td>\n",
       "      <td>NaN</td>\n",
       "      <td>NaN</td>\n",
       "      <td>NaN</td>\n",
       "      <td>NaN</td>\n",
       "      <td>NaN</td>\n",
       "    </tr>\n",
       "    <tr>\n",
       "      <th>1</th>\n",
       "      <td>Feraudi</td>\n",
       "      <td>epitaph</td>\n",
       "      <td>4 cm</td>\n",
       "      <td>0200</td>\n",
       "      <td>AE 1983, 0080. (A); A. Ferrua, RAL 36, 1981, 1...</td>\n",
       "      <td>no image</td>\n",
       "      <td>28 cm</td>\n",
       "      <td>C SEXTIVS PARIS / QVI VIXIT / ANNIS LXX</td>\n",
       "      <td>[{'nomen': 'Sextius', 'praenomen': 'C.', 'pers...</td>\n",
       "      <td>NaN</td>\n",
       "      <td>...</td>\n",
       "      <td>C Sextius Paris qui vixit annis LXX</td>\n",
       "      <td>Caius Sextius Paris qui vixit annis LXX</td>\n",
       "      <td>Caius Sextius Paris qui vixit annis LXX</td>\n",
       "      <td>Via Nomentana, S. Alessandro, Kirche</td>\n",
       "      <td>1937</td>\n",
       "      <td>NaN</td>\n",
       "      <td>NaN</td>\n",
       "      <td>NaN</td>\n",
       "      <td>NaN</td>\n",
       "      <td>NaN</td>\n",
       "    </tr>\n",
       "    <tr>\n",
       "      <th>2</th>\n",
       "      <td>Feraudi</td>\n",
       "      <td>honorific inscription</td>\n",
       "      <td>4.5-3 cm</td>\n",
       "      <td>0170</td>\n",
       "      <td>AE 1983, 0518. (B); J. González, ZPE 52, 1983,...</td>\n",
       "      <td>provisional</td>\n",
       "      <td>(37) cm</td>\n",
       "      <td>[ ]VMMIO [ ] / [ ]ISENNA[ ] / [ ] XV[ ] / [ ] / [</td>\n",
       "      <td>[{'nomen': 'Mummius+', 'gender': 'male', 'prae...</td>\n",
       "      <td>(12) cm</td>\n",
       "      <td>...</td>\n",
       "      <td>ummio isenna Xv</td>\n",
       "      <td>Publio Mummio Publi filio Galeria Sisennae Rut...</td>\n",
       "      <td>Publio Mummio Publi filio Galeria Sisennae Rut...</td>\n",
       "      <td>NaN</td>\n",
       "      <td>before 1975</td>\n",
       "      <td>Sevilla, Privatbesitz</td>\n",
       "      <td>NaN</td>\n",
       "      <td>NaN</td>\n",
       "      <td>NaN</td>\n",
       "      <td>NaN</td>\n",
       "    </tr>\n",
       "    <tr>\n",
       "      <th>3</th>\n",
       "      <td>Gräf</td>\n",
       "      <td>votive inscription</td>\n",
       "      <td>2.5 cm</td>\n",
       "      <td>0200</td>\n",
       "      <td>AE 1983, 0533. (B); A.U. Stylow, Gerión 1, 198...</td>\n",
       "      <td>checked with photo</td>\n",
       "      <td>(39) cm</td>\n",
       "      <td>[ ]AVS[ ]LLA / M PORCI NIGRI SER / DOMINAE VEN...</td>\n",
       "      <td>[{'name': '[---?]AV(?)S(?)[---]L(?)L(?)A M. Po...</td>\n",
       "      <td>18 cm</td>\n",
       "      <td>...</td>\n",
       "      <td>AVSLLA M Porci Nigri ser dominae Veneri aram p...</td>\n",
       "      <td>AVS LLA Marci Porci Nigri serva dominae Veneri...</td>\n",
       "      <td>AVS LLA Marci Porci Nigri serva dominae Veneri...</td>\n",
       "      <td>NaN</td>\n",
       "      <td>before 1979</td>\n",
       "      <td>Carcabuey, Grupo Escolar</td>\n",
       "      <td>names of pagan deities</td>\n",
       "      <td>NaN</td>\n",
       "      <td>NaN</td>\n",
       "      <td>NaN</td>\n",
       "    </tr>\n",
       "    <tr>\n",
       "      <th>4</th>\n",
       "      <td>Feraudi</td>\n",
       "      <td>epitaph</td>\n",
       "      <td>NaN</td>\n",
       "      <td>0200</td>\n",
       "      <td>AE 1983, 0078. (B); A. Ferrua, RAL 36, 1981, 1...</td>\n",
       "      <td>no image</td>\n",
       "      <td>NaN</td>\n",
       "      <td>[ ] L SVCCESSVS / [ ] L L IRENAEVS / [ ] C L T...</td>\n",
       "      <td>[{'person_id': '1', 'name': '[---]l. Successus...</td>\n",
       "      <td>NaN</td>\n",
       "      <td>...</td>\n",
       "      <td>l Successus L l Irenaeus C l Tyches unt renti f</td>\n",
       "      <td>libertus Successus Luci libertus Irenaeus Cai ...</td>\n",
       "      <td>libertus Successus Luci libertus Irenaeus Cai ...</td>\n",
       "      <td>Via Cupa (ehem. Vigna Nardi)</td>\n",
       "      <td>NaN</td>\n",
       "      <td>NaN</td>\n",
       "      <td>NaN</td>\n",
       "      <td>NaN</td>\n",
       "      <td>NaN</td>\n",
       "      <td>NaN</td>\n",
       "    </tr>\n",
       "  </tbody>\n",
       "</table>\n",
       "<p>5 rows × 74 columns</p>\n",
       "</div>"
      ],
      "text/plain": [
       "  responsible_individual    type_of_inscription letter_size not_after  \\\n",
       "0                Feraudi                epitaph    3.2-2 cm      0130   \n",
       "1                Feraudi                epitaph        4 cm      0200   \n",
       "2                Feraudi  honorific inscription    4.5-3 cm      0170   \n",
       "3                   Gräf     votive inscription      2.5 cm      0200   \n",
       "4                Feraudi                epitaph         NaN      0200   \n",
       "\n",
       "                                          literature         work_status  \\\n",
       "0  AE 1983, 0192.; M. Annecchino, Puteoli 4/5, 19...         provisional   \n",
       "1  AE 1983, 0080. (A); A. Ferrua, RAL 36, 1981, 1...            no image   \n",
       "2  AE 1983, 0518. (B); J. González, ZPE 52, 1983,...         provisional   \n",
       "3  AE 1983, 0533. (B); A.U. Stylow, Gerión 1, 198...  checked with photo   \n",
       "4  AE 1983, 0078. (B); A. Ferrua, RAL 36, 1981, 1...            no image   \n",
       "\n",
       "    height                                    diplomatic_text  \\\n",
       "0    33 cm  D M / NONIAE P F OPTATAE / ET C IVLIO ARTEMONI...   \n",
       "1    28 cm            C SEXTIVS PARIS / QVI VIXIT / ANNIS LXX   \n",
       "2  (37) cm  [ ]VMMIO [ ] / [ ]ISENNA[ ] / [ ] XV[ ] / [ ] / [   \n",
       "3  (39) cm  [ ]AVS[ ]LLA / M PORCI NIGRI SER / DOMINAE VEN...   \n",
       "4      NaN  [ ] L SVCCESSVS / [ ] L L IRENAEVS / [ ] C L T...   \n",
       "\n",
       "                                              people    depth  ...  \\\n",
       "0  [{'name': 'Noniae P.f. Optatae', 'cognomen': '...   2.7 cm  ...   \n",
       "1  [{'nomen': 'Sextius', 'praenomen': 'C.', 'pers...      NaN  ...   \n",
       "2  [{'nomen': 'Mummius+', 'gender': 'male', 'prae...  (12) cm  ...   \n",
       "3  [{'name': '[---?]AV(?)S(?)[---]L(?)L(?)A M. Po...    18 cm  ...   \n",
       "4  [{'person_id': '1', 'name': '[---]l. Successus...      NaN  ...   \n",
       "\n",
       "                             clean_text_conservative  \\\n",
       "0  D M Noniae P f Optatae et C Iulio Artemoni par...   \n",
       "1                C Sextius Paris qui vixit annis LXX   \n",
       "2                                    ummio isenna Xv   \n",
       "3  AVSLLA M Porci Nigri ser dominae Veneri aram p...   \n",
       "4    l Successus L l Irenaeus C l Tyches unt renti f   \n",
       "\n",
       "                        clean_text_interpretive_word  \\\n",
       "0  Dis Manibus Noniae Publi filiae Optatae et Cai...   \n",
       "1            Caius Sextius Paris qui vixit annis LXX   \n",
       "2  Publio Mummio Publi filio Galeria Sisennae Rut...   \n",
       "3  AVS LLA Marci Porci Nigri serva dominae Veneri...   \n",
       "4  libertus Successus Luci libertus Irenaeus Cai ...   \n",
       "\n",
       "                    clean_text_interpretive_sentence  \\\n",
       "0  Dis Manibus Noniae Publi filiae Optatae et Cai...   \n",
       "1            Caius Sextius Paris qui vixit annis LXX   \n",
       "2  Publio Mummio Publi filio Galeria Sisennae Rut...   \n",
       "3  AVS LLA Marci Porci Nigri serva dominae Veneri...   \n",
       "4  libertus Successus Luci libertus Irenaeus Cai ...   \n",
       "\n",
       "                               findspot year_of_find  \\\n",
       "0                                   NaN          NaN   \n",
       "1  Via Nomentana, S. Alessandro, Kirche         1937   \n",
       "2                                   NaN  before 1975   \n",
       "3                                   NaN  before 1979   \n",
       "4          Via Cupa (ehem. Vigna Nardi)          NaN   \n",
       "\n",
       "           present_location                religion geography  \\\n",
       "0                       NaN                     NaN       NaN   \n",
       "1                       NaN                     NaN       NaN   \n",
       "2     Sevilla, Privatbesitz                     NaN       NaN   \n",
       "3  Carcabuey, Grupo Escolar  names of pagan deities       NaN   \n",
       "4                       NaN                     NaN       NaN   \n",
       "\n",
       "  social_economic_legal_history military  \n",
       "0                           NaN      NaN  \n",
       "1                           NaN      NaN  \n",
       "2                           NaN      NaN  \n",
       "3                           NaN      NaN  \n",
       "4                           NaN      NaN  \n",
       "\n",
       "[5 rows x 74 columns]"
      ]
     },
     "execution_count": 16,
     "metadata": {},
     "output_type": "execute_result"
    }
   ],
   "source": [
    "# Loading the EDH dataset from public folder on Sciencedata.dk using sddk package\n",
    "\n",
    "publicfolder = \"b6b6afdb969d378b70929e86e58ad975\"\n",
    "EDH = sddk.read_file(\"EDH_text_cleaned_2021-01-21.json\", \"df\", publicfolder)\n",
    "EDH.head(5)"
   ]
  },
  {
   "cell_type": "markdown",
   "metadata": {},
   "source": [
    "#### Language of inscriptions in EDH\n",
    "The vast majority of the 81,476 inscriptions recorded in the EDH database is written in Latin (97.57 % of all inscriptions). Greek inscriptions represent 1.58 %, combined Greek-Latin inscriptions 0.81 % and the rest consisting of other Mediterranean languages such as Phoenician, Punic, Celtic, Hebrew, Iberian, Italic, Numidian or Palmyrenic and their combination with mostly Latin. Therefore, the EDH dataset predominantly represents epigraphic cultures publishing in Latin, rather than all epigraphic languages of the Mediterranean. We have to bear in mind, the EDH dataset does not provide a representative sample for Greek writing cultures of the Roman East, although the EDH dataset covers the Latin inscriptions from Eastern Mediterranean."
   ]
  },
  {
   "cell_type": "markdown",
   "metadata": {},
   "source": [
    "```R code```"
   ]
  },
  {
   "cell_type": "code",
   "execution_count": 18,
   "metadata": {},
   "outputs": [
    {
     "data": {
      "text/plain": [
       "Latin                    79495\n",
       "Greek                     1290\n",
       "Greek-Latin                654\n",
       "Phonician-Punic-Latin       12\n",
       "Hebrew-Latin                 4\n",
       "Celtic-Latin                 4\n",
       "Palmyrenic-Latin             3\n",
       "Numidian                     3\n",
       "PyGL                         3\n",
       "Italic-Latin                 2\n",
       "Celtic                       1\n",
       "LG                           1\n",
       "Iberian-Latin                1\n",
       "Greek-Hebrew-Latin           1\n",
       "Hebrew-Iberian-Latin         1\n",
       "Name: language, dtype: int64"
      ]
     },
     "execution_count": 18,
     "metadata": {},
     "output_type": "execute_result"
    }
   ],
   "source": [
    "EDH[\"language\"].value_counts()"
   ]
  },
  {
   "cell_type": "markdown",
   "metadata": {},
   "source": [
    "#### Spatial information in EDH\n",
    "EDH records spatial metadata of the findspot of an inscription either in the form of textual description of the findspot, that can be broken into several categories, such as the name of ancient settlement, Roman Province, modern country, region of modern place name, or alternatively place of the present location of the inscription, and as geospatial coordinates. \n",
    "\n",
    "The numeric geospatial coordinates denote an exact location on the surface of the Earth, making them an ideal candidate for quantified analysis. Their numeric format provides a computationally accessible means of placing the findspot on a map. Then we can relatively easily explore any occurring spatial patterns, such as their clustering in the proximity of large settlements or roads, commercial hubs or religious sanctuaries. Of the total 81,476 inscriptions in the EDH, the 97 % has assigned geospatial coordinates that enable us to place them on a map, while 2,464 inscriptions have missing geospatial coordinates (3 % of all inscriptions). \n",
    "\n",
    "The precision of the coordinates vary from zero decimal places to four decimal places (e.g. 42 or 42.3681). One decimal place in real life represents a precision up to 11.1 km, two decimal places 1.1 km, three decimal places 110 m and four decimal places corresponds with 11 m precision of locating the exact position on the Earth’s surface. Over 85 % of the EDH dataset contain coordinates with four decimal places, suggesting the majority of the dataset can be securely placed on a map with 11 m margin of error. The reality might be less optimistic and the margin of error is likely to be in the range of several hundreds of metres or few kilometres in the best cases. The precision of the numeric coordinates, however, may reflect several other factors, than the precise localization of the findspot on Earth’s surface. Several of the factors influencing how many decimal places the coordinates contain are: \n",
    "* the detail of knowledge of the original findspot as preserved in legacy data, \n",
    "* the result of the granularity of georeferencing method during the process of digitisation, \n",
    "* the quality of the adopted linked open dataset.\n",
    "\n",
    "As the geospatial coordinates did not exist when most of the inscriptions were found and published, they had to be reconstructed on the basis of textual description of the location given by the author of the editio princeps (e.g. also known as georeferencing of legacy data). The precision of such textual descriptions highly vary: we can thus pinpoint the location of some inscriptions to one spot, street or archaeological site, whilst others were found in the vicinity of place X, or between place Y and Z. The accuracy of geospatial coordinates depends also on the amount of available legacy data on the original findspot of the inscription. Generally, inscriptions where the ancient findspot is known and can be associated with an existing archaeological site, have the most precise coordinates (with the most decimal numbers). Coordinates of inscriptions, where only the name of the Roman province or modern country is known, tend to have a low accuracy, represented by fewer decimal numbers of their coordinates. \n",
    "\n",
    "The process of digitisation of legacy data containing spatial elements may also influence the resulting form and precision of geospatial coordinates. If, for example, a coordinate is extracted from Google Maps, it contains six decimal places by default. The spatial precision to six decimal places may not indicate the level of precision we have about the ancient findspot, but rather it refers to the method of their creation.\n",
    "\n",
    "The present-day coordinates as they are in the EDH are derived from major Open Source projects such as Pleiades, Trismegistos or from an internal EDH database of Places, all providing a stable URI of the location. Any error or imprecision in the LOD dataset, however, is inherited in the EDH as well. The coordinates in the EDH were either selected from an existing pool of locations in the mentioned major databases, or created ad hoc during the data-entry phase in the last two decades. To prevent any inheritance of errors, each inscription in EDH is curated by a ‘responsible individual’ who maintains the quality of information stored in individual XML files. Our current analysis is fully reliant on the accuracy of data provided by EDH."
   ]
  },
  {
   "cell_type": "markdown",
   "metadata": {},
   "source": [
    "```R code```"
   ]
  },
  {
   "cell_type": "markdown",
   "metadata": {},
   "source": [
    "#### Chronological information in EDH\n",
    "Chronological information is in the EDH database distributed across six attributes, either as textual or numeric values representing the most probable date of an inscription. The date is stored as an interval between the two points in time, represented by attributes ‘not before’ and ‘not after’. \n",
    "\n",
    "The `not_before` attribute represents the earliest possible year when the inscription was created. The `not_before` attribute is available for 59,788 (73.38 % of all) inscriptions in the EDH, ranging from 530 BC to AD 901 (excluding the dates from 19th and 20th century AD). The `not_after` attribute stands for the latest possible year when the inscription was created. The `not_after` attribute is available for 56,281 (69.08 % of all) inscriptions, covering the time range from 503 BC to 950 AD, excluding the 16th and 20th century outliers. For computational reasons and the ease of use, all the dates in Epidoc XML and in the EDH API have been simplified into the four digits, representing a year, e.g. `-0143` stands for 143 BC, `0036` stands for AD 36. Both numeric attributes are present in 56,281 inscriptions (69.08 % of all), with the average length of the interval between the two dates as 120.5 years. \n",
    "\n",
    "For most of the texts, the EDH API nor the raw XML files provide any additional information on how precise the date is or which dating method was used to determine the exact date. The original Epidoc XML files provide a reference to a dating system used, such as the Julian calendar, but any other details are not available in the digital dataset. If such information was available in the original paper publication, it did not get transferred to the EDH. Occasional comments in the attribute ‘commentary’ provide only sporadically chronological information, and if so, then only as unconstrained text, that is computationally difficult to access. Thus, we have to trust the decisions made by editors of the original volumes and the responsible personnel from the EDH team and use the data in the form provided. The existence of computer accessible dates enables us to study: \n",
    "* chronological trends of epigraphic production over time, \n",
    "* trends in the precision of dating over the entire corpus,\n",
    "\n",
    "as is demonstrated in the Analysis section."
   ]
  },
  {
   "cell_type": "markdown",
   "metadata": {},
   "source": [
    "```R code```"
   ]
  },
  {
   "cell_type": "markdown",
   "metadata": {},
   "source": [
    "#### Textual information in EDH\n",
    "The text of an inscription was available to 81,473 records, representing 99,99 % of the entire dataset. The text contained a large number of symbols and editorial marks preventing any meaningful computational analysis of the text. We have created a cleaning pipeline, eliminating most of the problematic symbols while maintaining the integrity of the text, for details see the methodological section.\n",
    "\n",
    "The cumulative length of texts of all inscriptions before cleaning was ranged between 1.81 to 1.89 million words, depending on the counting method. After the cleaning, the text of all inscriptions contained between 1.14 and 1.22 million words."
   ]
  },
  {
   "cell_type": "markdown",
   "metadata": {},
   "source": [
    "```R code```"
   ]
  },
  {
   "cell_type": "markdown",
   "metadata": {},
   "source": [
    "### Epigraphik Datenbank Clauss-Slaby\n",
    "\n",
    "The Epigraphik Datenbank Clauss-Slaby ([EDCS](http://www.manfredclauss.de/)) represents the largest digital resource for Latin epigraphy. It contains information for over 500,000 inscriptions previously published in print, covering the entire Mediterranean from 7th c. BC to the 10th c. AD. We have specifically chosen the EDCS for its unparalleled spatial and temporal coverage, being aware of its limitations.\n",
    "\n",
    "The original project of Prof. Manfred Clauss and Dr. Wolfgang A. Slaby, currently hosted by the Catholic University Eichstätt-Ingolstadt, dates back to 1980 and its main goal was to create one digital source for all Latin inscriptions. The project is constantly being developed and new inscriptions are being added to the database in 2021 and published in the [EDCS Journal](http://db.edcs.eu/epigr/hinweise/edcs-journal.php?s_language=en).  The EDCS website states the database contains 817,455 sets of data, of which 521,696 are inscriptions, 22,232 places and 184,323 datings (info from 12 Dec 2020). The database combines data from 37 other [digital sources](http://db.edcs.eu/epigr/hinweise/verbindung.html). One of the sources is also EDH, but only about 91 % (74,313 inscriptions) of the data is available through EDCS and with a limited number of attributes than in the original source.\n",
    "\n",
    "The license is not specified as in the case of EDH, making the data *‘subject to copyright and other laws for the protection of intellectual property’*. The access to the database is via a web interface allowing users to search for predefined attributes, such as province, place, material, date and of course the text of the inscription. However, the search results can be only visualised on the website, or copied manually one-by-one. Moreover, if one wants to quote the results of their search, the website does not provide unique identifiers, nor preserve the search results in any format. Thus, the web interface is not intended for quantitative research, yet it currently represents the only public access point to the data. \n",
    "\n",
    "The EDCS represents the largest epigraphic database in existence but potentially due to its size, contains shortcomings and inconsistencies (Elliott 2014,80-81). For example, the attribute containing text of inscription have a form of freetext transcription extracted from published editions. Unfortunately, the attribute along with the text of inscriptions contain also a relatively large amount of non-related data, such as notes, commentaries or bibliographical information that was not part of the original text of the inscriptions. We have spent a lot of time trying to streamline such inaccuracies and we are hoping to share our results with EDCS in order to improve the accuracy of the dataset. \n",
    "\n",
    "Another issue of data accessibility that has a potential to influence results of any comparative study is the inconsistent data output on the web interface concerning the total numbers of inscriptions in individual provinces. To provide an example, if we search using the web interface for all inscriptions coming from province Roma (search term `province` = `Roma`), the website states there are 121,165 inscriptions from Rome. But when we count individual record IDs and their associated attributes, we get only 90,531 individual records. Therefore, there is a discrepancy of 30,364 records, either caused by the rendering limitations of the website limitations or the calculation algor number of `inscriptions found` on the [website](http://db.edcs.eu/epigr/epikl_ergebnis.php) is incorrect. However, this particular issue has been only noted with the province Roma, with the other provinces the number of unique IDs was corresponding with the calculated total number of inscriptions.\n",
    "\n",
    "Even for its known shortcomings, EDCS represents the largest digital corpus for Latin inscriptions that is publicly available online and accessible to simple search. We had to come up with several and technological solutions to be able to perform quantitative research, which we will discuss in more detail in the methodological section.\n",
    "   "
   ]
  },
  {
   "cell_type": "markdown",
   "metadata": {},
   "source": [
    "#### Contents of EDCS\n",
    "The EDCS web search interface contains 16 attributes providing spatial and temporal metadata, object metadata, as well as the text of an inscription, its typological categorisation, bibliographical references and links to related digital sources and photos where available. We have accessed the dataset on 9 December 2020 when the [web interface](http://db.edcs.eu/epigr/epi.php?s_sprache=en) contained 500,536 inscriptions in total."
   ]
  },
  {
   "cell_type": "code",
   "execution_count": 44,
   "metadata": {},
   "outputs": [
    {
     "name": "stdout",
     "output_type": "stream",
     "text": [
      "reading file located in a public folder\n"
     ]
    },
    {
     "data": {
      "text/html": [
       "<div>\n",
       "<style scoped>\n",
       "    .dataframe tbody tr th:only-of-type {\n",
       "        vertical-align: middle;\n",
       "    }\n",
       "\n",
       "    .dataframe tbody tr th {\n",
       "        vertical-align: top;\n",
       "    }\n",
       "\n",
       "    .dataframe thead th {\n",
       "        text-align: right;\n",
       "    }\n",
       "</style>\n",
       "<table border=\"1\" class=\"dataframe\">\n",
       "  <thead>\n",
       "    <tr style=\"text-align: right;\">\n",
       "      <th></th>\n",
       "      <th>EDCS-ID</th>\n",
       "      <th>publication</th>\n",
       "      <th>province</th>\n",
       "      <th>province_list</th>\n",
       "      <th>place</th>\n",
       "      <th>place_list</th>\n",
       "      <th>end_yr_list</th>\n",
       "      <th>notes_dating</th>\n",
       "      <th>status_list</th>\n",
       "      <th>inscr_type</th>\n",
       "      <th>...</th>\n",
       "      <th>dating from</th>\n",
       "      <th>dating to</th>\n",
       "      <th>start_yr</th>\n",
       "      <th>end_yr_1</th>\n",
       "      <th>status</th>\n",
       "      <th>Latitude</th>\n",
       "      <th>Longitude</th>\n",
       "      <th>photo</th>\n",
       "      <th>Material</th>\n",
       "      <th>Comment</th>\n",
       "    </tr>\n",
       "  </thead>\n",
       "  <tbody>\n",
       "    <tr>\n",
       "      <th>0</th>\n",
       "      <td>EDCS-31400030</td>\n",
       "      <td>CIL 03, 12297</td>\n",
       "      <td>Achaia</td>\n",
       "      <td>Achaia</td>\n",
       "      <td>?</td>\n",
       "      <td>?</td>\n",
       "      <td>{}</td>\n",
       "      <td></td>\n",
       "      <td>{}</td>\n",
       "      <td>{}</td>\n",
       "      <td>...</td>\n",
       "      <td>NaN</td>\n",
       "      <td>NaN</td>\n",
       "      <td>NaN</td>\n",
       "      <td>NaN</td>\n",
       "      <td>NaN</td>\n",
       "      <td>NaN</td>\n",
       "      <td>NaN</td>\n",
       "      <td>NaN</td>\n",
       "      <td>NaN</td>\n",
       "      <td>NaN</td>\n",
       "    </tr>\n",
       "    <tr>\n",
       "      <th>1</th>\n",
       "      <td>EDCS-24700151</td>\n",
       "      <td>CIL 01, 02650 (p 1097) = IG-05-01, 00741 = ILL...</td>\n",
       "      <td>Achaia</td>\n",
       "      <td>Achaia</td>\n",
       "      <td>Afesou</td>\n",
       "      <td>Afesou</td>\n",
       "      <td>{}</td>\n",
       "      <td></td>\n",
       "      <td>{}</td>\n",
       "      <td>{}</td>\n",
       "      <td>...</td>\n",
       "      <td>NaN</td>\n",
       "      <td>NaN</td>\n",
       "      <td>NaN</td>\n",
       "      <td>NaN</td>\n",
       "      <td>NaN</td>\n",
       "      <td>NaN</td>\n",
       "      <td>NaN</td>\n",
       "      <td>NaN</td>\n",
       "      <td>NaN</td>\n",
       "      <td>NaN</td>\n",
       "    </tr>\n",
       "    <tr>\n",
       "      <th>2</th>\n",
       "      <td>EDCS-24900077</td>\n",
       "      <td>CIL 01, 00746 (p 944) = D 00867 = ILLRP 00374 ...</td>\n",
       "      <td>Achaia</td>\n",
       "      <td>Achaia</td>\n",
       "      <td>Agia Triada / Merbaka / Midea</td>\n",
       "      <td>[Agia Triada, Merbaka, Midea]</td>\n",
       "      <td>-68</td>\n",
       "      <td></td>\n",
       "      <td>[officium/professio, ordo senatorius, tituli h...</td>\n",
       "      <td>tituli honorarii</td>\n",
       "      <td>...</td>\n",
       "      <td>-68</td>\n",
       "      <td>-68</td>\n",
       "      <td>-68.0</td>\n",
       "      <td>-68.0</td>\n",
       "      <td>officium/professio; ordo senatorius; tituli ho...</td>\n",
       "      <td>37.6381128</td>\n",
       "      <td>22.8052991</td>\n",
       "      <td>http://db.edcs.eu/epigr/bilder.php?bilder.php?...</td>\n",
       "      <td>NaN</td>\n",
       "      <td>NaN</td>\n",
       "    </tr>\n",
       "    <tr>\n",
       "      <th>3</th>\n",
       "      <td>EDCS-03700724</td>\n",
       "      <td>ZPE-108-159 = Thesprotia 00001 = AE 1993, 0140...</td>\n",
       "      <td>Achaia</td>\n",
       "      <td>Achaia</td>\n",
       "      <td>Agios Athanasios / Photike</td>\n",
       "      <td>[Agios Athanasios, Photike]</td>\n",
       "      <td>313</td>\n",
       "      <td></td>\n",
       "      <td>[Augusti/Augustae, litterae erasae, ordo eques...</td>\n",
       "      <td>tituli honorarii</td>\n",
       "      <td>...</td>\n",
       "      <td>309</td>\n",
       "      <td>313</td>\n",
       "      <td>309.0</td>\n",
       "      <td>313.0</td>\n",
       "      <td>Augusti/Augustae; litterae erasae; ordo equest...</td>\n",
       "      <td>39.4512182</td>\n",
       "      <td>20.7667673</td>\n",
       "      <td>http://db.edcs.eu/epigr/bilder.php?bilder.php?...</td>\n",
       "      <td>NaN</td>\n",
       "      <td>NaN</td>\n",
       "    </tr>\n",
       "    <tr>\n",
       "      <th>4</th>\n",
       "      <td>EDCS-55701593</td>\n",
       "      <td>AE 2009, 01286a</td>\n",
       "      <td>Achaia</td>\n",
       "      <td>Achaia</td>\n",
       "      <td>Agios Donatos / Photike</td>\n",
       "      <td>[Agios Donatos, Photike]</td>\n",
       "      <td>{}</td>\n",
       "      <td></td>\n",
       "      <td>[sigilla impressa, tituli fabricationis]</td>\n",
       "      <td>tituli fabricationis</td>\n",
       "      <td>...</td>\n",
       "      <td>NaN</td>\n",
       "      <td>NaN</td>\n",
       "      <td>NaN</td>\n",
       "      <td>NaN</td>\n",
       "      <td>sigilla impressa; tituli fabricationis</td>\n",
       "      <td>39.4759759</td>\n",
       "      <td>20.5069076</td>\n",
       "      <td>NaN</td>\n",
       "      <td>opus figlinae</td>\n",
       "      <td>NaN</td>\n",
       "    </tr>\n",
       "  </tbody>\n",
       "</table>\n",
       "<p>5 rows × 29 columns</p>\n",
       "</div>"
      ],
      "text/plain": [
       "         EDCS-ID                                        publication province  \\\n",
       "0  EDCS-31400030                                      CIL 03, 12297   Achaia   \n",
       "1  EDCS-24700151  CIL 01, 02650 (p 1097) = IG-05-01, 00741 = ILL...   Achaia   \n",
       "2  EDCS-24900077  CIL 01, 00746 (p 944) = D 00867 = ILLRP 00374 ...   Achaia   \n",
       "3  EDCS-03700724  ZPE-108-159 = Thesprotia 00001 = AE 1993, 0140...   Achaia   \n",
       "4  EDCS-55701593                                    AE 2009, 01286a   Achaia   \n",
       "\n",
       "  province_list                          place                     place_list  \\\n",
       "0        Achaia                              ?                              ?   \n",
       "1        Achaia                         Afesou                         Afesou   \n",
       "2        Achaia  Agia Triada / Merbaka / Midea  [Agia Triada, Merbaka, Midea]   \n",
       "3        Achaia     Agios Athanasios / Photike    [Agios Athanasios, Photike]   \n",
       "4        Achaia        Agios Donatos / Photike       [Agios Donatos, Photike]   \n",
       "\n",
       "  end_yr_list notes_dating                                        status_list  \\\n",
       "0          {}                                                              {}   \n",
       "1          {}                                                              {}   \n",
       "2         -68               [officium/professio, ordo senatorius, tituli h...   \n",
       "3         313               [Augusti/Augustae, litterae erasae, ordo eques...   \n",
       "4          {}                        [sigilla impressa, tituli fabricationis]   \n",
       "\n",
       "             inscr_type  ... dating from dating to start_yr end_yr_1  \\\n",
       "0                    {}  ...         NaN       NaN      NaN      NaN   \n",
       "1                    {}  ...         NaN       NaN      NaN      NaN   \n",
       "2      tituli honorarii  ...         -68       -68    -68.0    -68.0   \n",
       "3      tituli honorarii  ...         309       313    309.0    313.0   \n",
       "4  tituli fabricationis  ...         NaN       NaN      NaN      NaN   \n",
       "\n",
       "                                              status    Latitude   Longitude  \\\n",
       "0                                                NaN         NaN         NaN   \n",
       "1                                                NaN         NaN         NaN   \n",
       "2  officium/professio; ordo senatorius; tituli ho...  37.6381128  22.8052991   \n",
       "3  Augusti/Augustae; litterae erasae; ordo equest...  39.4512182  20.7667673   \n",
       "4             sigilla impressa; tituli fabricationis  39.4759759  20.5069076   \n",
       "\n",
       "                                               photo       Material Comment  \n",
       "0                                                NaN            NaN     NaN  \n",
       "1                                                NaN            NaN     NaN  \n",
       "2  http://db.edcs.eu/epigr/bilder.php?bilder.php?...            NaN     NaN  \n",
       "3  http://db.edcs.eu/epigr/bilder.php?bilder.php?...            NaN     NaN  \n",
       "4                                                NaN  opus figlinae     NaN  \n",
       "\n",
       "[5 rows x 29 columns]"
      ]
     },
     "execution_count": 44,
     "metadata": {},
     "output_type": "execute_result"
    }
   ],
   "source": [
    "# Loading the EDCS dataset from public folder on Sciencedata.dk using sddk package\n",
    "\n",
    "publicfolder = \"1f5f56d09903fe259c0906add8b3a55e\"\n",
    "EDCS = sddk.read_file(\"EDCS_text_cleaned_2021-03-01.json\", \"df\", publicfolder)\n",
    "EDCS.head(5)"
   ]
  },
  {
   "cell_type": "markdown",
   "metadata": {},
   "source": [
    "#### Language of inscriptions in EDCS\n",
    "Although EDCS aims to collect primarily on Latin inscriptions, representing 95.39 % of the entire corpus, in some cases inscriptions in other languages are recorded. The information about language is not recorded as a separate attribute, but rather it is inserted into the text of the inscription as an abbreviation in double quotes, e.g. `“GR”`, `“ETR”`, `“PUN”` etc. Latin language is not recorded with the assumption that all inscriptions are Latin, unless stated otherwise. The only way to extract the total number of Latin inscriptions, is to separate all notations of other languages into a separate attribute and count only the records where the language attribute is empty. Thus we are potentially counting also inscriptions where the language is not known or not recorded, but the structure of EDCS does not provide any means to distinguish between truly empty records or records that are in Latin language. \n",
    "\n",
    "The second numerous group are inscriptions that contain at least one word in Greek, representing 4.38 % of the entire corpus (21,933 inscriptions). It is worth noting, the metadata of the Greek inscriptions are in the EDCS recorded but the text itself of the inscriptions is, unfortunately, missing. Thus, the text of inscriptions is available only for 95,8 % of all inscriptions in the EDCS.\n",
    "\n",
    "From other language groups, EDCS contains data for inscriptions in Iberian, Etruscan, Punic, Hebraic, Oscan and at least a dozen other languages but they seem to be recorded rather episodically (less than 0.3 % in total). Similarly as in the case of EDH, the contents of EDCS reflect epigraphic traditions of the Latin speaking world throughout the Mediterranean. The Greek publishing communities are not in EDCS recorded systematically and thus serve only as a reminder that some publishing communities were bi- or trilingual.\n"
   ]
  },
  {
   "cell_type": "markdown",
   "metadata": {},
   "source": [
    "``` R code```"
   ]
  },
  {
   "cell_type": "markdown",
   "metadata": {},
   "source": [
    "#### Spatial information in EDCS\n",
    "Similarly as in the case of EDH dataset, EDCS provides spatial metadata connected with an findspot of an inscription in the form of text or geospatial coordinates. The textual description of the findspot can be broken into several categories, such as the name of an ancient settlement and Roman province. In comparison with EDH, EDCS dataset provides fewer textual attributes with spatial information. However, geo-coordinates in numeric form  are present for most inscriptions and they prove to be the most important attributes for quantified spatial analysis. \n",
    "\n",
    "The total of 486,699 inscriptions representing 97.23 % of the entire dataset contains spatial coordinates determining their findspot on the Earth’s surface. The precision of the coordinates vary from zero decimal places up to seven decimal places, which in the real world translates as a range between 11.1 km to 11 mm. From all records with recorded coordinates, in over 82 % cases the coordinate attribute contains seven decimal places, suggesting the dataset can be very precisely located with a precision around 1 cm. In reality, that is never the case and the precision usually ranges between several hundred metres to few kilometres in ideal cases (REF Janouchova 2014 [TBA]).\n",
    "\n",
    "As already discussed in the case of EDH, most epigraphic datasets were created before the wide availability of GPS and as such the spatial information should be approached as legacy data with a varying degree of imprecision. The coordinates of legacy data on their own do not represent the best measure to determine the accuracy of the original findspot as they tend to reflect the process of their creation in bulk, for example when extracting from LOD sites, such as [Trismegistos](https://www.trismegistos.org/index.php) or [Pleiades](https://pleiades.stoa.org/), or simply when manually transferring Latitude and Longitude from Google Maps. Unfortunately, the digital sources often do not provide further information on the provenance, i.e. whether the inscription was found in situ or in its secondary context, transferred to a church or built into a wall. Until such information is made available in digital corpora, the available coordinates even with their known biases and limitations represent the best geospatial resource in hand.\n",
    "\n",
    "When we compare the coordinates from EDH with EDCS, the majority of EDH dataset (86 %) contains only four decimal digits at maximum precision, while the majority of EDCS dataset (83 %) has seven decimal places precision. In theory, EDCS should provide more accurate spatial data, but the fewer textual attributes specifying the original findspot suggest otherwise. EDH provides coordinates with precision in metres instead of centimetres, but because it records more detailed descriptions of the original findspot the data are likely a more reliable source of information than EDCS, provided that all EDH records are checked individually by a responsible individual. Due to the extent of EDCS, we are assuming the coordinates were rather assigned in bulk than checked manually one-by-one, leaving more space for inaccuracies."
   ]
  },
  {
   "cell_type": "markdown",
   "metadata": {},
   "source": [
    "``` R code```"
   ]
  },
  {
   "cell_type": "markdown",
   "metadata": {},
   "source": [
    "#### Chronological information in EDCS\n",
    "Chronological information in the EDCS database is distributed across three attributes, either as textual description or a numeric value presented as a text string. The EDCS does not provide any additional information on how precise the date is or which dating method was used for most of the texts. In some cases when more than one dating is available, the variant dating is placed into the attribute containing the text of an inscription which complicates any further analysis and needs to be computationally separated.\n",
    "\n",
    "The attributes `dating to` and `dating from` represent an interval between the two years. Both attributes have a form of free-text and need to be converted to numeric values. In 121 cases the `dating to` attribute contains an alternative dating within the same attribute (as an unconstrained text, with values separated by semicolon). Before any computation operations are possible, we had to preprocess and streamline the attribute (for details see the methodological section). \n",
    "\n",
    "The `dating from` attribute is available for 163,497 representing 32.7 % of all inscriptions, ranging from 700 BC to 901 AD (excluding the dates between 11th and 20th century AD). The `dating to` attribute provides dates for 164,458 inscriptions which corresponds with 32.8 % of the dataset, ranging from 671 BC to 950 AD (excluding the outlier dates between 11th and 20th century AD). Both numeric attributes are present in 163,380 inscriptions (32.6 % of the entire dataset. The average value for the length of the dating interval between `dating from` and `dating to` is 181.87 years. \n",
    "\n",
    "When compared with EDH, EDCS provides some additional 110,000 data points for temporal study, but the overall ratio of dated inscriptions in the entire corpus is twice as low. Therefore any temporal analysis based solely on EDCS has a lower significance than the same analysis performed on the EDH dataset. "
   ]
  },
  {
   "cell_type": "markdown",
   "metadata": {},
   "source": [
    "``` R code```"
   ]
  },
  {
   "cell_type": "markdown",
   "metadata": {},
   "source": [
    "#### Textual information in EDCS\n",
    "Text of an inscription is available for 479,546 inscriptions, representing 95.8 % of all EDCS. The records with missing text of an inscription are mostly Greek or non-Latin. The text attribute contains a large amount of characters, or comments and notes that prevent any meaningful quantitative analysis and therefore had to be computationally streamlined. Before the cleaning the text attribute contained between 7.1 and 6.6 million words, depending on the applied counting method. After the cleaning the text attribute contained between 4.6 and 4.06 million words. The details of the entire process are described in the methodological section."
   ]
  },
  {
   "cell_type": "markdown",
   "metadata": {},
   "source": [
    "``` R code```"
   ]
  },
  {
   "cell_type": "markdown",
   "metadata": {},
   "source": [
    "## Building a Research Pipeline for FAIR and Open Digital Epigraphy\n",
    "\n",
    "### Data access & collection stage\n",
    "\n",
    "Both digital resources provide a different pathway to the data, bringing both technological and ethical issues that are common to researchers working with digital archives. We have approached the data collection part of the research life-cycle as transparent and FAIR as possible, using a series of Python scripts and applications accessible via Github.\n",
    "\n"
   ]
  },
  {
   "cell_type": "markdown",
   "metadata": {},
   "source": [
    "#### When the resource is designed as open\n",
    "\n",
    "*** this section is not finished***\n",
    "- API \n",
    "- Enriching with geography\n",
    "- Repositories, such as Zenodo"
   ]
  },
  {
   "cell_type": "markdown",
   "metadata": {},
   "source": [
    "#### When the resource was not built as open\n",
    "With accessing the EDCS dataset we have encountered different issues. As mentioned above, EDSC web interface is the only gateway to the data but it does not provide an API, nor it saves search results in a reproducible manner. Thus, we have decided to use a Python based digital tool, built  with the permission of Manfred Clauss in collaboration with researchers at Macquarie University in Australia (Ballsun-Stanton, Hermankova, Laurence, REF; https://github.com/mqAncientHistory/EpigraphyScraperNotebook). \n",
    "\n",
    "The tool accesses programmatically the web interface of EDCS and saves the search output as a CSV file with search metadata preserved in the name of the file. Moreover, the tool produces a separate file with the search results mapped along with the system of Roman Provinces and road network, using the DARMC and Pleiades open datasets of the ancient Mediterranean ([REFS TBA]). The main purpose of the tool is to alleviate some of the technological and methodological inefficiencies of EDCS and enable reproducible and quantitative research or Latin inscriptions. In the combination with the cleaning and streamlining procedures mentioned in the next section, any historian is well equipped to perform large scale comparative studies based on epigraphic material. "
   ]
  },
  {
   "cell_type": "markdown",
   "metadata": {},
   "source": [
    "### Data cleaning & streamlining\n",
    "*`We have accessed and enriched the dataset and we are almost ready to start the analysis. Or are we not?`* \n",
    "\n",
    "Unfortunately, having the data accessible, does not often mean they are in the format required by the software. Especially in the case of human-created datasets, typos, inconsistencies, attributes entered incorrectly or missing data are more than common and trying to systematically and programmatically solve these issues consumes most of the time dedicated to research. However, this crucial stage of data stewardship is often disregarded in academic publications, but also when planning and budgeting research projects.\n",
    "\tWe have created four R scripts dealing specifically with cleaning of attributes containing metadata information and epigraphic text. This way, we were able to clean almost thirteen attributes for all the 81,476 records of the EDH dataset, resulting in streamlining of 1,059,188 original values. In the EDH dataset, we have streamlined six attributes for all 500,536 records, resulting in changes made to 3,003,216 original values. Task that would take years of manual editing took approximately three months to complete, including extensive testing and iterative improvements to all four cleaning scripts."
   ]
  },
  {
   "cell_type": "markdown",
   "metadata": {},
   "source": [
    "#### Attribute cleaning and conflation of information\n",
    "\n",
    "* Script for EDH dataset: https://github.com/sdam-au/EDH_ETL/blob/master/scripts/1_4_r_DATASET_ATTRIBUTES_CLEANING.Rmd  \n",
    "* Script for EDCS adataset: https://github.com/sdam-au/EDCS_ETL/blob/master/scripts/1_1_r_EDCS_merge_clean_attrs.Rmd \n",
    "\n",
    "As the first stage of the cleaning phase, we needed to streamline the metadata attributes. Upon the first inspection of the both datasets, we discovered the attributes were often conflating multiple types of information into one. The multiple types of information stored in one attribute go against the principles of data normalization and make any computerized operations difficult, if not impossible. We decided to separate the types of information into new attributes, but keep the original attributes as a control mechanism. However, this way we expanded the size of the original dataset from 51 attributes to 71 in the case of EDH, and from 15 to 27 for the EDCS dataset. \n",
    "\n",
    "As an example of such cleaning may serve the type of an inscription attribute in EDH, that contained textual description of the standard type of an inscripription and information about certainty of such categorisation. We have created new attributes containing only the information about the typology of inscriptions in one (`type_of_inscription_clean`) and the certainty information in other (`type_of_inscription_certainty`). This way we have reduced the number of typological variants from XX to XX [TBA], making any comparisons and calculations straightforward, while keeping the typological classification certainty information separate and ready to be quantified."
   ]
  },
  {
   "cell_type": "markdown",
   "metadata": {},
   "source": [
    "```EXAMPLE OF CODE in R```"
   ]
  },
  {
   "cell_type": "markdown",
   "metadata": {},
   "source": [
    "When dealing with unstructured text, we heavily rely on use of Regular Expressions as the most efficient yet simple tool for pattern matching (e.g., https://regex101.com/; package [stringr for R](https://stringr.tidyverse.org/)). We search for repetitive patterns in the text of the attributes, in order to separate different pieces of information so they can be easily computationally accessed in the later stages of the analysis. To illustrate our approach, we extract information providing a level of spatial uncertainty related to the findspot of an inscription from the textual descriptions of the place. \n",
    "\n",
    "The attribute `findspot_ancient` contained textual descriptions of the original findspot, with specifications of the level of certainty connected to a particular place name, e.g. *“Cumae, bei”, \"Roma?\", \"Emerita Augusta, aus\", \"Bracara Augusta - Lucus Augusti, inter\",\"Epidotium - Ancus, zwischen\"*. We have then created a new attribute (`finsdpot_ancient_certainty`) containing categorical values corresponding with the certainty of localization. This way we were able to extract the measure of uncertainty from all records, save it as a separate piece of information in order to use it as a control measure for the level of precision of geographic coordinates."
   ]
  },
  {
   "cell_type": "markdown",
   "metadata": {},
   "source": [
    "```EXAMPLE OF CODE in R```"
   ]
  },
  {
   "cell_type": "markdown",
   "metadata": {},
   "source": [
    "#### Cleaning of epigraphic text\n",
    "\n",
    "* Script for EDH dataset: https://github.com/sdam-au/EDH_ETL/blob/master/scripts/1_5_r_TEXT_INSCRIPTION_CLEANING.Rmd  \n",
    "* Script for EDCS dataset: https://github.com/sdam-au/EDCS_ETL/blob/master/scripts/1_2_r_EDCS_cleaning_text.Rmd\n",
    "\n",
    "Similarly as the attributes containing metadata have to be transformed to be suitable for computer assisted analysis, the text of an inscription attribute has to be streamlined. Attributes containing the text of an inscription in both sources contained extra symbols, or extra text not present on the original medium, but text entered by mistake during the digitisation.\n",
    "\n",
    "Moreover, the standard text of an inscription is often marked up in accordance with Leiden epigraphic conventions and thus contains a large number of brackets and additional symbols [REF]. The symbols have a crucial importance when communicating the rate of preservation of the text, the level of modern restoration or additional features of the text, such as interpunction or decoration. However useful the Leiden markup system for study of individual inscriptions and their historical significance, it is highly problematic for any quantified study. Human brain is capable of parsing information differently than a computer and what might be straightforward for an epigrapher when reading an inscription with Leiden markup, proves to be a complex task for a computer. To give you an example, the human brain knows the text [Au]relios is the same as the word Aurelios with no markup. However, for computers [Au]relios and Aurelios are two different words and thus would be counted as two separate instances. \t\n"
   ]
  },
  {
   "cell_type": "markdown",
   "metadata": {},
   "source": [
    "```CODE with example of text before cleaning```"
   ]
  },
  {
   "cell_type": "markdown",
   "metadata": {},
   "source": [
    "Our proposed technical solution eliminates the Leiden markup syntax in a systematic way and produces three different versions of the text designed specifically for their intended type of analysis. We have created a series of Regex cleaning blocks, that solve one type of markup at the time, and then we have built them in a cleaning function producing the desired outcome for the analysis of text. The sequence of the blocks in the cleaning functions was built specifically for individual datasets and type of intended analysis, but the cleaning blocks were designed rather generically and can be used to clean any text with Leiden markup conventions.\t\n",
    "\n",
    "The text of an inscription was transformed into two main versions: \n",
    "\n",
    "* A conservative version of the text, contained in the attribute clean_text_conservative. The aim of the conservative text was to have a text with no markup that is as close to the original inscription as preserved on the permanent medium. "
   ]
  },
  {
   "cell_type": "markdown",
   "metadata": {},
   "source": [
    "```CODE with example of conservative text after cleaning```"
   ]
  },
  {
   "cell_type": "markdown",
   "metadata": {},
   "source": [
    "* An interpretive version of the text, contained in the attribute clean_text_interpretive. The interpretive version contains the original text as preserved on a medium enriched with editorial interpretations and reconstructions of the text in order to achieve as rich text of an inscription as possible. For the purpose of NLP analysis, we have created two versions of the interpretive text: one with no interpunction between sentences (clean_text_interpretive_word) and one with preserved interpunction separating individual sentences (clean_text_interpretive_sentence)"
   ]
  },
  {
   "cell_type": "markdown",
   "metadata": {},
   "source": [
    "```CODE with example of interpretive text after cleaning```"
   ]
  },
  {
   "cell_type": "markdown",
   "metadata": {},
   "source": [
    "The cleaning procedure for EDCS dataset was more entailed as the attribute `inscription` contained apart from the text of an inscription in some records also commentary, notes to chronology, bibliographical references and other text, not present on the original inscribed medium. Before we could clean the epigraphic text, we needed to separate the text of an inscription and the non-epigraphic text in a transparent and reproducible way. As we wanted to preserve the information and separate it by its category, we developed an additional cleaning script, using Regex in a specific sequence to clean the epigraphic text, extract the extra information, separate it by category and add to the original dataset. "
   ]
  },
  {
   "cell_type": "markdown",
   "metadata": {},
   "source": [
    "```CODE with example of text before and after cleaning```"
   ]
  },
  {
   "cell_type": "markdown",
   "metadata": {},
   "source": [
    "We have managed to process 1268 inscriptions, representing 0.25 % of the entire dataset in a fraction of time that it would have taken a human to go through all the records and search for potential issues one-by-one. As a direct benefit of the scripted cleaning process to the epigraphic community and to the owners of the digital resource, we are now able to report back to the EDCS the ID numbers of problematic records so they can be fixed for future researchers."
   ]
  },
  {
   "cell_type": "markdown",
   "metadata": {},
   "source": [
    "## Dealing with biases - modelling temporal uncertainty in historical datasets\n",
    "\n",
    "** this section is not finished **\n",
    "\n",
    "Tempun https://github.com/sdam-au/tempun functions explained on epigraphic examples\n",
    "\n",
    "Methodological introduction into modelling of chronological historic datasets."
   ]
  },
  {
   "cell_type": "markdown",
   "metadata": {},
   "source": [
    "Examples in Python"
   ]
  },
  {
   "cell_type": "markdown",
   "metadata": {},
   "source": [
    "## Additional challenges of being FAIR and open\n",
    "\n",
    "(depending on available space - limits not discussed), ** this section is not finished **\n",
    "\n",
    "1. Open research infrastructure vs proprietary tools\n",
    "1. Collaboration: R vs Python exchange, Lists / Data structures btw R and Python, implementing R and Python into one pipeline\n",
    "1. Being FAIR takes time\n"
   ]
  },
  {
   "cell_type": "markdown",
   "metadata": {},
   "source": [
    "## Inscriptions in space and time\n",
    "\n",
    "** this section is not finished **\n",
    "\n",
    "We will use Python function and the datasets to create a chronological pverview of the dataset, using the tempun models and the EDH and EDCS datasets.\n",
    "\n",
    "- Display all inscriptions over time in R, using the reticulate/tempun\n",
    "- Display inscriptions by province over time\n",
    "- Display inscriptions by their type over time\n",
    "- Display all milestones along with roads (and cities), link to DigLit research, Tom's Minerva, Bara etc.\n",
    "\n"
   ]
  },
  {
   "cell_type": "markdown",
   "metadata": {},
   "source": [
    "Python code"
   ]
  },
  {
   "cell_type": "code",
   "execution_count": 54,
   "metadata": {},
   "outputs": [
    {
     "data": {
      "text/plain": [
       "59788"
      ]
     },
     "execution_count": 54,
     "metadata": {},
     "output_type": "execute_result"
    }
   ],
   "source": [
    "# EDH dataset\n",
    "EDH[\"not_after\"] = pd.to_numeric(EDH[\"not_after\"])\n",
    "EDH[\"not_before\"] = pd.to_numeric(EDH[\"not_before\"])\n",
    "\n",
    "### how many of the inscriptions have at least one date\n",
    "EDH_dated = EDH[(EDH[\"not_before\"].notnull()) | (EDH[\"not_after\"].notnull())]\n",
    "len(EDH_dated)"
   ]
  },
  {
   "cell_type": "code",
   "execution_count": 55,
   "metadata": {},
   "outputs": [
    {
     "data": {
      "text/plain": [
       "3507"
      ]
     },
     "execution_count": 55,
     "metadata": {},
     "output_type": "execute_result"
    }
   ],
   "source": [
    "len(EDH_dated[EDH_dated[\"not_after\"].isnull()])"
   ]
  },
  {
   "cell_type": "code",
   "execution_count": 61,
   "metadata": {},
   "outputs": [],
   "source": [
    "# Load and execute script for modelling dates - TEMPUN\n",
    "script_url = \"https://raw.githubusercontent.com/sdam-au/tempun/master/scripts/modelling_distributions.py\"\n",
    "# Execute the script\n",
    "exec(requests.get(script_url).content)"
   ]
  },
  {
   "cell_type": "code",
   "execution_count": 62,
   "metadata": {},
   "outputs": [
    {
     "name": "stdout",
     "output_type": "stream",
     "text": [
      "CPU times: user 57.8 s, sys: 962 ms, total: 58.7 s\n",
      "Wall time: 58.8 s\n"
     ]
    }
   ],
   "source": [
    "%%time\n",
    "# Generate a list of 1000 random dates for each inscription in the dataset\n",
    "\n",
    "EDH[\"random_dates\"] = EDH.apply(lambda row: model_date(row[\"not_before\"], row[\"not_after\"], size=1000,), axis=1)\n"
   ]
  },
  {
   "cell_type": "code",
   "execution_count": 63,
   "metadata": {},
   "outputs": [
    {
     "name": "stdout",
     "output_type": "stream",
     "text": [
      "CPU times: user 5.28 s, sys: 67.4 ms, total: 5.34 s\n",
      "Wall time: 5.33 s\n"
     ]
    }
   ],
   "source": [
    "%%time\n",
    "# Count random dates in temporal bins (timeblocks) in a specified time range\n",
    "\n",
    "EDH_complete_simulations = timeblocks_from_randoms(EDH, \"random_dates\", [-200, 600, 50])"
   ]
  },
  {
   "cell_type": "code",
   "execution_count": 65,
   "metadata": {},
   "outputs": [
    {
     "data": {
      "text/plain": [
       "[((-200, -151), 32),\n",
       " ((-150, -101), 74),\n",
       " ((-100, -51), 228),\n",
       " ((-50, -1), 1035),\n",
       " ((1, 50), 4965),\n",
       " ((51, 100), 6886),\n",
       " ((101, 150), 10478),\n",
       " ((151, 200), 12784),\n",
       " ((201, 250), 11662),\n",
       " ((251, 300), 6092),\n",
       " ((301, 350), 1666),\n",
       " ((351, 400), 1342),\n",
       " ((401, 450), 739),\n",
       " ((451, 500), 604),\n",
       " ((501, 550), 423),\n",
       " ((551, 600), 428)]"
      ]
     },
     "execution_count": 65,
     "metadata": {},
     "output_type": "execute_result"
    }
   ],
   "source": [
    "# Output of the first of 1000 simulations, total numbers of inscriptions counted in timeblocks\n",
    "EDH_complete_simulations[0]"
   ]
  },
  {
   "cell_type": "code",
   "execution_count": 93,
   "metadata": {},
   "outputs": [
    {
     "name": "stdout",
     "output_type": "stream",
     "text": [
      "CPU times: user 9.47 s, sys: 11.1 ms, total: 9.48 s\n",
      "Wall time: 9.48 s\n"
     ]
    }
   ],
   "source": [
    "%%time\n",
    "# Inscriptions by type over time\n",
    "\n",
    "simulations_by_type_len = []\n",
    "\n",
    "for ins_type in EDH[\"type_of_inscription_clean\"].unique():\n",
    "    if ins_type != \"NULL\":\n",
    "        subset_df = EDH[EDH[\"type_of_inscription_clean\"]==ins_type]\n",
    "        simulations_by_type_len.append((ins_type, len(subset_df)))\n",
    "simulations_by_type_len = sorted(simulations_by_type_len, key = lambda x: x[1], reverse=True)\n",
    "simulations_by_type_len\n",
    "\n",
    "simulations_by_type = []\n",
    "\n",
    "for ins_type_tup in simulations_by_type_len[:10]:\n",
    "    subset_df = EDH[EDH[\"type_of_inscription_clean\"]==ins_type_tup[0]]\n",
    "    simulations = timeblocks_from_randoms(subset_df, \"random_dates\", [-200, 600, 25])\n",
    "    ins_type_N =len(subset_df)\n",
    "    simulations_by_type.append([ins_type_tup[0],ins_type_N, simulations]) \n",
    "simulations_by_type = sorted(simulations_by_type, key=lambda x: x[1], reverse=True)\n",
    "\n",
    "date_vars_by_instypes = []\n",
    "for ins_type_tup in simulations_by_type_len[:10]:\n",
    "    subset_df = EDH[EDH[\"type_of_inscription_clean\"]==ins_type_tup[0]]\n",
    "    date_vars = []\n",
    "    for n in range(100):\n",
    "        date_vars.append([date_var[n] for date_var in subset_df[\"random_dates\"] if date_var != None])\n",
    "    date_vars_by_instypes.append(date_vars)\n"
   ]
  },
  {
   "cell_type": "markdown",
   "metadata": {},
   "source": [
    "#### Ten most common types of inscriptions in the EDH over time"
   ]
  },
  {
   "cell_type": "code",
   "execution_count": 94,
   "metadata": {},
   "outputs": [
    {
     "data": {
      "text/plain": [
       "<matplotlib.legend.Legend at 0x7fbdc0e61b00>"
      ]
     },
     "execution_count": 94,
     "metadata": {},
     "output_type": "execute_result"
    },
    {
     "data": {
      "image/png": "[encoded data removed]",
      "text/plain": [
       "<Figure size 1008x576 with 1 Axes>"
      ]
     },
     "metadata": {},
     "output_type": "display_data"
    }
   ],
   "source": [
    "tab_colors_list = list(mcolors.TABLEAU_COLORS.keys())\n",
    "plt.style.use(\"seaborn-white\")\n",
    "\n",
    "fig, ax  = plt.subplots(figsize=(14, 8), tight_layout=True)\n",
    "\n",
    "for ins_type_sims, color in zip(simulations_by_type, tab_colors_list[:len(simulations_by_type)]):\n",
    "    plot_timeblocks_data(ins_type_sims[2], ax=ax, color=color)\n",
    "    \n",
    "ax.set_xlabel(\"date\")\n",
    "ax.set_ylabel(\"count\")\n",
    "ax.set_title(\"Ten most common inscription types over time (EDH dataset)\")\n",
    " \n",
    "markers = [plt.Line2D([0,0],[0,0],color=color, lw=4) for color in tab_colors_list[:len(simulations_by_type)]]\n",
    "plt.legend(markers, [tup[0] for tup in simulations_by_type], numpoints=1,  title=\"Inscription types\", bbox_to_anchor=(1, 1), loc='upper right')"
   ]
  },
  {
   "cell_type": "markdown",
   "metadata": {},
   "source": [
    "## Bibliography\n",
    "\n",
    "** this section is not finished **\n",
    "\n",
    "TBA"
   ]
  }
 ],
 "metadata": {
  "kernelspec": {
   "display_name": "Python 3",
   "language": "python",
   "name": "python3"
  },
  "language_info": {
   "codemirror_mode": {
    "name": "ipython",
    "version": 3
   },
   "file_extension": ".py",
   "mimetype": "text/x-python",
   "name": "python",
   "nbconvert_exporter": "python",
   "pygments_lexer": "ipython3",
   "version": "3.7.3"
  }
 },
 "nbformat": 4,
 "nbformat_minor": 2
}
