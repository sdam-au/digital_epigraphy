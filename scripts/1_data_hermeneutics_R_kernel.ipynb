{
 "cells": [
  {
   "cell_type": "markdown",
   "metadata": {},
   "source": [
    "# Inscriptions as data: digital epigraphy in macro-historical perspective \n",
    "\n",
    "* Petra Hermankova, Aarhus University, https://orcid.org/0000-0002-6349-0540 (corresponding author)\n",
    "* Vojtech Kase, Aarhus University, \n",
    "* Adela Sobotkova, Aarhus University\n"
   ]
  },
  {
   "cell_type": "markdown",
   "metadata": {},
   "source": [
    "## Abstract\n",
    "\n",
    "Inscriptions, as short texts written on a permanent medium, represent invaluable historical evidence of past societies, their organisation, cultural norms and practices, demographic patterns and human past behaviour. Several hundred thousand inscriptions in Greek and Latin language survived until today, providing us with a direct line of evidence to populations of large cities but also of rural communities of the entire Mediterranean Basin in the period between the 8th c. BC and 8th c. AD. Despite the enormous historical potential of inscriptions, large-scale and comparative studies are still rare, even though we live in the age of ample digital tools and online databases. The aim of this article is to demonstrate some of the challenges of macro-scale digital history on the example of online epigraphic resources. We have developed a FAIR and open science pipeline to overcome some of the challenges and biases that are not limited to inscriptions, but are inherent to any historical evidence. Amongst others, we discuss the computational approaches to problematic and incomplete datasets, temporal or spatial uncertainty of historical evidence and assess the suitability of traditional vs proposed solutions for historical research. \n",
    "\tIn the current article, we target primarily the first stages of the research lifecycle, such as data-access and streamlining phase as a key and formative aspect of any historical analysis, that is however often made peripheral in favour of analysis and discussion of results. We document the full research lifecycle of work with digital historical datasets in a series of scripts in R and Python, with primary focus on transparency and reproducibility in order to promote scientific collaboration and advance the historical discipline.\n",
    "We demonstrate our approach on two well-established digital sources for Latin epigraphy, both posing different challenges to any quantitative researcher: Epigraphic Database Heidelberg (EDH) containing over 81,000 of records and Epigraphische Datenbank Clauss-Slaby (EDCS) with 500,000 records.\n",
    "\n"
   ]
  },
  {
   "cell_type": "markdown",
   "metadata": {},
   "source": [
    "## Keywords\n",
    "digital epigraphy; quantitative research; FAIR science; reproducibility; digital history"
   ]
  },
  {
   "cell_type": "markdown",
   "metadata": {},
   "source": [
    "## GitHub\n",
    "https://github.com/sdam-au/digital_epigraphy"
   ]
  },
  {
   "cell_type": "markdown",
   "metadata": {},
   "source": [
    "### Notebook Configuration"
   ]
  },
  {
   "cell_type": "code",
   "execution_count": 1,
   "metadata": {},
   "outputs": [
    {
     "name": "stdout",
     "output_type": "stream",
     "text": [
      "Error in get(genname, envir = envir) : object 'testthat_print' not found\n"
     ]
    },
    {
     "name": "stderr",
     "output_type": "stream",
     "text": [
      "Skipping install of 'sdam' from a github remote, the SHA1 (6b1d1a69) has not changed since last install.\n",
      "  Use `force = TRUE` to force installation\n",
      "\n",
      "Registered S3 methods overwritten by 'tibble':\n",
      "  method     from  \n",
      "  format.tbl pillar\n",
      "  print.tbl  pillar\n",
      "\n",
      "── \u001b[1mAttaching packages\u001b[22m ─────────────────────────────────────── tidyverse 1.3.0 ──\n",
      "\n",
      "\u001b[32m✔\u001b[39m \u001b[34mggplot2\u001b[39m 3.3.0     \u001b[32m✔\u001b[39m \u001b[34mpurrr  \u001b[39m 0.3.4\n",
      "\u001b[32m✔\u001b[39m \u001b[34mtibble \u001b[39m 3.0.3     \u001b[32m✔\u001b[39m \u001b[34mdplyr  \u001b[39m 1.0.2\n",
      "\u001b[32m✔\u001b[39m \u001b[34mtidyr  \u001b[39m 1.1.2     \u001b[32m✔\u001b[39m \u001b[34mstringr\u001b[39m 1.4.0\n",
      "\u001b[32m✔\u001b[39m \u001b[34mreadr  \u001b[39m 1.3.1     \u001b[32m✔\u001b[39m \u001b[34mforcats\u001b[39m 0.5.0\n",
      "\n",
      "── \u001b[1mConflicts\u001b[22m ────────────────────────────────────────── tidyverse_conflicts() ──\n",
      "\u001b[31m✖\u001b[39m \u001b[34mdplyr\u001b[39m::\u001b[32mfilter()\u001b[39m masks \u001b[34mstats\u001b[39m::filter()\n",
      "\u001b[31m✖\u001b[39m \u001b[34mdplyr\u001b[39m::\u001b[32mlag()\u001b[39m    masks \u001b[34mstats\u001b[39m::lag()\n",
      "\n"
     ]
    }
   ],
   "source": [
    "# R requirements (when in R kernel):\n",
    "\n",
    "#install.packages(c(\"reticulate\", \"tidyverse\"))\n",
    "devtools::install_github(\"sdam-au/sdam\")\n",
    "\n",
    "library(reticulate)\n",
    "library(tidyverse)\n",
    "library(sdam)"
   ]
  },
  {
   "cell_type": "markdown",
   "metadata": {},
   "source": [
    "## Introduction\n",
    "Inscriptions represent a diverse yet comparable source for the long-term studies of the ancient Mediterranean communities, including the evolution of demographic trends, migration patterns, changes of the socio-political organisation and cultural development. Estimates suggest over 600,000 Greek and Latin inscriptions have survived until today, but the overall number can be even higher as new inscriptions are published every year (Beltran-Lloris 2014, 135). Inscriptions vary greatly in form and contents, touching almost all aspects of life in an ancient society. The diverse group of texts range from short private messages on objects of daily use to extensive regulations and laws issued by a political authority, or to monumental inscriptions creating a public image and prestige. In contrast with literary texts that were often preserved via the act of multiple copying, the text of inscription has the original unaltered form with all typographical and grammatical errors. Moreover, the inscriptions were produced by a wider demographic group than literary sources, that were often representing only the elite’s point of view. Thus, the diversity of epigraphic sources and their large number make inscriptions an ideal source for macro-historical studies of ancient society.\n",
    "\n",
    "In recent years, large digital corpora containing tens of thousands inscriptions were made accessible to any researcher and published online and yet they remain underutilised as resources for quantitative and comparative studies (Elliott 2014, 80-83). Although the analysis of a large body of inscriptions may seem relatively straightforward from an outsider’s point of view, one has to deal with numerous technological, methodological and even ethical challenges when accessing digital datasets. \n",
    "    \n",
    "We will address some of the challenges of large scale comparative research in the digital age on examples of two well established digital resources: \n",
    "\n",
    "1. Epigraphic Database Heidelberg (EDH), that represents a flagship resource for Latin epigraphers and pioneer in the open and FAIR epigraphy; \n",
    "\n",
    "2. Epigraphic Database Clauss-Slaby, EDCS is the most extensive digital resource for Latin inscriptions, with over 500,000 texts. The overwhelming size of the EDCS unfortunately goes hand in hand with several shortcomings and well known limitations of the dataset. \n",
    "    \n",
    "In accordance with the Open and FAIR science practice, we advocate for transparency during the full research lifecycle, including its preliminary data-collection and access stages. We believe the only way forward for any digital researcher is to document all methodological decisions leading to modifications to the dataset alongside with the raw data and to do so in an open and accessible manner. Thus, all the stages of our project are accessible via public repositories on GitHub and Zenodo under CC-BY-SA 4.0 International license. Should anyone wish to build upon our work, or use the tools or methods we have developed, the provided license clearly states the conditions and thus facilitates the collaborative and inclusive research environment.\n"
   ]
  },
  {
   "cell_type": "markdown",
   "metadata": {},
   "source": [
    "## Data sources\n",
    "\n",
    "We have chosen two well established digital sources for Latin inscriptions, Epigraphic Database Heidelberg and Epigraphic Database Clasuss-Slaby in order to demonstrate the range of challenges a digital historian has to face when doing comparative historical research. We shortly present both sources and contrast their contents in relation to available spatial and chronological metadata and the epigraphic texts, all crucial aspects of quantitative analysis inscriptions over space and time.\n"
   ]
  },
  {
   "cell_type": "markdown",
   "metadata": {},
   "source": [
    "### Epigraphic Database Heidelberg \n",
    "\n",
    "The Epigraphic Database Heidelberg ([EDH](https://edh-www.adw.uni-heidelberg.de/)) represents the flagship digital resource for the discipline of digital epigraphy with over 30 years of development and high quality of its outputs. Thus, the EDH dataset with more than 81,000 inscriptions provides a representative sample of the total body of inscriptions from the Mediterranean dating from the 6th century BC to the 9th century AD covering most of the area of the former Roman Empire.\n",
    "\n",
    "EDH is one of the pioneers of digital and open epigraphy, providing access to high standard digital resources. The original [aim of the project](https://edh-www.adw.uni-heidelberg.de/projekt/konzept) financed by the Heidelberg Academy of Sciences And Humanities is to *“to render the epigraphic documentation of the provinces of the Roman Empire as completely and reliably as possible for online research work”* . The EDH follows the FAIR principles: all data of the Open Data Repository can be reused under the CC BY-SA 4.0 [licence](https://edh-www.adw.uni-heidelberg.de/data), making an ideal candidate for quantitative research on epigraphic cultures of the Mediterranean. \n",
    "\n",
    "The data is accessible via public API ([Application Programming Interface](https://edh-www.adw.uni-heidelberg.de/data/api)) and its editors are responsible for the quality of data entry as noted directly in individual XML files. Alternatively, the data can be accessed in raw Epidoc XML files, either directly on the website, GitHub pages or through Zenodo archive. However, based on the personal communication in 2020 with the maintainer of the EDH digital archive Frank Grieshaber, the API contains the most updated version of the data and will do so until the end of 2021. The accessibility of the future of the dataset beyond 2022 will be ensured by the release of the data-archives on Zenodo and on GitHub. As of March 2021, the phase of active data-entry is planned to finish in December 2021 with the end support by the Heidelberg Academy of Sciences.\n"
   ]
  },
  {
   "cell_type": "markdown",
   "metadata": {},
   "source": [
    "#### Contents of the EDH\n",
    "In June 2019 the authors claimed the database contained over 1.4 million metadata fields, averaging 18 metadata fields per inscription (Grieshaber 2019). As of September 2020, the EDH contained over 81,476 inscriptions, almost 40,000 photographs, 30,000+ locations and over 16,000 bibliographical publications.\t\n",
    "\n",
    "The EDH API provides direct access to the latest data, containing 11 attributes providing spatial and temporal metadata, object metadata, as well as the text of an inscription, its typological categorisation, bibliographical references and links to related digital sources and photos. Geospatial data are stored separately in the Geo API, as well as bulk dump with individual XML files containing additional metadata not present in the EDH API. We have combined all three sources to obtain as rich a resource as possible. After initial streamlining and cleaning of our dataset contains data from all the tree sources in 74 attributes, a dataset set which we use to demonstrate our approach. We have accessed the data on 22 September 2020 through the APIs and the XML dumps available via the project’s website and extracted a dataset containing 81,476 inscriptions in total. We will discuss the entire access and preprocessing of the dataset and the technological solutions in the methodological section. "
   ]
  },
  {
   "cell_type": "code",
   "execution_count": 2,
   "metadata": {},
   "outputs": [],
   "source": [
    "# Loading the EDH dataset from public folder on Sciencedata.dk using sddk package\n",
    "\n",
    "# Implement with sdam\n",
    "resp = sdam::request(\"EDH_text_cleaned_2021-01-21.json\", path=\"public/b6b6afdb969d378b70929e86e58ad975/\", method=\"GET\", anonymous = TRUE)\n",
    "list_json <- jsonlite::fromJSON(resp)\n",
    "EDH = as_tibble(list_json)"
   ]
  },
  {
   "cell_type": "code",
   "execution_count": 6,
   "metadata": {},
   "outputs": [
    {
     "data": {
      "text/html": [
       "<table class=\"dataframe\">\n",
       "<caption>A tibble: 3 × 74</caption>\n",
       "<thead>\n",
       "\t<tr><th scope=col>responsible_individual</th><th scope=col>type_of_inscription</th><th scope=col>letter_size</th><th scope=col>not_after</th><th scope=col>literature</th><th scope=col>work_status</th><th scope=col>height</th><th scope=col>diplomatic_text</th><th scope=col>people</th><th scope=col>depth</th><th scope=col>⋯</th><th scope=col>clean_text_conservative</th><th scope=col>clean_text_interpretive_word</th><th scope=col>clean_text_interpretive_sentence</th><th scope=col>findspot</th><th scope=col>year_of_find</th><th scope=col>present_location</th><th scope=col>religion</th><th scope=col>geography</th><th scope=col>social_economic_legal_history</th><th scope=col>military</th></tr>\n",
       "\t<tr><th scope=col>&lt;chr&gt;</th><th scope=col>&lt;chr&gt;</th><th scope=col>&lt;chr&gt;</th><th scope=col>&lt;chr&gt;</th><th scope=col>&lt;chr&gt;</th><th scope=col>&lt;chr&gt;</th><th scope=col>&lt;chr&gt;</th><th scope=col>&lt;chr&gt;</th><th scope=col>&lt;list&gt;</th><th scope=col>&lt;chr&gt;</th><th scope=col>⋯</th><th scope=col>&lt;chr&gt;</th><th scope=col>&lt;chr&gt;</th><th scope=col>&lt;chr&gt;</th><th scope=col>&lt;chr&gt;</th><th scope=col>&lt;chr&gt;</th><th scope=col>&lt;chr&gt;</th><th scope=col>&lt;chr&gt;</th><th scope=col>&lt;chr&gt;</th><th scope=col>&lt;chr&gt;</th><th scope=col>&lt;chr&gt;</th></tr>\n",
       "</thead>\n",
       "<tbody>\n",
       "\t<tr><td>Feraudi</td><td>epitaph              </td><td>3.2-2 cm</td><td>0130</td><td>AE 1983, 0192.; M. Annecchino, Puteoli 4/5, 1980/81, 286-287, Nr. 17; fig. 17. (C) - AE 1983.</td><td>provisional</td><td>33 cm  </td><td>D M / NONIAE P F OPTATAE / ET C IVLIO ARTEMONI / PARENTIBVS / LIBERTIS LIBERTABVSQVE / POSTERISQVE EORVM / C IVLIVS C F OPTATVS / FILIVS</td><td>Noniae P.f. Optatae   , C. Iulio Artemoni     , C. Iulius C.f. Optatus, Optata                , Artemo                , Optatus               , Nonia                 , Iulius                , Iulius                , 1                     , 2                     , 3                     , female                , male                  , male                  , NA                    , C.                    , C.                    </td><td>2.7 cm </td><td>⋯</td><td>D M Noniae P f Optatae et C Iulio Artemoni parentibus libertis libertabus que posteris que eorum C Iulius C f Optatus filius</td><td>Dis Manibus Noniae Publi filiae Optatae et Caio Iulio Artemoni parentibus libertis libertabus que posteris que eorum Caius Iulius Cai filius Optatus filius</td><td>Dis Manibus Noniae Publi filiae Optatae et Caio Iulio Artemoni parentibus libertis libertabus que posteris que eorum Caius Iulius Cai filius Optatus filius</td><td>NA                                  </td><td>NA         </td><td>NA                   </td><td>NA</td><td>NA</td><td>NA</td><td>NA</td></tr>\n",
       "\t<tr><td>Feraudi</td><td>epitaph              </td><td>4 cm    </td><td>0200</td><td>AE 1983, 0080. (A); A. Ferrua, RAL 36, 1981, 109, Nr. 7. - AE 1983.                          </td><td>no image   </td><td>28 cm  </td><td>C SEXTIVS PARIS / QVI VIXIT / ANNIS LXX                                                                                                 </td><td>Sextius         , C.              , 1               , 70              , Paris           , male            , C. Sextius Paris</td><td>NA     </td><td>⋯</td><td>C Sextius Paris qui vixit annis LXX                                                                                         </td><td>Caius Sextius Paris qui vixit annis LXX                                                                                                                    </td><td>Caius Sextius Paris qui vixit annis LXX                                                                                                                    </td><td>Via Nomentana, S. Alessandro, Kirche</td><td>1937       </td><td>NA                   </td><td>NA</td><td>NA</td><td>NA</td><td>NA</td></tr>\n",
       "\t<tr><td>Feraudi</td><td>honorific inscription</td><td>4.5-3 cm</td><td>0170</td><td>AE 1983, 0518. (B); J. González, ZPE 52, 1983, 172-173; Taf. 5b. (B) - AE.                   </td><td>provisional</td><td>(37) cm</td><td>[ ]VMMIO [ ] / [ ]ISENNA[ ] / [ ] XV[ ] / [ ] / [                                                                                       </td><td>Mummius+                                    , male                                        , P.+                                         , 1                                           , Galeria+                                    , [P. M]ummio [P.f. Gal. S]isenna[e Rutiliano], senatorial order                            , Sisenna+ Rutilianus+                        </td><td>(12) cm</td><td>⋯</td><td>ummio isenna Xv                                                                                                             </td><td>Publio Mummio Publi filio Galeria Sisennae Rutiliano X viro stlitibus iudicandis                                                                           </td><td>Publio Mummio Publi filio Galeria Sisennae Rutiliano X viro stlitibus iudicandis                                                                           </td><td>NA                                  </td><td>before 1975</td><td>Sevilla, Privatbesitz</td><td>NA</td><td>NA</td><td>NA</td><td>NA</td></tr>\n",
       "</tbody>\n",
       "</table>\n"
      ],
      "text/latex": [
       "A tibble: 3 × 74\n",
       "\\begin{tabular}{lllllllllllllllllllll}\n",
       " responsible\\_individual & type\\_of\\_inscription & letter\\_size & not\\_after & literature & work\\_status & height & diplomatic\\_text & people & depth & ⋯ & clean\\_text\\_conservative & clean\\_text\\_interpretive\\_word & clean\\_text\\_interpretive\\_sentence & findspot & year\\_of\\_find & present\\_location & religion & geography & social\\_economic\\_legal\\_history & military\\\\\n",
       " <chr> & <chr> & <chr> & <chr> & <chr> & <chr> & <chr> & <chr> & <list> & <chr> & ⋯ & <chr> & <chr> & <chr> & <chr> & <chr> & <chr> & <chr> & <chr> & <chr> & <chr>\\\\\n",
       "\\hline\n",
       "\t Feraudi & epitaph               & 3.2-2 cm & 0130 & AE 1983, 0192.; M. Annecchino, Puteoli 4/5, 1980/81, 286-287, Nr. 17; fig. 17. (C) - AE 1983. & provisional & 33 cm   & D M / NONIAE P F OPTATAE / ET C IVLIO ARTEMONI / PARENTIBVS / LIBERTIS LIBERTABVSQVE / POSTERISQVE EORVM / C IVLIVS C F OPTATVS / FILIVS & Noniae P.f. Optatae   , C. Iulio Artemoni     , C. Iulius C.f. Optatus, Optata                , Artemo                , Optatus               , Nonia                 , Iulius                , Iulius                , 1                     , 2                     , 3                     , female                , male                  , male                  , NA                    , C.                    , C.                     & 2.7 cm  & ⋯ & D M Noniae P f Optatae et C Iulio Artemoni parentibus libertis libertabus que posteris que eorum C Iulius C f Optatus filius & Dis Manibus Noniae Publi filiae Optatae et Caio Iulio Artemoni parentibus libertis libertabus que posteris que eorum Caius Iulius Cai filius Optatus filius & Dis Manibus Noniae Publi filiae Optatae et Caio Iulio Artemoni parentibus libertis libertabus que posteris que eorum Caius Iulius Cai filius Optatus filius & NA                                   & NA          & NA                    & NA & NA & NA & NA\\\\\n",
       "\t Feraudi & epitaph               & 4 cm     & 0200 & AE 1983, 0080. (A); A. Ferrua, RAL 36, 1981, 109, Nr. 7. - AE 1983.                           & no image    & 28 cm   & C SEXTIVS PARIS / QVI VIXIT / ANNIS LXX                                                                                                  & Sextius         , C.              , 1               , 70              , Paris           , male            , C. Sextius Paris & NA      & ⋯ & C Sextius Paris qui vixit annis LXX                                                                                          & Caius Sextius Paris qui vixit annis LXX                                                                                                                     & Caius Sextius Paris qui vixit annis LXX                                                                                                                     & Via Nomentana, S. Alessandro, Kirche & 1937        & NA                    & NA & NA & NA & NA\\\\\n",
       "\t Feraudi & honorific inscription & 4.5-3 cm & 0170 & AE 1983, 0518. (B); J. González, ZPE 52, 1983, 172-173; Taf. 5b. (B) - AE.                    & provisional & (37) cm & {[} {]}VMMIO {[} {]} / {[} {]}ISENNA{[} {]} / {[} {]} XV{[} {]} / {[} {]} / {[}                                                                                        & Mummius+                                    , male                                        , P.+                                         , 1                                           , Galeria+                                    , {[}P. M{]}ummio {[}P.f. Gal. S{]}isenna{[}e Rutiliano{]}, senatorial order                            , Sisenna+ Rutilianus+                         & (12) cm & ⋯ & ummio isenna Xv                                                                                                              & Publio Mummio Publi filio Galeria Sisennae Rutiliano X viro stlitibus iudicandis                                                                            & Publio Mummio Publi filio Galeria Sisennae Rutiliano X viro stlitibus iudicandis                                                                            & NA                                   & before 1975 & Sevilla, Privatbesitz & NA & NA & NA & NA\\\\\n",
       "\\end{tabular}\n"
      ],
      "text/markdown": [
       "\n",
       "A tibble: 3 × 74\n",
       "\n",
       "| responsible_individual &lt;chr&gt; | type_of_inscription &lt;chr&gt; | letter_size &lt;chr&gt; | not_after &lt;chr&gt; | literature &lt;chr&gt; | work_status &lt;chr&gt; | height &lt;chr&gt; | diplomatic_text &lt;chr&gt; | people &lt;list&gt; | depth &lt;chr&gt; | ⋯ ⋯ | clean_text_conservative &lt;chr&gt; | clean_text_interpretive_word &lt;chr&gt; | clean_text_interpretive_sentence &lt;chr&gt; | findspot &lt;chr&gt; | year_of_find &lt;chr&gt; | present_location &lt;chr&gt; | religion &lt;chr&gt; | geography &lt;chr&gt; | social_economic_legal_history &lt;chr&gt; | military &lt;chr&gt; |\n",
       "|---|---|---|---|---|---|---|---|---|---|---|---|---|---|---|---|---|---|---|---|---|\n",
       "| Feraudi | epitaph               | 3.2-2 cm | 0130 | AE 1983, 0192.; M. Annecchino, Puteoli 4/5, 1980/81, 286-287, Nr. 17; fig. 17. (C) - AE 1983. | provisional | 33 cm   | D M / NONIAE P F OPTATAE / ET C IVLIO ARTEMONI / PARENTIBVS / LIBERTIS LIBERTABVSQVE / POSTERISQVE EORVM / C IVLIVS C F OPTATVS / FILIVS | Noniae P.f. Optatae   , C. Iulio Artemoni     , C. Iulius C.f. Optatus, Optata                , Artemo                , Optatus               , Nonia                 , Iulius                , Iulius                , 1                     , 2                     , 3                     , female                , male                  , male                  , NA                    , C.                    , C.                     | 2.7 cm  | ⋯ | D M Noniae P f Optatae et C Iulio Artemoni parentibus libertis libertabus que posteris que eorum C Iulius C f Optatus filius | Dis Manibus Noniae Publi filiae Optatae et Caio Iulio Artemoni parentibus libertis libertabus que posteris que eorum Caius Iulius Cai filius Optatus filius | Dis Manibus Noniae Publi filiae Optatae et Caio Iulio Artemoni parentibus libertis libertabus que posteris que eorum Caius Iulius Cai filius Optatus filius | NA                                   | NA          | NA                    | NA | NA | NA | NA |\n",
       "| Feraudi | epitaph               | 4 cm     | 0200 | AE 1983, 0080. (A); A. Ferrua, RAL 36, 1981, 109, Nr. 7. - AE 1983.                           | no image    | 28 cm   | C SEXTIVS PARIS / QVI VIXIT / ANNIS LXX                                                                                                  | Sextius         , C.              , 1               , 70              , Paris           , male            , C. Sextius Paris | NA      | ⋯ | C Sextius Paris qui vixit annis LXX                                                                                          | Caius Sextius Paris qui vixit annis LXX                                                                                                                     | Caius Sextius Paris qui vixit annis LXX                                                                                                                     | Via Nomentana, S. Alessandro, Kirche | 1937        | NA                    | NA | NA | NA | NA |\n",
       "| Feraudi | honorific inscription | 4.5-3 cm | 0170 | AE 1983, 0518. (B); J. González, ZPE 52, 1983, 172-173; Taf. 5b. (B) - AE.                    | provisional | (37) cm | [ ]VMMIO [ ] / [ ]ISENNA[ ] / [ ] XV[ ] / [ ] / [                                                                                        | Mummius+                                    , male                                        , P.+                                         , 1                                           , Galeria+                                    , [P. M]ummio [P.f. Gal. S]isenna[e Rutiliano], senatorial order                            , Sisenna+ Rutilianus+                         | (12) cm | ⋯ | ummio isenna Xv                                                                                                              | Publio Mummio Publi filio Galeria Sisennae Rutiliano X viro stlitibus iudicandis                                                                            | Publio Mummio Publi filio Galeria Sisennae Rutiliano X viro stlitibus iudicandis                                                                            | NA                                   | before 1975 | Sevilla, Privatbesitz | NA | NA | NA | NA |\n",
       "\n"
      ],
      "text/plain": [
       "  responsible_individual type_of_inscription   letter_size not_after\n",
       "1 Feraudi                epitaph               3.2-2 cm    0130     \n",
       "2 Feraudi                epitaph               4 cm        0200     \n",
       "3 Feraudi                honorific inscription 4.5-3 cm    0170     \n",
       "  literature                                                                                   \n",
       "1 AE 1983, 0192.; M. Annecchino, Puteoli 4/5, 1980/81, 286-287, Nr. 17; fig. 17. (C) - AE 1983.\n",
       "2 AE 1983, 0080. (A); A. Ferrua, RAL 36, 1981, 109, Nr. 7. - AE 1983.                          \n",
       "3 AE 1983, 0518. (B); J. González, ZPE 52, 1983, 172-173; Taf. 5b. (B) - AE.                   \n",
       "  work_status height \n",
       "1 provisional 33 cm  \n",
       "2 no image    28 cm  \n",
       "3 provisional (37) cm\n",
       "  diplomatic_text                                                                                                                         \n",
       "1 D M / NONIAE P F OPTATAE / ET C IVLIO ARTEMONI / PARENTIBVS / LIBERTIS LIBERTABVSQVE / POSTERISQVE EORVM / C IVLIVS C F OPTATVS / FILIVS\n",
       "2 C SEXTIVS PARIS / QVI VIXIT / ANNIS LXX                                                                                                 \n",
       "3 [ ]VMMIO [ ] / [ ]ISENNA[ ] / [ ] XV[ ] / [ ] / [                                                                                       \n",
       "  people                                                                                                                                                                                                                                                                                                                                                                                                                                        \n",
       "1 Noniae P.f. Optatae   , C. Iulio Artemoni     , C. Iulius C.f. Optatus, Optata                , Artemo                , Optatus               , Nonia                 , Iulius                , Iulius                , 1                     , 2                     , 3                     , female                , male                  , male                  , NA                    , C.                    , C.                    \n",
       "2 Sextius         , C.              , 1               , 70              , Paris           , male            , C. Sextius Paris                                                                                                                                                                                                                                                                                                                  \n",
       "3 Mummius+                                    , male                                        , P.+                                         , 1                                           , Galeria+                                    , [P. M]ummio [P.f. Gal. S]isenna[e Rutiliano], senatorial order                            , Sisenna+ Rutilianus+                                                                                        \n",
       "  depth   ⋯\n",
       "1 2.7 cm  ⋯\n",
       "2 NA      ⋯\n",
       "3 (12) cm ⋯\n",
       "  clean_text_conservative                                                                                                     \n",
       "1 D M Noniae P f Optatae et C Iulio Artemoni parentibus libertis libertabus que posteris que eorum C Iulius C f Optatus filius\n",
       "2 C Sextius Paris qui vixit annis LXX                                                                                         \n",
       "3 ummio isenna Xv                                                                                                             \n",
       "  clean_text_interpretive_word                                                                                                                               \n",
       "1 Dis Manibus Noniae Publi filiae Optatae et Caio Iulio Artemoni parentibus libertis libertabus que posteris que eorum Caius Iulius Cai filius Optatus filius\n",
       "2 Caius Sextius Paris qui vixit annis LXX                                                                                                                    \n",
       "3 Publio Mummio Publi filio Galeria Sisennae Rutiliano X viro stlitibus iudicandis                                                                           \n",
       "  clean_text_interpretive_sentence                                                                                                                           \n",
       "1 Dis Manibus Noniae Publi filiae Optatae et Caio Iulio Artemoni parentibus libertis libertabus que posteris que eorum Caius Iulius Cai filius Optatus filius\n",
       "2 Caius Sextius Paris qui vixit annis LXX                                                                                                                    \n",
       "3 Publio Mummio Publi filio Galeria Sisennae Rutiliano X viro stlitibus iudicandis                                                                           \n",
       "  findspot                             year_of_find present_location     \n",
       "1 NA                                   NA           NA                   \n",
       "2 Via Nomentana, S. Alessandro, Kirche 1937         NA                   \n",
       "3 NA                                   before 1975  Sevilla, Privatbesitz\n",
       "  religion geography social_economic_legal_history military\n",
       "1 NA       NA        NA                            NA      \n",
       "2 NA       NA        NA                            NA      \n",
       "3 NA       NA        NA                            NA      "
      ]
     },
     "metadata": {},
     "output_type": "display_data"
    }
   ],
   "source": [
    "# Displaying the first three records\n",
    "EDH[1:3,]"
   ]
  },
  {
   "cell_type": "markdown",
   "metadata": {},
   "source": [
    "#### Language of inscriptions in EDH\n",
    "The vast majority of the 81,476 inscriptions recorded in the EDH database is written in Latin (97.57 % of all inscriptions). Greek inscriptions represent 1.58 %, combined Greek-Latin inscriptions 0.81 % and the rest consisting of other Mediterranean languages such as Phoenician, Punic, Celtic, Hebrew, Iberian, Italic, Numidian or Palmyrenic and their combination with mostly Latin. Therefore, the EDH dataset predominantly represents epigraphic cultures publishing in Latin, rather than all epigraphic languages of the Mediterranean. We have to bear in mind, the EDH dataset does not provide a representative sample for Greek writing cultures of the Roman East, although the EDH dataset covers the Latin inscriptions from Eastern Mediterranean."
   ]
  },
  {
   "cell_type": "markdown",
   "metadata": {},
   "source": [
    "```R code```"
   ]
  },
  {
   "cell_type": "code",
   "execution_count": 11,
   "metadata": {},
   "outputs": [
    {
     "data": {
      "text/html": [
       "<table class=\"dataframe\">\n",
       "<caption>A data.frame: 15 × 4</caption>\n",
       "<thead>\n",
       "\t<tr><th scope=col>Var1</th><th scope=col>Freq</th><th scope=col>Percentage</th><th scope=col>Percent_round</th></tr>\n",
       "\t<tr><th scope=col>&lt;fct&gt;</th><th scope=col>&lt;int&gt;</th><th scope=col>&lt;dbl&gt;</th><th scope=col>&lt;dbl&gt;</th></tr>\n",
       "</thead>\n",
       "<tbody>\n",
       "\t<tr><td>Celtic               </td><td>    1</td><td> 0.001227355</td><td> 0.00</td></tr>\n",
       "\t<tr><td>Celtic-Latin         </td><td>    4</td><td> 0.004909421</td><td> 0.00</td></tr>\n",
       "\t<tr><td>Greek                </td><td> 1290</td><td> 1.583288330</td><td> 1.58</td></tr>\n",
       "\t<tr><td>Greek-Hebrew-Latin   </td><td>    1</td><td> 0.001227355</td><td> 0.00</td></tr>\n",
       "\t<tr><td>Greek-Latin          </td><td>  654</td><td> 0.802690363</td><td> 0.80</td></tr>\n",
       "\t<tr><td>Hebrew-Iberian-Latin </td><td>    1</td><td> 0.001227355</td><td> 0.00</td></tr>\n",
       "\t<tr><td>Hebrew-Latin         </td><td>    4</td><td> 0.004909421</td><td> 0.00</td></tr>\n",
       "\t<tr><td>Iberian-Latin        </td><td>    1</td><td> 0.001227355</td><td> 0.00</td></tr>\n",
       "\t<tr><td>Italic-Latin         </td><td>    2</td><td> 0.002454711</td><td> 0.00</td></tr>\n",
       "\t<tr><td>Latin                </td><td>79495</td><td>97.568609161</td><td>97.57</td></tr>\n",
       "\t<tr><td>LG                   </td><td>    1</td><td> 0.001227355</td><td> 0.00</td></tr>\n",
       "\t<tr><td>Numidian             </td><td>    3</td><td> 0.003682066</td><td> 0.00</td></tr>\n",
       "\t<tr><td>Palmyrenic-Latin     </td><td>    3</td><td> 0.003682066</td><td> 0.00</td></tr>\n",
       "\t<tr><td>Phonician-Punic-Latin</td><td>   12</td><td> 0.014728264</td><td> 0.01</td></tr>\n",
       "\t<tr><td>PyGL                 </td><td>    3</td><td> 0.003682066</td><td> 0.00</td></tr>\n",
       "</tbody>\n",
       "</table>\n"
      ],
      "text/latex": [
       "A data.frame: 15 × 4\n",
       "\\begin{tabular}{llll}\n",
       " Var1 & Freq & Percentage & Percent\\_round\\\\\n",
       " <fct> & <int> & <dbl> & <dbl>\\\\\n",
       "\\hline\n",
       "\t Celtic                &     1 &  0.001227355 &  0.00\\\\\n",
       "\t Celtic-Latin          &     4 &  0.004909421 &  0.00\\\\\n",
       "\t Greek                 &  1290 &  1.583288330 &  1.58\\\\\n",
       "\t Greek-Hebrew-Latin    &     1 &  0.001227355 &  0.00\\\\\n",
       "\t Greek-Latin           &   654 &  0.802690363 &  0.80\\\\\n",
       "\t Hebrew-Iberian-Latin  &     1 &  0.001227355 &  0.00\\\\\n",
       "\t Hebrew-Latin          &     4 &  0.004909421 &  0.00\\\\\n",
       "\t Iberian-Latin         &     1 &  0.001227355 &  0.00\\\\\n",
       "\t Italic-Latin          &     2 &  0.002454711 &  0.00\\\\\n",
       "\t Latin                 & 79495 & 97.568609161 & 97.57\\\\\n",
       "\t LG                    &     1 &  0.001227355 &  0.00\\\\\n",
       "\t Numidian              &     3 &  0.003682066 &  0.00\\\\\n",
       "\t Palmyrenic-Latin      &     3 &  0.003682066 &  0.00\\\\\n",
       "\t Phonician-Punic-Latin &    12 &  0.014728264 &  0.01\\\\\n",
       "\t PyGL                  &     3 &  0.003682066 &  0.00\\\\\n",
       "\\end{tabular}\n"
      ],
      "text/markdown": [
       "\n",
       "A data.frame: 15 × 4\n",
       "\n",
       "| Var1 &lt;fct&gt; | Freq &lt;int&gt; | Percentage &lt;dbl&gt; | Percent_round &lt;dbl&gt; |\n",
       "|---|---|---|---|\n",
       "| Celtic                |     1 |  0.001227355 |  0.00 |\n",
       "| Celtic-Latin          |     4 |  0.004909421 |  0.00 |\n",
       "| Greek                 |  1290 |  1.583288330 |  1.58 |\n",
       "| Greek-Hebrew-Latin    |     1 |  0.001227355 |  0.00 |\n",
       "| Greek-Latin           |   654 |  0.802690363 |  0.80 |\n",
       "| Hebrew-Iberian-Latin  |     1 |  0.001227355 |  0.00 |\n",
       "| Hebrew-Latin          |     4 |  0.004909421 |  0.00 |\n",
       "| Iberian-Latin         |     1 |  0.001227355 |  0.00 |\n",
       "| Italic-Latin          |     2 |  0.002454711 |  0.00 |\n",
       "| Latin                 | 79495 | 97.568609161 | 97.57 |\n",
       "| LG                    |     1 |  0.001227355 |  0.00 |\n",
       "| Numidian              |     3 |  0.003682066 |  0.00 |\n",
       "| Palmyrenic-Latin      |     3 |  0.003682066 |  0.00 |\n",
       "| Phonician-Punic-Latin |    12 |  0.014728264 |  0.01 |\n",
       "| PyGL                  |     3 |  0.003682066 |  0.00 |\n",
       "\n"
      ],
      "text/plain": [
       "   Var1                  Freq  Percentage   Percent_round\n",
       "1  Celtic                    1  0.001227355  0.00        \n",
       "2  Celtic-Latin              4  0.004909421  0.00        \n",
       "3  Greek                  1290  1.583288330  1.58        \n",
       "4  Greek-Hebrew-Latin        1  0.001227355  0.00        \n",
       "5  Greek-Latin             654  0.802690363  0.80        \n",
       "6  Hebrew-Iberian-Latin      1  0.001227355  0.00        \n",
       "7  Hebrew-Latin              4  0.004909421  0.00        \n",
       "8  Iberian-Latin             1  0.001227355  0.00        \n",
       "9  Italic-Latin              2  0.002454711  0.00        \n",
       "10 Latin                 79495 97.568609161 97.57        \n",
       "11 LG                        1  0.001227355  0.00        \n",
       "12 Numidian                  3  0.003682066  0.00        \n",
       "13 Palmyrenic-Latin          3  0.003682066  0.00        \n",
       "14 Phonician-Punic-Latin    12  0.014728264  0.01        \n",
       "15 PyGL                      3  0.003682066  0.00        "
      ]
     },
     "metadata": {},
     "output_type": "display_data"
    }
   ],
   "source": [
    "language<- as.data.frame(table(unlist(EDH$language)))\n",
    "language<- language %>% \n",
    "  mutate(Percentage = Freq/(nrow(EDH)/100))\n",
    "language$Percent_round<- round(language$Percentage, digits = 2)\n",
    "language"
   ]
  },
  {
   "cell_type": "markdown",
   "metadata": {},
   "source": [
    "#### Spatial information in EDH\n",
    "EDH records spatial metadata of the findspot of an inscription either in the form of textual description of the findspot, that can be broken into several categories, such as the name of ancient settlement, Roman Province, modern country, region of modern place name, or alternatively place of the present location of the inscription, and as geospatial coordinates. \n",
    "\n",
    "The numeric geospatial coordinates denote an exact location on the surface of the Earth, making them an ideal candidate for quantified analysis. Their numeric format provides a computationally accessible means of placing the findspot on a map. Then we can relatively easily explore any occurring spatial patterns, such as their clustering in the proximity of large settlements or roads, commercial hubs or religious sanctuaries. Of the total 81,476 inscriptions in the EDH, the 97 % has assigned geospatial coordinates that enable us to place them on a map, while 2,464 inscriptions have missing geospatial coordinates (3 % of all inscriptions). \n",
    "\n",
    "The precision of the coordinates vary from zero decimal places to four decimal places (e.g. 42 or 42.3681). One decimal place in real life represents a precision up to 11.1 km, two decimal places 1.1 km, three decimal places 110 m and four decimal places corresponds with 11 m precision of locating the exact position on the Earth’s surface. Over 85 % of the EDH dataset contain coordinates with four decimal places, suggesting the majority of the dataset can be securely placed on a map with 11 m margin of error. The reality might be less optimistic and the margin of error is likely to be in the range of several hundreds of metres or few kilometres in the best cases. The precision of the numeric coordinates, however, may reflect several other factors, than the precise localization of the findspot on Earth’s surface. Several of the factors influencing how many decimal places the coordinates contain are: \n",
    "* the detail of knowledge of the original findspot as preserved in legacy data, \n",
    "* the result of the granularity of georeferencing method during the process of digitisation, \n",
    "* the quality of the adopted linked open dataset.\n",
    "\n",
    "As the geospatial coordinates did not exist when most of the inscriptions were found and published, they had to be reconstructed on the basis of textual description of the location given by the author of the editio princeps (e.g. also known as georeferencing of legacy data). The precision of such textual descriptions highly vary: we can thus pinpoint the location of some inscriptions to one spot, street or archaeological site, whilst others were found in the vicinity of place X, or between place Y and Z. The accuracy of geospatial coordinates depends also on the amount of available legacy data on the original findspot of the inscription. Generally, inscriptions where the ancient findspot is known and can be associated with an existing archaeological site, have the most precise coordinates (with the most decimal numbers). Coordinates of inscriptions, where only the name of the Roman province or modern country is known, tend to have a low accuracy, represented by fewer decimal numbers of their coordinates. \n",
    "\n",
    "The process of digitisation of legacy data containing spatial elements may also influence the resulting form and precision of geospatial coordinates. If, for example, a coordinate is extracted from Google Maps, it contains six decimal places by default. The spatial precision to six decimal places may not indicate the level of precision we have about the ancient findspot, but rather it refers to the method of their creation.\n",
    "\n",
    "The present-day coordinates as they are in the EDH are derived from major Open Source projects such as Pleiades, Trismegistos or from an internal EDH database of Places, all providing a stable URI of the location. Any error or imprecision in the LOD dataset, however, is inherited in the EDH as well. The coordinates in the EDH were either selected from an existing pool of locations in the mentioned major databases, or created ad hoc during the data-entry phase in the last two decades. To prevent any inheritance of errors, each inscription in EDH is curated by a ‘responsible individual’ who maintains the quality of information stored in individual XML files. Our current analysis is fully reliant on the accuracy of data provided by EDH."
   ]
  },
  {
   "cell_type": "markdown",
   "metadata": {},
   "source": [
    "```R code```"
   ]
  },
  {
   "cell_type": "markdown",
   "metadata": {},
   "source": [
    "```R code```"
   ]
  },
  {
   "cell_type": "code",
   "execution_count": 22,
   "metadata": {},
   "outputs": [
    {
     "name": "stderr",
     "output_type": "stream",
     "text": [
      "Warning message in stri_count_regex(string, pattern, opts_regex = opts(pattern)):\n",
      "“argument is not an atomic vector; coercing”\n"
     ]
    },
    {
     "data": {
      "text/html": [
       "79012"
      ],
      "text/latex": [
       "79012"
      ],
      "text/markdown": [
       "79012"
      ],
      "text/plain": [
       "[1] 79012"
      ]
     },
     "metadata": {},
     "output_type": "display_data"
    },
    {
     "name": "stderr",
     "output_type": "stream",
     "text": [
      "Warning message in stri_count_regex(string, pattern, opts_regex = opts(pattern)):\n",
      "“argument is not an atomic vector; coercing”\n"
     ]
    },
    {
     "data": {
      "text/html": [
       "96.9757965535863"
      ],
      "text/latex": [
       "96.9757965535863"
      ],
      "text/markdown": [
       "96.9757965535863"
      ],
      "text/plain": [
       "[1] 96.9758"
      ]
     },
     "metadata": {},
     "output_type": "display_data"
    }
   ],
   "source": [
    "location<- EDH %>% \n",
    "  select(id, coordinates, findspot_ancient, findspot_ancient_clean, findspot_ancient_certainty, province_label, province_label_clean, province_label_certainty, country, country_clean, country_certainty, modern_region, modern_region_clean, modern_region_certainty, findspot_modern, findspot_modern_clean, findspot_modern_certainty, findspot, findspot_clean, findspot_certainty, present_location, edh_geography_uri, commentary)\n",
    "\n",
    "# how many inscriptions have spatial coordinates available\n",
    "nrow(EDH)-sum(str_count(location$coordinates, \"list()\"))\n",
    "                    \n",
    "# how many % of inscriptions have spatial coordinates available\n",
    "(nrow(EDH)-sum(str_count(location$coordinates, \"list()\")))/(nrow(EDH)/100)"
   ]
  },
  {
   "cell_type": "code",
   "execution_count": 23,
   "metadata": {},
   "outputs": [
    {
     "name": "stderr",
     "output_type": "stream",
     "text": [
      "Warning message:\n",
      "“Expected 2 pieces. Missing pieces filled with `NA` in 2464 rows [20, 34, 64, 71, 94, 149, 212, 221, 296, 311, 356, 382, 388, 390, 405, 406, 409, 412, 418, 421, ...].”\n"
     ]
    }
   ],
   "source": [
    "location <- location %>% \n",
    "  separate(col = coordinates, into = c(\"latitude\", \"longitude\"), sep = \",\", remove = FALSE) %>% \n",
    "  mutate(latitude = str_extract(latitude, \"[-]*\\\\d{1,2}\\\\.\\\\d+\")) %>% \n",
    "  mutate(longitude = str_extract(longitude, \"[-]*\\\\d{1,2}\\\\.\\\\d+\"))"
   ]
  },
  {
   "cell_type": "code",
   "execution_count": 24,
   "metadata": {},
   "outputs": [],
   "source": [
    "# Function to count decimal places\n",
    "\n",
    "decimalplaces <- function(x) {\n",
    "  x_str <- toString(x)\n",
    "  x_str<- str_split(x_str, \"\\\\.\")\n",
    "  nchar(x_str[[1]][2])\n",
    "}"
   ]
  },
  {
   "cell_type": "code",
   "execution_count": 20,
   "metadata": {},
   "outputs": [
    {
     "data": {
      "text/html": [
       "<table class=\"dataframe\">\n",
       "<caption>A data.frame: 5 × 3</caption>\n",
       "<thead>\n",
       "\t<tr><th scope=col>decimals</th><th scope=col>n</th><th scope=col>percent</th></tr>\n",
       "\t<tr><th scope=col>&lt;int&gt;</th><th scope=col>&lt;int&gt;</th><th scope=col>&lt;dbl&gt;</th></tr>\n",
       "</thead>\n",
       "<tbody>\n",
       "\t<tr><td> 4</td><td>69727</td><td>85.5798026</td></tr>\n",
       "\t<tr><td> 3</td><td> 6275</td><td> 7.7016545</td></tr>\n",
       "\t<tr><td>NA</td><td> 2626</td><td> 3.2230350</td></tr>\n",
       "\t<tr><td> 2</td><td> 2180</td><td> 2.6756345</td></tr>\n",
       "\t<tr><td> 1</td><td>  668</td><td> 0.8198733</td></tr>\n",
       "</tbody>\n",
       "</table>\n"
      ],
      "text/latex": [
       "A data.frame: 5 × 3\n",
       "\\begin{tabular}{lll}\n",
       " decimals & n & percent\\\\\n",
       " <int> & <int> & <dbl>\\\\\n",
       "\\hline\n",
       "\t  4 & 69727 & 85.5798026\\\\\n",
       "\t  3 &  6275 &  7.7016545\\\\\n",
       "\t NA &  2626 &  3.2230350\\\\\n",
       "\t  2 &  2180 &  2.6756345\\\\\n",
       "\t  1 &   668 &  0.8198733\\\\\n",
       "\\end{tabular}\n"
      ],
      "text/markdown": [
       "\n",
       "A data.frame: 5 × 3\n",
       "\n",
       "| decimals &lt;int&gt; | n &lt;int&gt; | percent &lt;dbl&gt; |\n",
       "|---|---|---|\n",
       "|  4 | 69727 | 85.5798026 |\n",
       "|  3 |  6275 |  7.7016545 |\n",
       "| NA |  2626 |  3.2230350 |\n",
       "|  2 |  2180 |  2.6756345 |\n",
       "|  1 |   668 |  0.8198733 |\n",
       "\n"
      ],
      "text/plain": [
       "  decimals n     percent   \n",
       "1  4       69727 85.5798026\n",
       "2  3        6275  7.7016545\n",
       "3 NA        2626  3.2230350\n",
       "4  2        2180  2.6756345\n",
       "5  1         668  0.8198733"
      ]
     },
     "metadata": {},
     "output_type": "display_data"
    }
   ],
   "source": [
    "## Precision of Latitude in decimal numbers\n",
    "\n",
    "lat_df<- as.data.frame(location$latitude) %>%  \n",
    "  mutate(decimals = unlist(map(location$latitude, decimalplaces)))\n",
    "lat_df_count<- lat_df %>% \n",
    "  count(decimals, sort = T) %>% \n",
    "  mutate(percent = n/(sum(n)/100))\n",
    "lat_df_count"
   ]
  },
  {
   "cell_type": "code",
   "execution_count": 21,
   "metadata": {},
   "outputs": [
    {
     "data": {
      "text/html": [
       "<table class=\"dataframe\">\n",
       "<caption>A data.frame: 5 × 3</caption>\n",
       "<thead>\n",
       "\t<tr><th scope=col>decimals</th><th scope=col>n</th><th scope=col>percent</th></tr>\n",
       "\t<tr><th scope=col>&lt;int&gt;</th><th scope=col>&lt;int&gt;</th><th scope=col>&lt;dbl&gt;</th></tr>\n",
       "</thead>\n",
       "<tbody>\n",
       "\t<tr><td> 4</td><td>70748</td><td>86.8329324</td></tr>\n",
       "\t<tr><td> 3</td><td> 5674</td><td> 6.9640139</td></tr>\n",
       "\t<tr><td>NA</td><td> 2565</td><td> 3.1481663</td></tr>\n",
       "\t<tr><td> 2</td><td> 1879</td><td> 2.3062006</td></tr>\n",
       "\t<tr><td> 1</td><td>  610</td><td> 0.7486867</td></tr>\n",
       "</tbody>\n",
       "</table>\n"
      ],
      "text/latex": [
       "A data.frame: 5 × 3\n",
       "\\begin{tabular}{lll}\n",
       " decimals & n & percent\\\\\n",
       " <int> & <int> & <dbl>\\\\\n",
       "\\hline\n",
       "\t  4 & 70748 & 86.8329324\\\\\n",
       "\t  3 &  5674 &  6.9640139\\\\\n",
       "\t NA &  2565 &  3.1481663\\\\\n",
       "\t  2 &  1879 &  2.3062006\\\\\n",
       "\t  1 &   610 &  0.7486867\\\\\n",
       "\\end{tabular}\n"
      ],
      "text/markdown": [
       "\n",
       "A data.frame: 5 × 3\n",
       "\n",
       "| decimals &lt;int&gt; | n &lt;int&gt; | percent &lt;dbl&gt; |\n",
       "|---|---|---|\n",
       "|  4 | 70748 | 86.8329324 |\n",
       "|  3 |  5674 |  6.9640139 |\n",
       "| NA |  2565 |  3.1481663 |\n",
       "|  2 |  1879 |  2.3062006 |\n",
       "|  1 |   610 |  0.7486867 |\n",
       "\n"
      ],
      "text/plain": [
       "  decimals n     percent   \n",
       "1  4       70748 86.8329324\n",
       "2  3        5674  6.9640139\n",
       "3 NA        2565  3.1481663\n",
       "4  2        1879  2.3062006\n",
       "5  1         610  0.7486867"
      ]
     },
     "metadata": {},
     "output_type": "display_data"
    }
   ],
   "source": [
    "## Precision of Longitude in decimal numbers\n",
    "\n",
    "long_df<- as.data.frame(location$longitude) %>%  \n",
    "  mutate(decimals = unlist(map(location$longitude, decimalplaces)))\n",
    "long_df_count<- long_df %>% \n",
    "  count(decimals, sort = T) %>% \n",
    "  mutate(percent = n/(sum(n)/100))\n",
    "long_df_count"
   ]
  },
  {
   "cell_type": "markdown",
   "metadata": {},
   "source": [
    "#### Chronological information in EDH\n",
    "Chronological information is in the EDH database distributed across six attributes, either as textual or numeric values representing the most probable date of an inscription. The date is stored as an interval between the two points in time, represented by attributes ‘not before’ and ‘not after’. \n",
    "\n",
    "The `not_before` attribute represents the earliest possible year when the inscription was created. The `not_before` attribute is available for 59,788 (73.38 % of all) inscriptions in the EDH, ranging from 530 BC to AD 901 (excluding the dates from 19th and 20th century AD). The `not_after` attribute stands for the latest possible year when the inscription was created. The `not_after` attribute is available for 56,281 (69.08 % of all) inscriptions, covering the time range from 503 BC to 950 AD, excluding the 16th and 20th century outliers. For computational reasons and the ease of use, all the dates in Epidoc XML and in the EDH API have been simplified into the four digits, representing a year, e.g. `-0143` stands for 143 BC, `0036` stands for AD 36. Both numeric attributes are present in 56,281 inscriptions (69.08 % of all), with the average length of the interval between the two dates as 120.5 years. \n",
    "\n",
    "For most of the texts, the EDH API nor the raw XML files provide any additional information on how precise the date is or which dating method was used to determine the exact date. The original Epidoc XML files provide a reference to a dating system used, such as the Julian calendar, but any other details are not available in the digital dataset. If such information was available in the original paper publication, it did not get transferred to the EDH. Occasional comments in the attribute ‘commentary’ provide only sporadically chronological information, and if so, then only as unconstrained text, that is computationally difficult to access. Thus, we have to trust the decisions made by editors of the original volumes and the responsible personnel from the EDH team and use the data in the form provided. The existence of computer accessible dates enables us to study: \n",
    "* chronological trends of epigraphic production over time, \n",
    "* trends in the precision of dating over the entire corpus,\n",
    "\n",
    "as is demonstrated in the Analysis section."
   ]
  },
  {
   "cell_type": "markdown",
   "metadata": {},
   "source": [
    "```R code```"
   ]
  },
  {
   "cell_type": "markdown",
   "metadata": {},
   "source": [
    "#### Textual information in EDH\n",
    "The text of an inscription was available to 81,473 records, representing 99,99 % of the entire dataset. The text contained a large number of symbols and editorial marks preventing any meaningful computational analysis of the text. We have created a cleaning pipeline, eliminating most of the problematic symbols while maintaining the integrity of the text, for details see the methodological section.\n",
    "\n",
    "The cumulative length of texts of all inscriptions before cleaning was ranged between 1.81 to 1.89 million words, depending on the counting method. After the cleaning, the text of all inscriptions contained between 1.14 and 1.22 million words."
   ]
  },
  {
   "cell_type": "code",
   "execution_count": 42,
   "metadata": {},
   "outputs": [],
   "source": [
    "texts <- EDH %>%\n",
    "  select(text_edition, clean_text_conservative, clean_text_interpretive_word, clean_text_interpretive_sentence, transcription)"
   ]
  },
  {
   "cell_type": "code",
   "execution_count": 60,
   "metadata": {},
   "outputs": [
    {
     "name": "stdout",
     "output_type": "stream",
     "text": [
      "[1] \"Number of words in the original text, as provided by EDH:\"\n"
     ]
    },
    {
     "data": {
      "text/html": [
       "1898939"
      ],
      "text/latex": [
       "1898939"
      ],
      "text/markdown": [
       "1898939"
      ],
      "text/plain": [
       "[1] 1898939"
      ]
     },
     "metadata": {},
     "output_type": "display_data"
    },
    {
     "data": {
      "text/html": [
       "1817284"
      ],
      "text/latex": [
       "1817284"
      ],
      "text/markdown": [
       "1817284"
      ],
      "text/plain": [
       "[1] 1817284"
      ]
     },
     "metadata": {},
     "output_type": "display_data"
    }
   ],
   "source": [
    "# Original text, as provided by EDH\n",
    "\n",
    "print(\"Number of words in the original text, as provided by EDH:\")\n",
    "sum(lengths(gregexpr(\"\\\\w+\", texts$transcription)) + 1)  \n",
    "\n",
    "sum(na.omit(str_count(texts$transcription, '\\\\w+')))"
   ]
  },
  {
   "cell_type": "code",
   "execution_count": 65,
   "metadata": {},
   "outputs": [
    {
     "name": "stdout",
     "output_type": "stream",
     "text": [
      "[1] \"Number of words in the cleaned text:\"\n"
     ]
    },
    {
     "data": {
      "text/html": [
       "1226249"
      ],
      "text/latex": [
       "1226249"
      ],
      "text/markdown": [
       "1226249"
      ],
      "text/plain": [
       "[1] 1226249"
      ]
     },
     "metadata": {},
     "output_type": "display_data"
    },
    {
     "data": {
      "text/html": [
       "1144726"
      ],
      "text/latex": [
       "1144726"
      ],
      "text/markdown": [
       "1144726"
      ],
      "text/plain": [
       "[1] 1144726"
      ]
     },
     "metadata": {},
     "output_type": "display_data"
    }
   ],
   "source": [
    "# Clean text, as produced by Cleaning script\n",
    "\n",
    "print(\"Number of words in the cleaned text:\")\n",
    "sum(lengths(gregexpr(\"\\\\w+\", texts$clean_text_interpretive_word)) + 1) \n",
    "sum(na.omit(str_count(texts$clean_text_interpretive_word, '\\\\w+')))"
   ]
  },
  {
   "cell_type": "markdown",
   "metadata": {},
   "source": [
    "### Epigraphik Datenbank Clauss-Slaby\n",
    "\n",
    "The Epigraphik Datenbank Clauss-Slaby ([EDCS](http://www.manfredclauss.de/)) represents the largest digital resource for Latin epigraphy. It contains information for over 500,000 inscriptions previously published in print, covering the entire Mediterranean from 7th c. BC to the 10th c. AD. We have specifically chosen the EDCS for its unparalleled spatial and temporal coverage, being aware of its limitations.\n",
    "\n",
    "The original project of Prof. Manfred Clauss and Dr. Wolfgang A. Slaby, currently hosted by the Catholic University Eichstätt-Ingolstadt, dates back to 1980 and its main goal was to create one digital source for all Latin inscriptions. The project is constantly being developed and new inscriptions are being added to the database in 2021 and published in the [EDCS Journal](http://db.edcs.eu/epigr/hinweise/edcs-journal.php?s_language=en).  The EDCS website states the database contains 817,455 sets of data, of which 521,696 are inscriptions, 22,232 places and 184,323 datings (info from 12 Dec 2020). The database combines data from 37 other [digital sources](http://db.edcs.eu/epigr/hinweise/verbindung.html). One of the sources is also EDH, but only about 91 % (74,313 inscriptions) of the data is available through EDCS and with a limited number of attributes than in the original source.\n",
    "\n",
    "The license is not specified as in the case of EDH, making the data *‘subject to copyright and other laws for the protection of intellectual property’*. The access to the database is via a web interface allowing users to search for predefined attributes, such as province, place, material, date and of course the text of the inscription. However, the search results can be only visualised on the website, or copied manually one-by-one. Moreover, if one wants to quote the results of their search, the website does not provide unique identifiers, nor preserve the search results in any format. Thus, the web interface is not intended for quantitative research, yet it currently represents the only public access point to the data. \n",
    "\n",
    "The EDCS represents the largest epigraphic database in existence but potentially due to its size, contains shortcomings and inconsistencies (Elliott 2014,80-81). For example, the attribute containing text of inscription have a form of freetext transcription extracted from published editions. Unfortunately, the attribute along with the text of inscriptions contain also a relatively large amount of non-related data, such as notes, commentaries or bibliographical information that was not part of the original text of the inscriptions. We have spent a lot of time trying to streamline such inaccuracies and we are hoping to share our results with EDCS in order to improve the accuracy of the dataset. \n",
    "\n",
    "Another issue of data accessibility that has a potential to influence results of any comparative study is the inconsistent data output on the web interface concerning the total numbers of inscriptions in individual provinces. To provide an example, if we search using the web interface for all inscriptions coming from province Roma (search term `province` = `Roma`), the website states there are 121,165 inscriptions from Rome. But when we count individual record IDs and their associated attributes, we get only 90,531 individual records. Therefore, there is a discrepancy of 30,364 records, either caused by the rendering limitations of the website limitations or the calculation algor number of `inscriptions found` on the [website](http://db.edcs.eu/epigr/epikl_ergebnis.php) is incorrect. However, this particular issue has been only noted with the province Roma, with the other provinces the number of unique IDs was corresponding with the calculated total number of inscriptions.\n",
    "\n",
    "Even for its known shortcomings, EDCS represents the largest digital corpus for Latin inscriptions that is publicly available online and accessible to simple search. We had to come up with several and technological solutions to be able to perform quantitative research, which we will discuss in more detail in the methodological section.\n",
    "   "
   ]
  },
  {
   "cell_type": "markdown",
   "metadata": {},
   "source": [
    "#### Contents of EDCS\n",
    "The EDCS web search interface contains 16 attributes providing spatial and temporal metadata, object metadata, as well as the text of an inscription, its typological categorisation, bibliographical references and links to related digital sources and photos where available. We have accessed the dataset on 9 December 2020 when the [web interface](http://db.edcs.eu/epigr/epi.php?s_sprache=en) contained 500,536 inscriptions in total. We will discuss the details of the ETL process in the methodological section."
   ]
  },
  {
   "cell_type": "code",
   "execution_count": 67,
   "metadata": {},
   "outputs": [],
   "source": [
    "# Loading the EDCS dataset from public folder on Sciencedata.dk using sddk package\n",
    "\n",
    "resp = request(\"EDCS_text_cleaned_2021-03-01.json\", path=\"/public/1f5f56d09903fe259c0906add8b3a55e/\", method=\"GET\", anonymous = TRUE, cred = NULL)\n",
    "\n",
    "list_json <- jsonlite::fromJSON(resp)\n",
    "EDCS = as_tibble(list_json)\n"
   ]
  },
  {
   "cell_type": "code",
   "execution_count": 68,
   "metadata": {},
   "outputs": [
    {
     "data": {
      "text/html": [
       "<table class=\"dataframe\">\n",
       "<caption>A tibble: 3 × 29</caption>\n",
       "<thead>\n",
       "\t<tr><th scope=col>EDCS-ID</th><th scope=col>publication</th><th scope=col>province</th><th scope=col>province_list</th><th scope=col>place</th><th scope=col>place_list</th><th scope=col>end_yr_list</th><th scope=col>notes_dating</th><th scope=col>status_list</th><th scope=col>inscr_type</th><th scope=col>⋯</th><th scope=col>dating from</th><th scope=col>dating to</th><th scope=col>start_yr</th><th scope=col>end_yr_1</th><th scope=col>status</th><th scope=col>Latitude</th><th scope=col>Longitude</th><th scope=col>photo</th><th scope=col>Material</th><th scope=col>Comment</th></tr>\n",
       "\t<tr><th scope=col>&lt;chr&gt;</th><th scope=col>&lt;chr&gt;</th><th scope=col>&lt;chr&gt;</th><th scope=col>&lt;list&gt;</th><th scope=col>&lt;chr&gt;</th><th scope=col>&lt;list&gt;</th><th scope=col>&lt;list&gt;</th><th scope=col>&lt;chr&gt;</th><th scope=col>&lt;list&gt;</th><th scope=col>&lt;list&gt;</th><th scope=col>⋯</th><th scope=col>&lt;chr&gt;</th><th scope=col>&lt;chr&gt;</th><th scope=col>&lt;int&gt;</th><th scope=col>&lt;int&gt;</th><th scope=col>&lt;chr&gt;</th><th scope=col>&lt;chr&gt;</th><th scope=col>&lt;chr&gt;</th><th scope=col>&lt;chr&gt;</th><th scope=col>&lt;chr&gt;</th><th scope=col>&lt;chr&gt;</th></tr>\n",
       "</thead>\n",
       "<tbody>\n",
       "\t<tr><td>EDCS-31400030</td><td>CIL 03, 12297                                                            </td><td>Achaia</td><td>Achaia</td><td>?                            </td><td>?</td><td>NULL</td><td> </td><td>NULL</td><td>NULL</td><td>⋯</td><td>NA </td><td>NA </td><td> NA</td><td> NA</td><td>NA                                                                      </td><td>NA        </td><td>NA        </td><td>NA                                                                                     </td><td>NA</td><td>NA</td></tr>\n",
       "\t<tr><td>EDCS-24700151</td><td>CIL 01, 02650 (p 1097) = IG-05-01, 00741 = ILLRP 00962                   </td><td>Achaia</td><td>Achaia</td><td>Afesou                       </td><td>Afesou</td><td>NULL</td><td> </td><td>NULL</td><td>NULL</td><td>⋯</td><td>NA </td><td>NA </td><td> NA</td><td> NA</td><td>NA                                                                      </td><td>NA        </td><td>NA        </td><td>NA                                                                                     </td><td>NA</td><td>NA</td></tr>\n",
       "\t<tr><td>EDCS-24900077</td><td>CIL 01, 00746 (p 944) = D 00867 = ILLRP 00374 (p 327) = Hesperia-2015-602</td><td>Achaia</td><td>Achaia</td><td>Agia Triada / Merbaka / Midea</td><td><span style=white-space:pre-wrap>Agia Triada, Merbaka    , Midea      </span></td><td>-68</td><td> </td><td><span style=white-space:pre-wrap>officium/professio, ordo senatorius   , tituli honorarii  , tria nomina       , viri              </span></td><td>tituli honorarii</td><td>⋯</td><td>-68</td><td>-68</td><td>-68</td><td>-68</td><td>officium/professio; ordo senatorius; tituli honorarii; tria nomina; viri</td><td>37.6381128</td><td>22.8052991</td><td>http://db.edcs.eu/epigr/bilder.php?bilder.php?s_language=en&amp;bild=PH0004362;$D_00867.jpg</td><td>NA</td><td>NA</td></tr>\n",
       "</tbody>\n",
       "</table>\n"
      ],
      "text/latex": [
       "A tibble: 3 × 29\n",
       "\\begin{tabular}{lllllllllllllllllllll}\n",
       " EDCS-ID & publication & province & province\\_list & place & place\\_list & end\\_yr\\_list & notes\\_dating & status\\_list & inscr\\_type & ⋯ & dating from & dating to & start\\_yr & end\\_yr\\_1 & status & Latitude & Longitude & photo & Material & Comment\\\\\n",
       " <chr> & <chr> & <chr> & <list> & <chr> & <list> & <list> & <chr> & <list> & <list> & ⋯ & <chr> & <chr> & <int> & <int> & <chr> & <chr> & <chr> & <chr> & <chr> & <chr>\\\\\n",
       "\\hline\n",
       "\t EDCS-31400030 & CIL 03, 12297                                                             & Achaia & Achaia & ?                             & ? & NULL &   & NULL & NULL & ⋯ & NA  & NA  &  NA &  NA & NA                                                                       & NA         & NA         & NA                                                                                      & NA & NA\\\\\n",
       "\t EDCS-24700151 & CIL 01, 02650 (p 1097) = IG-05-01, 00741 = ILLRP 00962                    & Achaia & Achaia & Afesou                        & Afesou & NULL &   & NULL & NULL & ⋯ & NA  & NA  &  NA &  NA & NA                                                                       & NA         & NA         & NA                                                                                      & NA & NA\\\\\n",
       "\t EDCS-24900077 & CIL 01, 00746 (p 944) = D 00867 = ILLRP 00374 (p 327) = Hesperia-2015-602 & Achaia & Achaia & Agia Triada / Merbaka / Midea & Agia Triada, Merbaka    , Midea       & -68 &   & officium/professio, ordo senatorius   , tituli honorarii  , tria nomina       , viri               & tituli honorarii & ⋯ & -68 & -68 & -68 & -68 & officium/professio; ordo senatorius; tituli honorarii; tria nomina; viri & 37.6381128 & 22.8052991 & http://db.edcs.eu/epigr/bilder.php?bilder.php?s\\_language=en\\&bild=PH0004362;\\$D\\_00867.jpg & NA & NA\\\\\n",
       "\\end{tabular}\n"
      ],
      "text/markdown": [
       "\n",
       "A tibble: 3 × 29\n",
       "\n",
       "| EDCS-ID &lt;chr&gt; | publication &lt;chr&gt; | province &lt;chr&gt; | province_list &lt;list&gt; | place &lt;chr&gt; | place_list &lt;list&gt; | end_yr_list &lt;list&gt; | notes_dating &lt;chr&gt; | status_list &lt;list&gt; | inscr_type &lt;list&gt; | ⋯ ⋯ | dating from &lt;chr&gt; | dating to &lt;chr&gt; | start_yr &lt;int&gt; | end_yr_1 &lt;int&gt; | status &lt;chr&gt; | Latitude &lt;chr&gt; | Longitude &lt;chr&gt; | photo &lt;chr&gt; | Material &lt;chr&gt; | Comment &lt;chr&gt; |\n",
       "|---|---|---|---|---|---|---|---|---|---|---|---|---|---|---|---|---|---|---|---|---|\n",
       "| EDCS-31400030 | CIL 03, 12297                                                             | Achaia | Achaia | ?                             | ? | NULL | <!----> | NULL | NULL | ⋯ | NA  | NA  |  NA |  NA | NA                                                                       | NA         | NA         | NA                                                                                      | NA | NA |\n",
       "| EDCS-24700151 | CIL 01, 02650 (p 1097) = IG-05-01, 00741 = ILLRP 00962                    | Achaia | Achaia | Afesou                        | Afesou | NULL | <!----> | NULL | NULL | ⋯ | NA  | NA  |  NA |  NA | NA                                                                       | NA         | NA         | NA                                                                                      | NA | NA |\n",
       "| EDCS-24900077 | CIL 01, 00746 (p 944) = D 00867 = ILLRP 00374 (p 327) = Hesperia-2015-602 | Achaia | Achaia | Agia Triada / Merbaka / Midea | Agia Triada, Merbaka    , Midea       | -68 | <!----> | officium/professio, ordo senatorius   , tituli honorarii  , tria nomina       , viri               | tituli honorarii | ⋯ | -68 | -68 | -68 | -68 | officium/professio; ordo senatorius; tituli honorarii; tria nomina; viri | 37.6381128 | 22.8052991 | http://db.edcs.eu/epigr/bilder.php?bilder.php?s_language=en&amp;bild=PH0004362;$D_00867.jpg | NA | NA |\n",
       "\n"
      ],
      "text/plain": [
       "  EDCS-ID      \n",
       "1 EDCS-31400030\n",
       "2 EDCS-24700151\n",
       "3 EDCS-24900077\n",
       "  publication                                                              \n",
       "1 CIL 03, 12297                                                            \n",
       "2 CIL 01, 02650 (p 1097) = IG-05-01, 00741 = ILLRP 00962                   \n",
       "3 CIL 01, 00746 (p 944) = D 00867 = ILLRP 00374 (p 327) = Hesperia-2015-602\n",
       "  province province_list place                        \n",
       "1 Achaia   Achaia        ?                            \n",
       "2 Achaia   Achaia        Afesou                       \n",
       "3 Achaia   Achaia        Agia Triada / Merbaka / Midea\n",
       "  place_list                            end_yr_list notes_dating\n",
       "1 ?                                     NULL                    \n",
       "2 Afesou                                NULL                    \n",
       "3 Agia Triada, Merbaka    , Midea       -68                     \n",
       "  status_list                                                                                       \n",
       "1 NULL                                                                                              \n",
       "2 NULL                                                                                              \n",
       "3 officium/professio, ordo senatorius   , tituli honorarii  , tria nomina       , viri              \n",
       "  inscr_type       ⋯ dating from dating to start_yr end_yr_1\n",
       "1 NULL             ⋯ NA          NA         NA       NA     \n",
       "2 NULL             ⋯ NA          NA         NA       NA     \n",
       "3 tituli honorarii ⋯ -68         -68       -68      -68     \n",
       "  status                                                                  \n",
       "1 NA                                                                      \n",
       "2 NA                                                                      \n",
       "3 officium/professio; ordo senatorius; tituli honorarii; tria nomina; viri\n",
       "  Latitude   Longitude \n",
       "1 NA         NA        \n",
       "2 NA         NA        \n",
       "3 37.6381128 22.8052991\n",
       "  photo                                                                                  \n",
       "1 NA                                                                                     \n",
       "2 NA                                                                                     \n",
       "3 http://db.edcs.eu/epigr/bilder.php?bilder.php?s_language=en&bild=PH0004362;$D_00867.jpg\n",
       "  Material Comment\n",
       "1 NA       NA     \n",
       "2 NA       NA     \n",
       "3 NA       NA     "
      ]
     },
     "metadata": {},
     "output_type": "display_data"
    }
   ],
   "source": [
    "# Displaying the first three records\n",
    "EDCS[1:3,]"
   ]
  },
  {
   "cell_type": "code",
   "execution_count": 70,
   "metadata": {},
   "outputs": [],
   "source": [
    "EDCS<- EDCS %>% \n",
    "  filter(!is.na(`EDCS-ID`))"
   ]
  },
  {
   "cell_type": "markdown",
   "metadata": {},
   "source": [
    "#### Language of inscriptions in EDCS\n",
    "Although EDCS aims to collect primarily on Latin inscriptions, representing 95.39 % of the entire corpus, in some cases inscriptions in other languages are recorded. The information about language is not recorded as a separate attribute, but rather it is inserted into the text of the inscription as an abbreviation in double quotes, e.g. `“GR”`, `“ETR”`, `“PUN”` etc. Latin language is not recorded with the assumption that all inscriptions are Latin, unless stated otherwise. The only way to extract the total number of Latin inscriptions, is to separate all notations of other languages into a separate attribute and count only the records where the language attribute is empty. Thus we are potentially counting also inscriptions where the language is not known or not recorded, but the structure of EDCS does not provide any means to distinguish between truly empty records or records that are in Latin language. \n",
    "\n",
    "The second numerous group are inscriptions that contain at least one word in Greek, representing 4.38 % of the entire corpus (21,933 inscriptions). It is worth noting, the metadata of the Greek inscriptions are in the EDCS recorded but the text itself of the inscriptions is, unfortunately, missing. Thus, the text of inscriptions is available only for 95,8 % of all inscriptions in the EDCS.\n",
    "\n",
    "From other language groups, EDCS contains data for inscriptions in Iberian, Etruscan, Punic, Hebraic, Oscan and at least a dozen other languages but they seem to be recorded rather episodically (less than 0.3 % in total). Similarly as in the case of EDH, the contents of EDCS reflect epigraphic traditions of the Latin speaking world throughout the Mediterranean. The Greek publishing communities are not in EDCS recorded systematically and thus serve only as a reminder that some publishing communities were bi- or trilingual.\n"
   ]
  },
  {
   "cell_type": "markdown",
   "metadata": {},
   "source": [
    "``` R code```"
   ]
  },
  {
   "cell_type": "code",
   "execution_count": 73,
   "metadata": {},
   "outputs": [
    {
     "data": {
      "text/html": [
       "<style>\n",
       ".list-inline {list-style: none; margin:0; padding: 0}\n",
       ".list-inline>li {display: inline-block}\n",
       ".list-inline>li:not(:last-child)::after {content: \"\\00b7\"; padding: 0 .5ex}\n",
       "</style>\n",
       "<ol class=list-inline><li>NA</li><li>'GR'</li><li>'GR, GR'</li><li>'HEBR'</li><li>'ETR'</li><li>'PUN'</li><li>'PUN, GR'</li><li>'GR, PUN'</li><li>'GR, HEBR'</li><li>'GR, GR, GR'</li><li>'GR, GR, GR, GR, GR'</li><li>'PIN'</li><li>'HEBR, GR'</li><li>'KELT'</li><li>'IBER'</li><li>'OSK'</li><li>'PALMYR'</li><li>'ETR, GR'</li><li>'ARAM'</li><li>'GRT'</li><li>'IBER, GR'</li><li>'SABELL'</li><li>'SAF'</li><li>'OSC'</li><li>'GE'</li><li>'VEN'</li><li>'PALM'</li><li>'GR, PALMYR'</li><li>'HEBR, HEBR'</li><li>'LEPONT'</li><li>'UMB'</li></ol>\n"
      ],
      "text/latex": [
       "\\begin{enumerate*}\n",
       "\\item NA\n",
       "\\item 'GR'\n",
       "\\item 'GR, GR'\n",
       "\\item 'HEBR'\n",
       "\\item 'ETR'\n",
       "\\item 'PUN'\n",
       "\\item 'PUN, GR'\n",
       "\\item 'GR, PUN'\n",
       "\\item 'GR, HEBR'\n",
       "\\item 'GR, GR, GR'\n",
       "\\item 'GR, GR, GR, GR, GR'\n",
       "\\item 'PIN'\n",
       "\\item 'HEBR, GR'\n",
       "\\item 'KELT'\n",
       "\\item 'IBER'\n",
       "\\item 'OSK'\n",
       "\\item 'PALMYR'\n",
       "\\item 'ETR, GR'\n",
       "\\item 'ARAM'\n",
       "\\item 'GRT'\n",
       "\\item 'IBER, GR'\n",
       "\\item 'SABELL'\n",
       "\\item 'SAF'\n",
       "\\item 'OSC'\n",
       "\\item 'GE'\n",
       "\\item 'VEN'\n",
       "\\item 'PALM'\n",
       "\\item 'GR, PALMYR'\n",
       "\\item 'HEBR, HEBR'\n",
       "\\item 'LEPONT'\n",
       "\\item 'UMB'\n",
       "\\end{enumerate*}\n"
      ],
      "text/markdown": [
       "1. NA\n",
       "2. 'GR'\n",
       "3. 'GR, GR'\n",
       "4. 'HEBR'\n",
       "5. 'ETR'\n",
       "6. 'PUN'\n",
       "7. 'PUN, GR'\n",
       "8. 'GR, PUN'\n",
       "9. 'GR, HEBR'\n",
       "10. 'GR, GR, GR'\n",
       "11. 'GR, GR, GR, GR, GR'\n",
       "12. 'PIN'\n",
       "13. 'HEBR, GR'\n",
       "14. 'KELT'\n",
       "15. 'IBER'\n",
       "16. 'OSK'\n",
       "17. 'PALMYR'\n",
       "18. 'ETR, GR'\n",
       "19. 'ARAM'\n",
       "20. 'GRT'\n",
       "21. 'IBER, GR'\n",
       "22. 'SABELL'\n",
       "23. 'SAF'\n",
       "24. 'OSC'\n",
       "25. 'GE'\n",
       "26. 'VEN'\n",
       "27. 'PALM'\n",
       "28. 'GR, PALMYR'\n",
       "29. 'HEBR, HEBR'\n",
       "30. 'LEPONT'\n",
       "31. 'UMB'\n",
       "\n",
       "\n"
      ],
      "text/plain": [
       " [1] NA                   \"GR\"                 \"GR, GR\"            \n",
       " [4] \"HEBR\"               \"ETR\"                \"PUN\"               \n",
       " [7] \"PUN, GR\"            \"GR, PUN\"            \"GR, HEBR\"          \n",
       "[10] \"GR, GR, GR\"         \"GR, GR, GR, GR, GR\" \"PIN\"               \n",
       "[13] \"HEBR, GR\"           \"KELT\"               \"IBER\"              \n",
       "[16] \"OSK\"                \"PALMYR\"             \"ETR, GR\"           \n",
       "[19] \"ARAM\"               \"GRT\"                \"IBER, GR\"          \n",
       "[22] \"SABELL\"             \"SAF\"                \"OSC\"               \n",
       "[25] \"GE\"                 \"VEN\"                \"PALM\"              \n",
       "[28] \"GR, PALMYR\"         \"HEBR, HEBR\"         \"LEPONT\"            \n",
       "[31] \"UMB\"               "
      ]
     },
     "metadata": {},
     "output_type": "display_data"
    }
   ],
   "source": [
    "# How many and which combinations of languages are in EDCS?\n",
    "unique(EDCS$language)"
   ]
  },
  {
   "cell_type": "code",
   "execution_count": 77,
   "metadata": {},
   "outputs": [
    {
     "data": {
      "text/html": [
       "21933"
      ],
      "text/latex": [
       "21933"
      ],
      "text/markdown": [
       "21933"
      ],
      "text/plain": [
       "[1] 21933"
      ]
     },
     "metadata": {},
     "output_type": "display_data"
    },
    {
     "data": {
      "text/html": [
       "4.38190260041236"
      ],
      "text/latex": [
       "4.38190260041236"
      ],
      "text/markdown": [
       "4.38190260041236"
      ],
      "text/plain": [
       "[1] 4.381903"
      ]
     },
     "metadata": {},
     "output_type": "display_data"
    }
   ],
   "source": [
    "# How many records contain text in Greek?\n",
    "grep(x = EDCS$language, \"GR\", value = TRUE) %>%\n",
    "  length() -> greek\n",
    "greek\n",
    "\n",
    "# How many percent from all inscriptions contain Greek\n",
    "greek/(nrow(EDCS)/100)"
   ]
  },
  {
   "cell_type": "code",
   "execution_count": 82,
   "metadata": {},
   "outputs": [
    {
     "data": {
      "text/html": [
       "477467"
      ],
      "text/latex": [
       "477467"
      ],
      "text/markdown": [
       "477467"
      ],
      "text/plain": [
       "[1] 477467"
      ]
     },
     "metadata": {},
     "output_type": "display_data"
    },
    {
     "data": {
      "text/html": [
       "95.3911406971726"
      ],
      "text/latex": [
       "95.3911406971726"
      ],
      "text/markdown": [
       "95.3911406971726"
      ],
      "text/plain": [
       "[1] 95.39114"
      ]
     },
     "metadata": {},
     "output_type": "display_data"
    }
   ],
   "source": [
    "# How many inscriptions have language as 'NA' (Latin)\n",
    "\n",
    "nrow(filter(EDCS, is.na(language)))\n",
    "nrow(filter(EDCS, is.na(language)))/(nrow(EDCS)/100)"
   ]
  },
  {
   "cell_type": "markdown",
   "metadata": {},
   "source": [
    "#### Spatial information in EDCS\n",
    "Similarly as in the case of EDH dataset, EDCS provides spatial metadata connected with an findspot of an inscription in the form of text or geospatial coordinates. The textual description of the findspot can be broken into several categories, such as the name of an ancient settlement and Roman province. In comparison with EDH, EDCS dataset provides fewer textual attributes with spatial information. However, geo-coordinates in numeric form  are present for most inscriptions and they prove to be the most important attributes for quantified spatial analysis. \n",
    "\n",
    "The total of 486,699 inscriptions representing 97.23 % of the entire dataset contains spatial coordinates determining their findspot on the Earth’s surface. The precision of the coordinates vary from zero decimal places up to seven decimal places, which in the real world translates as a range between 11.1 km to 11 mm. From all records with recorded coordinates, in over 82 % cases the coordinate attribute contains seven decimal places, suggesting the dataset can be very precisely located with a precision around 1 cm. In reality, that is never the case and the precision usually ranges between several hundred metres to few kilometres in ideal cases (REF Janouchova 2014 [TBA]).\n",
    "\n",
    "As already discussed in the case of EDH, most epigraphic datasets were created before the wide availability of GPS and as such the spatial information should be approached as legacy data with a varying degree of imprecision. The coordinates of legacy data on their own do not represent the best measure to determine the accuracy of the original findspot as they tend to reflect the process of their creation in bulk, for example when extracting from LOD sites, such as [Trismegistos](https://www.trismegistos.org/index.php) or [Pleiades](https://pleiades.stoa.org/), or simply when manually transferring Latitude and Longitude from Google Maps. Unfortunately, the digital sources often do not provide further information on the provenance, i.e. whether the inscription was found in situ or in its secondary context, transferred to a church or built into a wall. Until such information is made available in digital corpora, the available coordinates even with their known biases and limitations represent the best geospatial resource in hand.\n",
    "\n",
    "When we compare the coordinates from EDH with EDCS, the majority of EDH dataset (86 %) contains only four decimal digits at maximum precision, while the majority of EDCS dataset (83 %) has seven decimal places precision. In theory, EDCS should provide more accurate spatial data, but the fewer textual attributes specifying the original findspot suggest otherwise. EDH provides coordinates with precision in metres instead of centimetres, but because it records more detailed descriptions of the original findspot the data are likely a more reliable source of information than EDCS, provided that all EDH records are checked individually by a responsible individual. Due to the extent of EDCS, we are assuming the coordinates were rather assigned in bulk than checked manually one-by-one, leaving more space for inaccuracies."
   ]
  },
  {
   "cell_type": "markdown",
   "metadata": {},
   "source": [
    "``` R code```"
   ]
  },
  {
   "cell_type": "code",
   "execution_count": 84,
   "metadata": {},
   "outputs": [
    {
     "data": {
      "text/html": [
       "486699"
      ],
      "text/latex": [
       "486699"
      ],
      "text/markdown": [
       "486699"
      ],
      "text/plain": [
       "[1] 486699"
      ]
     },
     "metadata": {},
     "output_type": "display_data"
    },
    {
     "data": {
      "text/html": [
       "97.2355634759538"
      ],
      "text/latex": [
       "97.2355634759538"
      ],
      "text/markdown": [
       "97.2355634759538"
      ],
      "text/plain": [
       "[1] 97.23556"
      ]
     },
     "metadata": {},
     "output_type": "display_data"
    }
   ],
   "source": [
    "EDCS %>%\n",
    "  dplyr::filter(!is.na(Latitude)) -> location\n",
    "\n",
    "# How many inscriptions have Latitude\n",
    "\n",
    "nrow(location)\n",
    "\n",
    "# How many % of inscriptions have Latitude\n",
    "nrow(location)/(nrow(EDCS)/100)"
   ]
  },
  {
   "cell_type": "code",
   "execution_count": 88,
   "metadata": {},
   "outputs": [
    {
     "data": {
      "text/html": [
       "<table class=\"dataframe\">\n",
       "<caption>A data.frame: 8 × 3</caption>\n",
       "<thead>\n",
       "\t<tr><th scope=col>decimals</th><th scope=col>n</th><th scope=col>percent</th></tr>\n",
       "\t<tr><th scope=col>&lt;int&gt;</th><th scope=col>&lt;int&gt;</th><th scope=col>&lt;dbl&gt;</th></tr>\n",
       "</thead>\n",
       "<tbody>\n",
       "\t<tr><td> 7</td><td>412637</td><td>82.439025365</td></tr>\n",
       "\t<tr><td> 6</td><td> 73005</td><td>14.585364489</td></tr>\n",
       "\t<tr><td>NA</td><td> 13837</td><td> 2.764436524</td></tr>\n",
       "\t<tr><td> 5</td><td>   594</td><td> 0.118672783</td></tr>\n",
       "\t<tr><td> 4</td><td>   327</td><td> 0.065329966</td></tr>\n",
       "\t<tr><td> 1</td><td>    66</td><td> 0.013185865</td></tr>\n",
       "\t<tr><td> 2</td><td>    61</td><td> 0.012186936</td></tr>\n",
       "\t<tr><td> 3</td><td>     9</td><td> 0.001798072</td></tr>\n",
       "</tbody>\n",
       "</table>\n"
      ],
      "text/latex": [
       "A data.frame: 8 × 3\n",
       "\\begin{tabular}{lll}\n",
       " decimals & n & percent\\\\\n",
       " <int> & <int> & <dbl>\\\\\n",
       "\\hline\n",
       "\t  7 & 412637 & 82.439025365\\\\\n",
       "\t  6 &  73005 & 14.585364489\\\\\n",
       "\t NA &  13837 &  2.764436524\\\\\n",
       "\t  5 &    594 &  0.118672783\\\\\n",
       "\t  4 &    327 &  0.065329966\\\\\n",
       "\t  1 &     66 &  0.013185865\\\\\n",
       "\t  2 &     61 &  0.012186936\\\\\n",
       "\t  3 &      9 &  0.001798072\\\\\n",
       "\\end{tabular}\n"
      ],
      "text/markdown": [
       "\n",
       "A data.frame: 8 × 3\n",
       "\n",
       "| decimals &lt;int&gt; | n &lt;int&gt; | percent &lt;dbl&gt; |\n",
       "|---|---|---|\n",
       "|  7 | 412637 | 82.439025365 |\n",
       "|  6 |  73005 | 14.585364489 |\n",
       "| NA |  13837 |  2.764436524 |\n",
       "|  5 |    594 |  0.118672783 |\n",
       "|  4 |    327 |  0.065329966 |\n",
       "|  1 |     66 |  0.013185865 |\n",
       "|  2 |     61 |  0.012186936 |\n",
       "|  3 |      9 |  0.001798072 |\n",
       "\n"
      ],
      "text/plain": [
       "  decimals n      percent     \n",
       "1  7       412637 82.439025365\n",
       "2  6        73005 14.585364489\n",
       "3 NA        13837  2.764436524\n",
       "4  5          594  0.118672783\n",
       "5  4          327  0.065329966\n",
       "6  1           66  0.013185865\n",
       "7  2           61  0.012186936\n",
       "8  3            9  0.001798072"
      ]
     },
     "metadata": {},
     "output_type": "display_data"
    }
   ],
   "source": [
    "### latitude\n",
    "lat_df<- as.data.frame(EDCS$Latitude) %>%  \n",
    "  mutate(decimals = unlist(map(EDCS$Latitude, decimalplaces)))\n",
    "lat_df_count<- lat_df %>% \n",
    "  count(decimals, sort = T) %>% \n",
    "  mutate(percent = n/(sum(n)/100))\n",
    "lat_df_count\n"
   ]
  },
  {
   "cell_type": "code",
   "execution_count": 87,
   "metadata": {},
   "outputs": [
    {
     "data": {
      "text/html": [
       "<table class=\"dataframe\">\n",
       "<caption>A data.frame: 9 × 3</caption>\n",
       "<thead>\n",
       "\t<tr><th scope=col>decimals</th><th scope=col>n</th><th scope=col>percent</th></tr>\n",
       "\t<tr><th scope=col>&lt;int&gt;</th><th scope=col>&lt;int&gt;</th><th scope=col>&lt;dbl&gt;</th></tr>\n",
       "</thead>\n",
       "<tbody>\n",
       "\t<tr><td> 7</td><td>415454</td><td>83.001822047</td></tr>\n",
       "\t<tr><td> 6</td><td> 65812</td><td>13.148305017</td></tr>\n",
       "\t<tr><td>NA</td><td> 13834</td><td> 2.763837167</td></tr>\n",
       "\t<tr><td> 8</td><td>  4787</td><td> 0.956374766</td></tr>\n",
       "\t<tr><td> 4</td><td>   277</td><td> 0.055340675</td></tr>\n",
       "\t<tr><td> 5</td><td>   178</td><td> 0.035561878</td></tr>\n",
       "\t<tr><td> 2</td><td>   129</td><td> 0.025772372</td></tr>\n",
       "\t<tr><td> 1</td><td>    43</td><td> 0.008590791</td></tr>\n",
       "\t<tr><td> 3</td><td>    22</td><td> 0.004395288</td></tr>\n",
       "</tbody>\n",
       "</table>\n"
      ],
      "text/latex": [
       "A data.frame: 9 × 3\n",
       "\\begin{tabular}{lll}\n",
       " decimals & n & percent\\\\\n",
       " <int> & <int> & <dbl>\\\\\n",
       "\\hline\n",
       "\t  7 & 415454 & 83.001822047\\\\\n",
       "\t  6 &  65812 & 13.148305017\\\\\n",
       "\t NA &  13834 &  2.763837167\\\\\n",
       "\t  8 &   4787 &  0.956374766\\\\\n",
       "\t  4 &    277 &  0.055340675\\\\\n",
       "\t  5 &    178 &  0.035561878\\\\\n",
       "\t  2 &    129 &  0.025772372\\\\\n",
       "\t  1 &     43 &  0.008590791\\\\\n",
       "\t  3 &     22 &  0.004395288\\\\\n",
       "\\end{tabular}\n"
      ],
      "text/markdown": [
       "\n",
       "A data.frame: 9 × 3\n",
       "\n",
       "| decimals &lt;int&gt; | n &lt;int&gt; | percent &lt;dbl&gt; |\n",
       "|---|---|---|\n",
       "|  7 | 415454 | 83.001822047 |\n",
       "|  6 |  65812 | 13.148305017 |\n",
       "| NA |  13834 |  2.763837167 |\n",
       "|  8 |   4787 |  0.956374766 |\n",
       "|  4 |    277 |  0.055340675 |\n",
       "|  5 |    178 |  0.035561878 |\n",
       "|  2 |    129 |  0.025772372 |\n",
       "|  1 |     43 |  0.008590791 |\n",
       "|  3 |     22 |  0.004395288 |\n",
       "\n"
      ],
      "text/plain": [
       "  decimals n      percent     \n",
       "1  7       415454 83.001822047\n",
       "2  6        65812 13.148305017\n",
       "3 NA        13834  2.763837167\n",
       "4  8         4787  0.956374766\n",
       "5  4          277  0.055340675\n",
       "6  5          178  0.035561878\n",
       "7  2          129  0.025772372\n",
       "8  1           43  0.008590791\n",
       "9  3           22  0.004395288"
      ]
     },
     "metadata": {},
     "output_type": "display_data"
    }
   ],
   "source": [
    "### longitude\n",
    "long_df<- as.data.frame(EDCS$Longitude) %>%  \n",
    "  mutate(decimals = unlist(map(EDCS$Longitude, decimalplaces)))\n",
    "long_df_count<- long_df %>% \n",
    "  count(decimals, sort = T) %>% \n",
    "  mutate(percent = n/(sum(n)/100))\n",
    "long_df_count"
   ]
  },
  {
   "cell_type": "markdown",
   "metadata": {},
   "source": [
    "#### Chronological information in EDCS\n",
    "Chronological information in the EDCS database is distributed across three attributes, either as textual description or a numeric value presented as a text string. The EDCS does not provide any additional information on how precise the date is or which dating method was used for most of the texts. In some cases when more than one dating is available, the variant dating is placed into the attribute containing the text of an inscription which complicates any further analysis and needs to be computationally separated.\n",
    "\n",
    "The attributes `dating to` and `dating from` represent an interval between the two years. Both attributes have a form of free-text and need to be converted to numeric values. In 121 cases the `dating to` attribute contains an alternative dating within the same attribute (as an unconstrained text, with values separated by semicolon). Before any computation operations are possible, we had to preprocess and streamline the attribute (for details see the methodological section). \n",
    "\n",
    "The `dating from` attribute is available for 163,497 representing 32.7 % of all inscriptions, ranging from 700 BC to 901 AD (excluding the dates between 11th and 20th century AD). The `dating to` attribute provides dates for 164,458 inscriptions which corresponds with 32.8 % of the dataset, ranging from 671 BC to 950 AD (excluding the outlier dates between 11th and 20th century AD). Both numeric attributes are present in 163,380 inscriptions (32.6 % of the entire dataset. The average value for the length of the dating interval between `dating from` and `dating to` is 181.87 years. \n",
    "\n",
    "When compared with EDH, EDCS provides some additional 110,000 data points for temporal study, but the overall ratio of dated inscriptions in the entire corpus is twice as low. Therefore any temporal analysis based solely on EDCS has a lower significance than the same analysis performed on the EDH dataset. "
   ]
  },
  {
   "cell_type": "markdown",
   "metadata": {},
   "source": [
    "``` R code```"
   ]
  },
  {
   "cell_type": "markdown",
   "metadata": {},
   "source": [
    "#### Textual information in EDCS\n",
    "Text of an inscription is available for 479,546 inscriptions, representing 95.8 % of all EDCS. The records with missing text of an inscription are mostly Greek or non-Latin. The text attribute contains a large amount of characters, or comments and notes that prevent any meaningful quantitative analysis and therefore had to be computationally streamlined. Before the cleaning the text attribute contained between 7.1 and 6.6 million words, depending on the applied counting method. After the cleaning the text attribute contained between 4.6 and 4.06 million words. The details of the entire process are described in the methodological section."
   ]
  },
  {
   "cell_type": "markdown",
   "metadata": {},
   "source": [
    "``` R code```"
   ]
  },
  {
   "cell_type": "markdown",
   "metadata": {},
   "source": [
    "## Building a Research Pipeline for FAIR and Open Digital Epigraphy\n",
    "\n",
    "### Data access & collection stage\n",
    "\n",
    "Both digital resources provide a different pathway to the data, bringing both technological and ethical issues that are common to researchers working with digital archives. We have approached the data collection part of the research life-cycle as transparent and FAIR as possible, using a series of Python scripts and applications accessible via Github.\n",
    "\n"
   ]
  },
  {
   "cell_type": "markdown",
   "metadata": {},
   "source": [
    "#### When the resource is designed as open\n",
    "\n",
    "*** this section is not finished***\n",
    "- API \n",
    "- Enriching with geography\n",
    "- Repositories, such as Zenodo"
   ]
  },
  {
   "cell_type": "markdown",
   "metadata": {},
   "source": [
    "#### When the resource was not built as open\n",
    "With accessing the EDCS dataset we have encountered different issues. As mentioned above, EDSC web interface is the only gateway to the data but it does not provide an API, nor it saves search results in a reproducible manner. Thus, we have decided to use a Python based digital tool, built  with the permission of Manfred Clauss in collaboration with researchers at Macquarie University in Australia (Ballsun-Stanton, Hermankova, Laurence, REF; https://github.com/mqAncientHistory/EpigraphyScraperNotebook). \n",
    "\n",
    "The tool accesses programmatically the web interface of EDCS and saves the search output as a CSV file with search metadata preserved in the name of the file. Moreover, the tool produces a separate file with the search results mapped along with the system of Roman Provinces and road network, using the DARMC and Pleiades open datasets of the ancient Mediterranean ([REFS TBA]). The main purpose of the tool is to alleviate some of the technological and methodological inefficiencies of EDCS and enable reproducible and quantitative research or Latin inscriptions. In the combination with the cleaning and streamlining procedures mentioned in the next section, any historian is well equipped to perform large scale comparative studies based on epigraphic material. "
   ]
  },
  {
   "cell_type": "markdown",
   "metadata": {},
   "source": [
    "### Data cleaning & streamlining\n",
    "\n",
    ">`We have accessed and enriched the dataset and we are ready to start the analysis. Or are we not?` \n",
    "\n",
    "Unfortunately, having the data accessible, does not often mean they are in the format required by the software. Especially in the case of human-created datasets, typos, inconsistencies, attributes entered incorrectly or missing data are more than common and trying to systematically and programmatically solve these issues consumes most of the time dedicated to research. However, this crucial stage of data stewardship is often disregarded in academic publications, but also when planning and budgeting research projects.\n",
    "\tWe have created four R scripts dealing specifically with cleaning of attributes containing metadata information and epigraphic text. This way, we were able to clean almost thirteen attributes for all the 81,476 records of the EDH dataset, resulting in streamlining of 1,059,188 original values. In the EDH dataset, we have streamlined six attributes for all 500,536 records, resulting in changes made to 3,003,216 original values. Task that would take years of manual editing took approximately three months to complete, including extensive testing and iterative improvements to all four cleaning scripts."
   ]
  },
  {
   "cell_type": "markdown",
   "metadata": {},
   "source": [
    "#### Attribute cleaning and conflation of information\n",
    "\n",
    "* Script for EDH dataset: https://github.com/sdam-au/EDH_ETL/blob/master/scripts/1_4_r_DATASET_ATTRIBUTES_CLEANING.Rmd  \n",
    "* Script for EDCS adataset: https://github.com/sdam-au/EDCS_ETL/blob/master/scripts/1_1_r_EDCS_merge_clean_attrs.Rmd \n",
    "\n",
    "As the first stage of the cleaning phase, we needed to streamline the metadata attributes. Upon the first inspection of the both datasets, we discovered the attributes were often conflating multiple types of information into one. The multiple types of information stored in one attribute go against the principles of data normalization and make any computerized operations difficult, if not impossible. We decided to separate the types of information into new attributes, but keep the original attributes as a control mechanism. However, this way we expanded the size of the original dataset from 51 attributes to 71 in the case of EDH, and from 15 to 27 for the EDCS dataset. \n",
    "\n",
    "As an example of such cleaning may serve the type of an inscription attribute in EDH, that contained textual description of the standard type of an inscripription and information about certainty of such categorisation. We have created new attributes containing only the information about the typology of inscriptions in one (`type_of_inscription_clean`) and the certainty information in other (`type_of_inscription_certainty`). This way we have reduced the number of typological variants from XX to XX [TBA], making any comparisons and calculations straightforward, while keeping the typological classification certainty information separate and ready to be quantified."
   ]
  },
  {
   "cell_type": "markdown",
   "metadata": {},
   "source": [
    "```EXAMPLE OF CODE in R```"
   ]
  },
  {
   "cell_type": "markdown",
   "metadata": {},
   "source": [
    "When dealing with unstructured text, we heavily rely on use of Regular Expressions as the most efficient yet simple tool for pattern matching (e.g., https://regex101.com/; package [stringr for R](https://stringr.tidyverse.org/)). We search for repetitive patterns in the text of the attributes, in order to separate different pieces of information so they can be easily computationally accessed in the later stages of the analysis. To illustrate our approach, we extract information providing a level of spatial uncertainty related to the findspot of an inscription from the textual descriptions of the place. \n",
    "\n",
    "The attribute `findspot_ancient` contained textual descriptions of the original findspot, with specifications of the level of certainty connected to a particular place name, e.g. *“Cumae, bei”, \"Roma?\", \"Emerita Augusta, aus\", \"Bracara Augusta - Lucus Augusti, inter\",\"Epidotium - Ancus, zwischen\"*. We have then created a new attribute (`finsdpot_ancient_certainty`) containing categorical values corresponding with the certainty of localization. This way we were able to extract the measure of uncertainty from all records, save it as a separate piece of information in order to use it as a control measure for the level of precision of geographic coordinates."
   ]
  },
  {
   "cell_type": "markdown",
   "metadata": {},
   "source": [
    "```EXAMPLE OF CODE in R```"
   ]
  },
  {
   "cell_type": "markdown",
   "metadata": {},
   "source": [
    "#### Cleaning of epigraphic text\n",
    "\n",
    "* Script for EDH dataset: https://github.com/sdam-au/EDH_ETL/blob/master/scripts/1_5_r_TEXT_INSCRIPTION_CLEANING.Rmd  \n",
    "* Script for EDCS dataset: https://github.com/sdam-au/EDCS_ETL/blob/master/scripts/1_2_r_EDCS_cleaning_text.Rmd\n",
    "\n",
    "Similarly as the attributes containing metadata have to be transformed to be suitable for computer assisted analysis, the text of an inscription attribute has to be streamlined. Attributes containing the text of an inscription in both sources contained extra symbols, or extra text not present on the original medium, but text entered by mistake during the digitisation.\n",
    "\n",
    "Moreover, the standard text of an inscription is often marked up in accordance with Leiden epigraphic conventions and thus contains a large number of brackets and additional symbols [REF]. The symbols have a crucial importance when communicating the rate of preservation of the text, the level of modern restoration or additional features of the text, such as interpunction or decoration. However useful the Leiden markup system for study of individual inscriptions and their historical significance, it is highly problematic for any quantified study. Human brain is capable of parsing information differently than a computer and what might be straightforward for an epigrapher when reading an inscription with Leiden markup, proves to be a complex task for a computer. To give you an example, the human brain knows the text [Au]relios is the same as the word Aurelios with no markup. However, for computers [Au]relios and Aurelios are two different words and thus would be counted as two separate instances. \t\n"
   ]
  },
  {
   "cell_type": "markdown",
   "metadata": {},
   "source": [
    "```CODE with example of text before cleaning```"
   ]
  },
  {
   "cell_type": "markdown",
   "metadata": {},
   "source": [
    "Our proposed technical solution eliminates the Leiden markup syntax in a systematic way and produces three different versions of the text designed specifically for their intended type of analysis. We have created a series of Regex cleaning blocks, that solve one type of markup at the time, and then we have built them in a cleaning function producing the desired outcome for the analysis of text. The sequence of the blocks in the cleaning functions was built specifically for individual datasets and type of intended analysis, but the cleaning blocks were designed rather generically and can be used to clean any text with Leiden markup conventions.\t\n",
    "\n",
    "The text of an inscription was transformed into two main versions: \n",
    "\n",
    "* A conservative version of the text, contained in the attribute clean_text_conservative. The aim of the conservative text was to have a text with no markup that is as close to the original inscription as preserved on the permanent medium. "
   ]
  },
  {
   "cell_type": "markdown",
   "metadata": {},
   "source": [
    "```CODE with example of conservative text after cleaning```"
   ]
  },
  {
   "cell_type": "markdown",
   "metadata": {},
   "source": [
    "* An interpretive version of the text, contained in the attribute clean_text_interpretive. The interpretive version contains the original text as preserved on a medium enriched with editorial interpretations and reconstructions of the text in order to achieve as rich text of an inscription as possible. For the purpose of NLP analysis, we have created two versions of the interpretive text: one with no interpunction between sentences (clean_text_interpretive_word) and one with preserved interpunction separating individual sentences (clean_text_interpretive_sentence)"
   ]
  },
  {
   "cell_type": "markdown",
   "metadata": {},
   "source": [
    "```CODE with example of interpretive text after cleaning```"
   ]
  },
  {
   "cell_type": "markdown",
   "metadata": {},
   "source": [
    "The cleaning procedure for EDCS dataset was more entailed as the attribute `inscription` contained apart from the text of an inscription in some records also commentary, notes to chronology, bibliographical references and other text, not present on the original inscribed medium. Before we could clean the epigraphic text, we needed to separate the text of an inscription and the non-epigraphic text in a transparent and reproducible way. As we wanted to preserve the information and separate it by its category, we developed an additional cleaning script, using Regex in a specific sequence to clean the epigraphic text, extract the extra information, separate it by category and add to the original dataset. "
   ]
  },
  {
   "cell_type": "markdown",
   "metadata": {},
   "source": [
    "```CODE with example of text before and after cleaning```"
   ]
  },
  {
   "cell_type": "markdown",
   "metadata": {},
   "source": [
    "We have managed to process 1268 inscriptions, representing 0.25 % of the entire dataset in a fraction of time that it would have taken a human to go through all the records and search for potential issues one-by-one. As a direct benefit of the scripted cleaning process to the epigraphic community and to the owners of the digital resource, we are now able to report back to the EDCS the ID numbers of problematic records so they can be fixed for future researchers."
   ]
  },
  {
   "cell_type": "markdown",
   "metadata": {},
   "source": [
    "The article now continues in script 2, with Python kernel.\n",
    "\n"
   ]
  },
  {
   "cell_type": "markdown",
   "metadata": {},
   "source": [
    "## Additional challenges of being FAIR and open\n",
    "\n",
    "(depending on available space - limits not discussed), ** this section is not finished **\n",
    "\n",
    "1. Open research infrastructure vs proprietary tools\n",
    "1. Collaboration: R vs Python exchange, Lists / Data structures btw R and Python, implementing R and Python into one pipeline\n",
    "1. Being FAIR takes time\n"
   ]
  }
 ],
 "metadata": {
  "kernelspec": {
   "display_name": "R",
   "language": "R",
   "name": "ir"
  },
  "language_info": {
   "codemirror_mode": "r",
   "file_extension": ".r",
   "mimetype": "text/x-r-source",
   "name": "R",
   "pygments_lexer": "r",
   "version": "4.0.3"
  }
 },
 "nbformat": 4,
 "nbformat_minor": 2
}
