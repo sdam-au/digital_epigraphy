{
 "cells": [
  {
   "cell_type": "code",
   "execution_count": 2,
   "metadata": {},
   "outputs": [
    {
     "name": "stdout",
     "output_type": "stream",
     "text": [
      "Requirement already satisfied: pyzotero in /home/petra/.pyenv/versions/3.8.7/lib/python3.8/site-packages (1.4.23)\n",
      "Requirement already satisfied: sddk in /home/petra/.pyenv/versions/3.8.7/lib/python3.8/site-packages (3.0)\n",
      "Requirement already satisfied: feedparser<6,>5.1.0 in /home/petra/.pyenv/versions/3.8.7/lib/python3.8/site-packages (from pyzotero) (5.2.1)\n",
      "Requirement already satisfied: pytz in /home/petra/.local/lib/python3.8/site-packages (from pyzotero) (2021.1)\n",
      "Requirement already satisfied: requests>=2.21.0 in /home/petra/.local/lib/python3.8/site-packages (from pyzotero) (2.25.0)\n",
      "Requirement already satisfied: bibtexparser in /home/petra/.pyenv/versions/3.8.7/lib/python3.8/site-packages (from pyzotero) (1.2.0)\n",
      "Requirement already satisfied: pathlib in /home/petra/.pyenv/versions/3.8.7/lib/python3.8/site-packages (from pyzotero) (1.0.1)\n",
      "Requirement already satisfied: idna<3,>=2.5 in /home/petra/.local/lib/python3.8/site-packages (from requests>=2.21.0->pyzotero) (2.10)\n",
      "Requirement already satisfied: certifi>=2017.4.17 in /home/petra/.local/lib/python3.8/site-packages (from requests>=2.21.0->pyzotero) (2020.11.8)\n",
      "Requirement already satisfied: chardet<4,>=3.0.2 in /home/petra/.local/lib/python3.8/site-packages (from requests>=2.21.0->pyzotero) (3.0.4)\n",
      "Requirement already satisfied: urllib3<1.27,>=1.21.1 in /home/petra/.local/lib/python3.8/site-packages (from requests>=2.21.0->pyzotero) (1.26.2)\n",
      "Requirement already satisfied: beautifulsoup4>=4 in /home/petra/.local/lib/python3.8/site-packages (from sddk) (4.9.3)\n",
      "Requirement already satisfied: plotly>=4 in /home/petra/.pyenv/versions/3.8.7/lib/python3.8/site-packages (from sddk) (4.14.3)\n",
      "Requirement already satisfied: geopandas in /home/petra/.pyenv/versions/3.8.7/lib/python3.8/site-packages (from sddk) (0.9.0)\n",
      "Requirement already satisfied: kaleido>=0.2.1 in /home/petra/.pyenv/versions/3.8.7/lib/python3.8/site-packages (from sddk) (0.2.1)\n",
      "Requirement already satisfied: matplotlib>=3.3.4 in /home/petra/.pyenv/versions/3.8.7/lib/python3.8/site-packages (from sddk) (3.3.4)\n",
      "Requirement already satisfied: pyarrow>=3 in /home/petra/.pyenv/versions/3.8.7/lib/python3.8/site-packages (from sddk) (3.0.0)\n",
      "Requirement already satisfied: numpy>=1 in /home/petra/.pyenv/versions/3.8.7/lib/python3.8/site-packages (from sddk) (1.19.5)\n",
      "Requirement already satisfied: shapely in /home/petra/.pyenv/versions/3.8.7/lib/python3.8/site-packages (from sddk) (1.7.1)\n",
      "Requirement already satisfied: pandas>=1 in /home/petra/.local/lib/python3.8/site-packages (from sddk) (1.2.2)\n",
      "Requirement already satisfied: soupsieve>1.2 in /home/petra/.local/lib/python3.8/site-packages (from beautifulsoup4>=4->sddk) (2.0.1)\n",
      "Requirement already satisfied: pyparsing!=2.0.4,!=2.1.2,!=2.1.6,>=2.0.3 in /home/petra/.local/lib/python3.8/site-packages (from matplotlib>=3.3.4->sddk) (2.4.7)\n",
      "Requirement already satisfied: cycler>=0.10 in /home/petra/.pyenv/versions/3.8.7/lib/python3.8/site-packages (from matplotlib>=3.3.4->sddk) (0.10.0)\n",
      "Requirement already satisfied: pillow>=6.2.0 in /home/petra/.pyenv/versions/3.8.7/lib/python3.8/site-packages (from matplotlib>=3.3.4->sddk) (8.1.2)\n",
      "Requirement already satisfied: kiwisolver>=1.0.1 in /home/petra/.pyenv/versions/3.8.7/lib/python3.8/site-packages (from matplotlib>=3.3.4->sddk) (1.3.1)\n",
      "Requirement already satisfied: python-dateutil>=2.1 in /home/petra/.local/lib/python3.8/site-packages (from matplotlib>=3.3.4->sddk) (2.8.1)\n",
      "Requirement already satisfied: six in /home/petra/.local/lib/python3.8/site-packages (from cycler>=0.10->matplotlib>=3.3.4->sddk) (1.15.0)\n",
      "Requirement already satisfied: retrying>=1.3.3 in /home/petra/.pyenv/versions/3.8.7/lib/python3.8/site-packages (from plotly>=4->sddk) (1.3.3)\n",
      "Requirement already satisfied: future>=0.16.0 in /home/petra/.pyenv/versions/3.8.7/lib/python3.8/site-packages (from bibtexparser->pyzotero) (0.18.2)\n",
      "Requirement already satisfied: pyproj>=2.2.0 in /home/petra/.pyenv/versions/3.8.7/lib/python3.8/site-packages (from geopandas->sddk) (3.0.1)\n",
      "Requirement already satisfied: fiona>=1.8 in /home/petra/.pyenv/versions/3.8.7/lib/python3.8/site-packages (from geopandas->sddk) (1.8.19)\n",
      "Requirement already satisfied: cligj>=0.5 in /home/petra/.pyenv/versions/3.8.7/lib/python3.8/site-packages (from fiona>=1.8->geopandas->sddk) (0.7.1)\n",
      "Requirement already satisfied: click<8,>=4.0 in /home/petra/.pyenv/versions/3.8.7/lib/python3.8/site-packages (from fiona>=1.8->geopandas->sddk) (7.1.2)\n",
      "Requirement already satisfied: munch in /home/petra/.pyenv/versions/3.8.7/lib/python3.8/site-packages (from fiona>=1.8->geopandas->sddk) (2.5.0)\n",
      "Requirement already satisfied: attrs>=17 in /home/petra/.local/lib/python3.8/site-packages (from fiona>=1.8->geopandas->sddk) (19.1.0)\n",
      "Requirement already satisfied: click-plugins>=1.0 in /home/petra/.pyenv/versions/3.8.7/lib/python3.8/site-packages (from fiona>=1.8->geopandas->sddk) (1.1.1)\n"
     ]
    }
   ],
   "source": [
    "!pip install pyzotero sddk -U\n",
    "import requests\n",
    "import sddk"
   ]
  },
  {
   "cell_type": "code",
   "execution_count": 3,
   "metadata": {},
   "outputs": [
    {
     "name": "stdout",
     "output_type": "stream",
     "text": [
      "Your ScienceData username (e.g. '123456@au.dk'): 648560@au.dk\n",
      "Your ScienceData password: ········\n",
      "endpoint variable has been configured to: https://sciencedata.dk/files/\n"
     ]
    }
   ],
   "source": [
    "s = sddk.cloudSession(\"sciencedata.dk\")"
   ]
  },
  {
   "cell_type": "code",
   "execution_count": 4,
   "metadata": {},
   "outputs": [
    {
     "name": "stdout",
     "output_type": "stream",
     "text": [
      "file has not been found; check filename and path.\n"
     ]
    },
    {
     "ename": "TypeError",
     "evalue": "'NoneType' object is not subscriptable",
     "output_type": "error",
     "traceback": [
      "\u001b[0;31m---------------------------------------------------------------------------\u001b[0m",
      "\u001b[0;31mTypeError\u001b[0m                                 Traceback (most recent call last)",
      "\u001b[0;32m<ipython-input-4-8a037e795813>\u001b[0m in \u001b[0;36m<module>\u001b[0;34m\u001b[0m\n\u001b[1;32m      2\u001b[0m \u001b[0;34m\u001b[0m\u001b[0m\n\u001b[1;32m      3\u001b[0m \u001b[0mzot_keys\u001b[0m \u001b[0;34m=\u001b[0m \u001b[0ms\u001b[0m\u001b[0;34m.\u001b[0m\u001b[0mread_file\u001b[0m\u001b[0;34m(\u001b[0m\u001b[0;34m\"zot_keys.json\"\u001b[0m\u001b[0;34m,\u001b[0m \u001b[0;34m\"dict\"\u001b[0m\u001b[0;34m)\u001b[0m\u001b[0;34m\u001b[0m\u001b[0;34m\u001b[0m\u001b[0m\n\u001b[0;32m----> 4\u001b[0;31m \u001b[0mlibrary_id\u001b[0m \u001b[0;34m=\u001b[0m  \u001b[0mzot_keys\u001b[0m\u001b[0;34m[\u001b[0m\u001b[0;34m\"user_id\"\u001b[0m\u001b[0;34m]\u001b[0m \u001b[0;31m# or: getpass.getpass(\"insert your id: \")\u001b[0m\u001b[0;34m\u001b[0m\u001b[0;34m\u001b[0m\u001b[0m\n\u001b[0m\u001b[1;32m      5\u001b[0m \u001b[0mapi_key\u001b[0m \u001b[0;34m=\u001b[0m  \u001b[0mzot_keys\u001b[0m\u001b[0;34m[\u001b[0m\u001b[0;34m\"key\"\u001b[0m\u001b[0;34m]\u001b[0m \u001b[0;31m# or: getpass.getpass(\"insert your key: \")\u001b[0m\u001b[0;34m\u001b[0m\u001b[0;34m\u001b[0m\u001b[0m\n\u001b[1;32m      6\u001b[0m \u001b[0;34m\u001b[0m\u001b[0m\n",
      "\u001b[0;31mTypeError\u001b[0m: 'NoneType' object is not subscriptable"
     ]
    }
   ],
   "source": [
    "# based on https://pyzotero.readthedocs.io/en/latest/\n",
    "\n",
    "zot_keys = s.read_file(\"zot_keys.json\", \"dict\")\n",
    "library_id =  zot_keys[\"user_id\"] # or: getpass.getpass(\"insert your id: \")\n",
    "api_key =  zot_keys[\"key\"] # or: getpass.getpass(\"insert your key: \")\n",
    "\n",
    "# base url for individual user library\n",
    "base_url = \"https://api.zotero.org/users/\" + str(library_id) + \"/\"\n",
    "headers ={\"Authorization\": \"Bearer \" + api_key}"
   ]
  },
  {
   "cell_type": "code",
   "execution_count": 4,
   "metadata": {},
   "outputs": [
    {
     "data": {
      "text/plain": [
       "[{'key': 'P55PUAIK',\n",
       "  'version': 2818,\n",
       "  'library': {'type': 'user',\n",
       "   'id': 2132694,\n",
       "   'name': 'vojtech.kase',\n",
       "   'links': {'alternate': {'href': 'https://www.zotero.org/vojtech.kase',\n",
       "     'type': 'text/html'}}},\n",
       "  'links': {'self': {'href': 'https://api.zotero.org/users/2132694/collections/P55PUAIK',\n",
       "    'type': 'application/json'},\n",
       "   'alternate': {'href': 'https://www.zotero.org/vojtech.kase/collections/P55PUAIK',\n",
       "    'type': 'text/html'}},\n",
       "  'meta': {'numCollections': 0, 'numItems': 62},\n",
       "  'data': {'key': 'P55PUAIK',\n",
       "   'version': 2818,\n",
       "   'name': 'JDH_article',\n",
       "   'parentCollection': False,\n",
       "   'relations': {'owl:sameAs': 'http://zotero.org/groups/2366083/collections/QR9UH9RG'}}}]"
      ]
     },
     "execution_count": 4,
     "metadata": {},
     "output_type": "execute_result"
    }
   ],
   "source": [
    "# list all personal collections\n",
    "url = \"https://api.zotero.org/users/2132694/collections\"\n",
    "resp = requests.get(url, headers=headers)\n",
    "resp.json()"
   ]
  },
  {
   "cell_type": "code",
   "execution_count": 5,
   "metadata": {},
   "outputs": [],
   "source": [
    "# list all items within preselected collection:\n",
    "url = \"https://api.zotero.org/users/2132694/collections/P55PUAIK/items?limit=1000\"\n",
    "resp = requests.get(url, headers=headers)"
   ]
  },
  {
   "cell_type": "code",
   "execution_count": 6,
   "metadata": {},
   "outputs": [],
   "source": [
    "# ids of items\n",
    "citation_keys_pairs = {}\n",
    "for item in resp.json():\n",
    "    try:\n",
    "        item_key = item[\"meta\"][\"creatorSummary\"] + \" \" + item[\"meta\"][\"parsedDate\"]\n",
    "    except: \n",
    "        try:\n",
    "            item_key = item[\"data\"][\"title\"]\n",
    "        except:\n",
    "            pass\n",
    "    citation_keys_pairs[item_key] = item[\"data\"][\"key\"]"
   ]
  },
  {
   "cell_type": "code",
   "execution_count": 7,
   "metadata": {},
   "outputs": [
    {
     "data": {
      "text/plain": [
       "{'Full Text': '49AE839R',\n",
       " 'Accepted Version': 'I4SY879G',\n",
       " 'Wilson_2012_City Sizes and Urbanization in the Roman Empire.pdf': 'AGSJ79AY',\n",
       " 'Attachment': 'YAFN5N27',\n",
       " 'Hedrick - 1999 - Democracy and the Athenian Epigraphical Habit.pdf': 'TVCGWGMN',\n",
       " 'Crema2020_JomonPopulationDynamics.pdf': 'MG4AUE6B',\n",
       " 'PDF': 'Z8JVQ5FX',\n",
       " 'Crema - 2012 - Modelling Temporal Uncertainty in Archaeological A.pdf': 'VDPSKXF2',\n",
       " 'Turchin_Scheidel_2009_Coin Hoards Speak of Population Declines in Ancient Rome.pdf': 'K5B59T6I',\n",
       " 'turchin-et-al_2018_quantitative-historical-analysis.pdf': 'IJPUN3PC',\n",
       " 'Ballsun-Stanton 2020': 'P79KQAFU',\n",
       " 'Wilson 2012': 'SYSTIFZQ',\n",
       " 'Hanson et al. 2017': 'C2MUHDNG',\n",
       " 'Morris 2013': '9YX6ZS7N',\n",
       " 'Morris 2010': '627JE7WX',\n",
       " 'Mullins et al. 2018': 'IFEXKMWT',\n",
       " 'Harper 2016': '33TNUAZ3',\n",
       " 'Kolb 2019-06-17': '95I2Q54Z',\n",
       " 'Borgman 2015': 'GSAVHWAN',\n",
       " 'Cayless et al. 2010-12-31': 'KRXAF9YL',\n",
       " 'Laurence 1999': 'AW6LP4AP',\n",
       " 'Bodard 2008': '66WIWW57',\n",
       " 'Liuzzo 2018-12-31': '4WT5APEZ',\n",
       " 'de Ligt and Tacoma 2016-01-19': '6ZEVHLM6',\n",
       " 'Wilson and Flohr 2016-01-01': 'B99689HI',\n",
       " 'Verhagen 2019': 'A2U4FIKT',\n",
       " 'Hanel 2020-03-24': 'CLBZUHJ7',\n",
       " 'Bodard et al. 2021-03-26': 'AHA9EWZL',\n",
       " 'Avanzini et al. 2018-12-31': 'LFKD595C',\n",
       " 'De Santis and Rossi 2018-12-31': '37N8YE3I',\n",
       " 'Littman and Littman 1973': 'UZDY7HD7',\n",
       " 'Rabinowitz et al. 2018-12-31': 'N8MU7LGT',\n",
       " 'Bodel 2001': '4YVYEDQD',\n",
       " 'Crema and Kobayashi 2020': 'DF62R52E',\n",
       " 'Kaše 2021-03-31': 'MT2ZRZBH',\n",
       " 'Kemkes 2020-03-24': 'AIJX7C5S',\n",
       " 'Verhagen et al. 2016': 'XJBYYW4X',\n",
       " 'Keppie 1991': 'V9UVGQX2',\n",
       " 'Bowman and Wilson 2009': '6YVHFFUJ',\n",
       " 'Turchin and Scheidel 2009': 'U48VTMSM',\n",
       " 'Hedrick 1999': '2LT8WIGC',\n",
       " 'Beltrán Lloris 2014': '6CHTC3L7',\n",
       " 'Nawotka 2021': 'NEGLBLPH',\n",
       " 'Bolle et al. 2017': 'GDRQEX9Z',\n",
       " 'Lotz 2020-10-07': 'XUF75FS9',\n",
       " 'MacMullen 1982': 'BGNB6HUT',\n",
       " 'Pérez 2021': '8AAUR7HD',\n",
       " 'Trout 2009': 'F3Y2FVVY',\n",
       " 'Feraudi-Gruénais and Grieshaber 2016': '7KH8X6PB',\n",
       " 'Grieshaber 2019': 'DBL5UIX2',\n",
       " 'Woolf 1996': 'HBPZKHXT',\n",
       " 'Elliot et al. 2020': 'BADWX5AX',\n",
       " 'Duthoy 2002': 'ARJNJ286',\n",
       " 'Elliot 2015': 'VH243883',\n",
       " 'Meyer 1990': 'MUKI9YSZ',\n",
       " 'Dow 1969': 'WRT7VI6X',\n",
       " 'Bloch 1967': '5GAQW7DV',\n",
       " 'Bloch 1947': 'T9TGS9S6',\n",
       " 'McLean 2016': 'H7KAA2TH',\n",
       " 'Korhonen 2011': '6HXR6GAN',\n",
       " 'Janouchová (Heřmánková) 2021': 'MNRERH36',\n",
       " 'Prag 2002': 'CALUBQFC',\n",
       " 'Prag 2013': 'NX2YYEWH',\n",
       " 'Cooley et al. 2007': 'XQGJDGFJ',\n",
       " 'Crema 2012': 'UTITLKQZ',\n",
       " 'Johnson 2004': 'EIU8NCUL',\n",
       " 'Roueche and Sotinel 2017-03': 'NR7KMK97',\n",
       " 'Oksanen and Lewis 2020': 'HGSQZDS4',\n",
       " 'Hartmann 2018-10-13': 'YS8ZN82H',\n",
       " 'Elliot et al. 2017': 'WNGG6SYB',\n",
       " 'Turchin et al. 2018': '5ALKMMVG'}"
      ]
     },
     "execution_count": 7,
     "metadata": {},
     "output_type": "execute_result"
    }
   ],
   "source": [
    "citation_keys_pairs"
   ]
  },
  {
   "cell_type": "markdown",
   "metadata": {},
   "source": [
    "# Small test"
   ]
  },
  {
   "cell_type": "markdown",
   "metadata": {},
   "source": [
    "this way, we can easily generate the data in the form produced by cite2c, combining **collection ID** and **item ID**. \n",
    "\n",
    "However, it seems that cite2c does not support group collection. We need to work with our personal collection instead."
   ]
  },
  {
   "cell_type": "markdown",
   "metadata": {},
   "source": [
    "Here we test how the citations work. We will use Wilson 2012 as an example. Let put it here <cite data-cite=\"1913534/SYSTIFZQ\"></cite>. Another citation would be here <cite data-cite=\"1913534/627JE7WX\"></cite> or here <cite data-cite=\"1913534/IFEXKMWT\"></cite> (here should be Mullins et al. 2018 - but does not render automatically) "
   ]
  },
  {
   "cell_type": "markdown",
   "metadata": {},
   "source": [
    "<cite data-cite=\"1913534/U48VTMSM\"></cite>"
   ]
  },
  {
   "cell_type": "markdown",
   "metadata": {},
   "source": [
    "<div class=\"cite2c-biblio\"></div>"
   ]
  },
  {
   "cell_type": "markdown",
   "metadata": {},
   "source": [
    "# Read ipynb as text file"
   ]
  },
  {
   "cell_type": "markdown",
   "metadata": {},
   "source": [
    "<cite data-cite=\"1913534/U48VTMSM\"></cite>"
   ]
  },
  {
   "cell_type": "code",
   "execution_count": 8,
   "metadata": {},
   "outputs": [
    {
     "data": {
      "text/plain": [
       "'{\\n \"cells\": [\\n  {\\n   \"cell_type\": \"markdown\",\\n   \"metadata\": {\\n    \"tags\": [\\n     \"title\"\\n    ]\\n   },\\n   \"source\": [\\n    \"# Inscriptions as data: digital epigraphy in macro-historical perspective \"\\n   ]\\n  },\\n  {\\n   \"cell_type\": \"markdown\",\\n   \"metadata\": {\\n    \"tags\": [\\n     \"contributor\"\\n    ]\\n   },\\n   \"source\": [\\n    \"### Petra Hermankova\\\\n\",\\n    \"Author. Aarhus University, [ORCID: 0000-0002-6349-0540](https://orcid.org/0000-0002-6349-0540)\"\\n   ]\\n  },\\n  {\\n   \"cell_type\": \"markdown\",\\n   \"metadata\": {\\n    \"tags\": [\\n     \"contributor\"\\n    ]\\n   },\\n   \"source\": [\\n    \"### Vojtech Kase\\\\n\",\\n    \"Author. Aarhus University, [ORCID: 0000-0002-6601-1605](http://orcid.org/0000-0002-6601-1605)\"\\n   ]\\n  },\\n  {\\n   \"cell_type\": \"markdown\",\\n   \"metadata\": {\\n    \"tags\": [\\n     \"contributor\"\\n    ]\\n   },\\n   \"source\": [\\n    \"### Adela Sobotkova\\\\n\",\\n    \"Author. Aarhus University, [ORCID:0000-0002-4541-3963](https://orcid.org/0000-0002-4541-3963)\"\\n   ]\\n  },\\n  {\\n   \"cell_type\": \"markdown\",\\n   \"metadata\": {\\n'"
      ]
     },
     "execution_count": 8,
     "metadata": {},
     "output_type": "execute_result"
    }
   ],
   "source": [
    "notebook_text = open(\"Digital_epigraphy.ipynb\").read()\n",
    "notebook_text[:1000]"
   ]
  },
  {
   "cell_type": "code",
   "execution_count": 9,
   "metadata": {},
   "outputs": [
    {
     "name": "stdout",
     "output_type": "stream",
     "text": [
      "PDF\n",
      "Wilson 2012\n",
      "Hanson et al. 2017\n",
      "Mullins et al. 2018\n",
      "Harper 2016\n",
      "Borgman 2015\n",
      "Laurence 1999\n",
      "Bodard 2008\n",
      "Verhagen 2019\n",
      "Bodel 2001\n",
      "Crema and Kobayashi 2020\n",
      "Verhagen et al. 2016\n",
      "Bowman and Wilson 2009\n",
      "Turchin and Scheidel 2009\n",
      "Hedrick 1999\n",
      "Nawotka 2021\n",
      "MacMullen 1982\n",
      "Trout 2009\n",
      "Feraudi-Gruénais and Grieshaber 2016\n",
      "Grieshaber 2019\n",
      "Woolf 1996\n",
      "Meyer 1990\n",
      "Dow 1969\n",
      "Bloch 1947\n",
      "Prag 2002\n",
      "Crema 2012\n",
      "Johnson 2004\n",
      "Oksanen and Lewis 2020\n",
      "Turchin et al. 2018\n"
     ]
    }
   ],
   "source": [
    "for key in citation_keys_pairs.keys():\n",
    "    if key in notebook_text:\n",
    "        print(key)"
   ]
  },
  {
   "cell_type": "markdown",
   "metadata": {},
   "source": [
    "Working at the level of the province with a couple thousand inscriptions at a time, scholars have started constructing regional diachronic overviews of epigraphic production. Comparative studies between North Africa, Gaul or Greece revealed that epigraphic production in these provinces follows the same diachronic pattern. Inscription numbers peak at the end of the second century AD, during the reign of Septimius Severus (AD 193 - AD 211), and decline abruptly in the beginning of the third century AD (MacMullen 1982; Meyer 1991; Woolf 1996). Researchers started exploring different drivers for such convergence, interrogating the role of funerary habits to the popularity of public status display to the democratisation of citizenship. For instance, Elizabeth Meyer used the example of epitaphs to explain the drop in the number of inscriptions after the Constitutio Antoniniana in AD 212 granted Roman citizenship to all inhabitants of the Roman Empire. According to Meyer, being a Roman citizen lost some of its prestige and so did funerary inscriptions as public markers of societal status (Meyer 1990, 78-81). Such explanations failed to address the phenomenon of epigraphic production in all its breadth and complexity, focusing only on funerary inscriptions from selected regions. Since the time of MacMullen many scholars have attempted to study epigraphic production at the scale of the Empire (e.g., Hedrick 1999; Trout 2009; Beltran Lloris 2014; Bolle, Machado, and Witschel 2017; Nawotka 2021; Blanco Perez 2021). These efforts have been hindered first by the constraints on interoperability and integration of digital datasets, second, by the volume and diversity of epigraphic data, and finally, by the inability to precisely quantify the number of inscriptions at any point in time (Beltran Lloris 2014, 139)."
   ]
  },
  {
   "cell_type": "code",
   "execution_count": 10,
   "metadata": {},
   "outputs": [
    {
     "name": "stdout",
     "output_type": "stream",
     "text": [
      "Working at the level of the province with a couple thousand inscriptions at a time, scholars have started constructing regional diachronic overviews of epigraphic production. Comparative studies between North Africa, Gaul or Greece revealed that epigraphic production in these provinces follows the same diachronic pattern. Inscription numbers peak at the end of the second century AD, during the reign of Septimius Severus (AD 193 - AD 211), and decline abruptly in the beginning of the third century AD (MacMullen 1982; Meyer 1991; Woolf 1996). Researchers started exploring different drivers for such convergence, interrogating the role of funerary habits to the popularity of public status display to the democratisation of citizenship. For instance, Elizabeth Meyer used the example of epitaphs to explain the drop in the number of inscriptions after the Constitutio Antoniniana in AD 212 granted Roman citizenship to all inhabitants of the Roman Empire. According to Meyer, being a Roman citizen lost some of its prestige and so did funerary inscriptions as public markers of societal status (Meyer 1990, 78-81). Such explanations failed to address the phenomenon of epigraphic production in all its breadth and complexity, focusing only on funerary inscriptions from selected regions. Since the time of MacMullen many scholars have attempted to study epigraphic production at the scale of the Empire (e.g., Hedrick 1999; Trout 2009; Beltran Lloris 2014; Bolle, Machado, and Witschel 2017; Nawotka 2021; Blanco Perez 2021). These efforts have been hindered first by the constraints on interoperability and integration of digital datasets, second, by the volume and diversity of epigraphic data, and finally, by the inability to precisely quantify the number of inscriptions at any point in time (Beltran Lloris 2014, 139).\n"
     ]
    }
   ],
   "source": [
    "test_paragraph = \"Working at the level of the province with a couple thousand inscriptions at a time, scholars have started constructing regional diachronic overviews of epigraphic production. Comparative studies between North Africa, Gaul or Greece revealed that epigraphic production in these provinces follows the same diachronic pattern. Inscription numbers peak at the end of the second century AD, during the reign of Septimius Severus (AD 193 - AD 211), and decline abruptly in the beginning of the third century AD (MacMullen 1982; Meyer 1991; Woolf 1996). Researchers started exploring different drivers for such convergence, interrogating the role of funerary habits to the popularity of public status display to the democratisation of citizenship. For instance, Elizabeth Meyer used the example of epitaphs to explain the drop in the number of inscriptions after the Constitutio Antoniniana in AD 212 granted Roman citizenship to all inhabitants of the Roman Empire. According to Meyer, being a Roman citizen lost some of its prestige and so did funerary inscriptions as public markers of societal status (Meyer 1990, 78-81). Such explanations failed to address the phenomenon of epigraphic production in all its breadth and complexity, focusing only on funerary inscriptions from selected regions. Since the time of MacMullen many scholars have attempted to study epigraphic production at the scale of the Empire (e.g., Hedrick 1999; Trout 2009; Beltran Lloris 2014; Bolle, Machado, and Witschel 2017; Nawotka 2021; Blanco Perez 2021). These efforts have been hindered first by the constraints on interoperability and integration of digital datasets, second, by the volume and diversity of epigraphic data, and finally, by the inability to precisely quantify the number of inscriptions at any point in time (Beltran Lloris 2014, 139).\"\n",
    "print(test_paragraph)"
   ]
  },
  {
   "cell_type": "code",
   "execution_count": 11,
   "metadata": {},
   "outputs": [],
   "source": [
    "for key in citation_keys_pairs.keys():\n",
    "    if key in test_paragraph:\n",
    "        test_paragraph = test_paragraph.replace(key, '<cite data-cite=\"1913534/' + citation_keys_pairs[key] + '\"></cite>')"
   ]
  },
  {
   "cell_type": "code",
   "execution_count": 12,
   "metadata": {},
   "outputs": [
    {
     "data": {
      "text/plain": [
       "'Working at the level of the province with a couple thousand inscriptions at a time, scholars have started constructing regional diachronic overviews of epigraphic production. Comparative studies between North Africa, Gaul or Greece revealed that epigraphic production in these provinces follows the same diachronic pattern. Inscription numbers peak at the end of the second century AD, during the reign of Septimius Severus (AD 193 - AD 211), and decline abruptly in the beginning of the third century AD (<cite data-cite=\"1913534/BGNB6HUT\"></cite>; Meyer 1991; <cite data-cite=\"1913534/HBPZKHXT\"></cite>). Researchers started exploring different drivers for such convergence, interrogating the role of funerary habits to the popularity of public status display to the democratisation of citizenship. For instance, Elizabeth Meyer used the example of epitaphs to explain the drop in the number of inscriptions after the Constitutio Antoniniana in AD 212 granted Roman citizenship to all inhabitants of the Roman Empire. According to Meyer, being a Roman citizen lost some of its prestige and so did funerary inscriptions as public markers of societal status (<cite data-cite=\"1913534/MUKI9YSZ\"></cite>, 78-81). Such explanations failed to address the phenomenon of epigraphic production in all its breadth and complexity, focusing only on funerary inscriptions from selected regions. Since the time of MacMullen many scholars have attempted to study epigraphic production at the scale of the Empire (e.g., <cite data-cite=\"1913534/2LT8WIGC\"></cite>; <cite data-cite=\"1913534/F3Y2FVVY\"></cite>; Beltran Lloris 2014; Bolle, Machado, and Witschel 2017; <cite data-cite=\"1913534/NEGLBLPH\"></cite>; Blanco Perez 2021). These efforts have been hindered first by the constraints on interoperability and integration of digital datasets, second, by the volume and diversity of epigraphic data, and finally, by the inability to precisely quantify the number of inscriptions at any point in time (Beltran Lloris 2014, 139).'"
      ]
     },
     "execution_count": 12,
     "metadata": {},
     "output_type": "execute_result"
    }
   ],
   "source": [
    "test_paragraph"
   ]
  },
  {
   "cell_type": "markdown",
   "metadata": {},
   "source": [
    "Working at the level of the province with a couple thousand inscriptions at a time, scholars have started constructing regional diachronic overviews of epigraphic production. Comparative studies between North Africa, Gaul or Greece revealed that epigraphic production in these provinces follows the same diachronic pattern. Inscription numbers peak at the end of the second century AD, during the reign of Septimius Severus (AD 193 - AD 211), and decline abruptly in the beginning of the third century AD (<cite data-cite=\"1913534/BGNB6HUT\"></cite>; Meyer 1991; <cite data-cite=\"1913534/HBPZKHXT\"></cite>). Researchers started exploring different drivers for such convergence, interrogating the role of funerary habits to the popularity of public status display to the democratisation of citizenship. For instance, Elizabeth Meyer used the example of epitaphs to explain the drop in the number of inscriptions after the Constitutio Antoniniana in AD 212 granted Roman citizenship to all inhabitants of the Roman Empire. According to Meyer, being a Roman citizen lost some of its prestige and so did funerary inscriptions as public markers of societal status (<cite data-cite=\"1913534/MUKI9YSZ\"></cite>, 78-81). Such explanations failed to address the phenomenon of epigraphic production in all its breadth and complexity, focusing only on funerary inscriptions from selected regions. Since the time of MacMullen many scholars have attempted to study epigraphic production at the scale of the Empire (e.g., <cite data-cite=\"1913534/2LT8WIGC\"></cite>; <cite data-cite=\"1913534/F3Y2FVVY\"></cite>; Beltran Lloris 2014; Bolle, Machado, and Witschel 2017; <cite data-cite=\"1913534/NEGLBLPH\"></cite>; Blanco Perez 2021). These efforts have been hindered first by the constraints on interoperability and integration of digital datasets, second, by the volume and diversity of epigraphic data, and finally, by the inability to precisely quantify the number of inscriptions at any point in time (Beltran Lloris 2014, 139).\n",
    "\n"
   ]
  },
  {
   "cell_type": "code",
   "execution_count": null,
   "metadata": {},
   "outputs": [],
   "source": []
  }
 ],
 "metadata": {
  "cite2c": {
   "citations": {
    "1913534/627JE7WX": {
     "ISBN": "978-0-312-61169-9",
     "abstract": "Summary: Archaeologist and historian Ian Morris explains that Western dominance is largely the result of the effects of geography on the everyday efforts of ordinary people as they deal with crises of resources, disease, migration, and climate. As geography and human ingenuity continue to interact, however, the world over the next hundred years will subsequently change in astonishing ways, transforming Western rule in the process.",
     "author": [
      {
       "family": "Morris",
       "given": "Ian"
      }
     ],
     "event-place": "New York",
     "id": "1913534/627JE7WX",
     "issued": {
      "year": 2010
     },
     "language": "eng",
     "note": "Publication Title: Why the west rules - for now : the patterns of history, and what they reveal about the future /",
     "publisher": "Farrar, Straus and Giroux",
     "publisher-place": "New York",
     "title": "Why the west rules - for now : the patterns of history, and what they reveal about the future",
     "type": "book"
    },
    "1913534/SYSTIFZQ": {
     "ISBN": "0-19-960235-2",
     "author": [
      {
       "family": "Wilson",
       "given": "Andrew"
      }
     ],
     "collection-title": "Oxford Studies in the Roman Economy",
     "container-title": "Settlement, Urbanization and Population",
     "editor": [
      {
       "family": "Bowman",
       "given": "Alan"
      },
      {
       "family": "Wilson",
       "given": "Andrew"
      }
     ],
     "event-place": "Oxford - New York",
     "id": "1913534/SYSTIFZQ",
     "issued": {
      "year": 2012
     },
     "page": "161–195",
     "page-first": "161",
     "publisher": "Oxford University Press",
     "publisher-place": "Oxford - New York",
     "title": "City Sizes and Urbanization in the Roman Empire",
     "type": "chapter"
    },
    "1913534/U48VTMSM": {
     "DOI": "10.1073/pnas.0904576106",
     "abstract": "In times of violence, people tend to hide their valuables, which are later recovered unless the owners had been killed or driven away. Thus, the temporal distribution of unrecovered coin hoards is an excellent proxy for the intensity of internal warfare. We use this relationship to resolve a long-standing controversy in Roman history. Depending on who was counted in the early Imperial censuses (adult males or the entire citizenry including women and minors), the Roman citizen population of Italy either declined, or more than doubled, during the first century BCE. This period was characterized by a series of civil wars, and historical evidence indicates that high levels of sociopolitical instability are associated with demographic contractions. We fitted a simple model quantifying the effect of instability (proxied by hoard frequency) on population dynamics to the data before 100 BCE. The model predicts declining population after 100 BCE. This suggests that the vigorous growth scenario is highly implausible.",
     "author": [
      {
       "family": "Turchin",
       "given": "Peter"
      },
      {
       "family": "Scheidel",
       "given": "Walter"
      }
     ],
     "container-title": "Proceedings of the National Academy of Sciences of the United States of America",
     "id": "1913534/U48VTMSM",
     "issued": {
      "year": 2009
     },
     "note": "PMID: 19805043",
     "page": "17276–17279",
     "page-first": "17276",
     "title": "Coin Hoards Speak of Population Declines in Ancient Rome",
     "type": "article-journal",
     "volume": "106"
    }
   }
  },
  "kernelspec": {
   "display_name": "Python 3",
   "language": "python",
   "name": "python3"
  },
  "language_info": {
   "codemirror_mode": {
    "name": "ipython",
    "version": 3
   },
   "file_extension": ".py",
   "mimetype": "text/x-python",
   "name": "python",
   "nbconvert_exporter": "python",
   "pygments_lexer": "ipython3",
   "version": "3.8.7"
  },
  "toc": {
   "base_numbering": 1,
   "nav_menu": {},
   "number_sections": true,
   "sideBar": true,
   "skip_h1_title": false,
   "title_cell": "Table of Contents",
   "title_sidebar": "Contents",
   "toc_cell": false,
   "toc_position": {},
   "toc_section_display": true,
   "toc_window_display": false
  }
 },
 "nbformat": 4,
 "nbformat_minor": 4
}
