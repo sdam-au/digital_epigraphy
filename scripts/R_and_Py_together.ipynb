{
 "cells": [
  {
   "cell_type": "code",
   "execution_count": 61,
   "id": "quantitative-camcorder",
   "metadata": {},
   "outputs": [],
   "source": [
    "# R requirements:\n",
    "\n",
    "#install.packages(\"reticulate\")\n",
    "#install.packages(\"tidyverse\")\n",
    "#devtools::install_github(\"sdam-au/sdam\")\n",
    "\n",
    "library(reticulate)\n",
    "library(tidyverse)\n",
    "library(jsonlite)\n",
    "library(sdam)"
   ]
  },
  {
   "cell_type": "code",
   "execution_count": 51,
   "id": "metropolitan-atmosphere",
   "metadata": {},
   "outputs": [
    {
     "data": {
      "text/plain": [
       "python:         /home/petra/.local/share/r-miniconda/envs/r-reticulate/bin/python\n",
       "libpython:      /home/petra/.local/share/r-miniconda/envs/r-reticulate/lib/libpython3.6m.so\n",
       "pythonhome:     /home/petra/.local/share/r-miniconda/envs/r-reticulate:/home/petra/.local/share/r-miniconda/envs/r-reticulate\n",
       "version:        3.6.11 | packaged by conda-forge | (default, Nov 27 2020, 18:57:37)  [GCC 9.3.0]\n",
       "numpy:          /home/petra/.local/lib/python3.6/site-packages/numpy\n",
       "numpy_version:  1.15.4"
      ]
     },
     "metadata": {},
     "output_type": "display_data"
    }
   ],
   "source": [
    "py_config()"
   ]
  },
  {
   "cell_type": "code",
   "execution_count": 73,
   "id": "sublime-anchor",
   "metadata": {},
   "outputs": [],
   "source": [
    "resp = request(\"EDH_text_cleaned_2021-01-21.json\", path=\"/sharingin/648597@au.dk/SDAM_root/SDAM_data/EDH/public\", method=\"GET\", anonymous = TRUE, cred = NULL)"
   ]
  },
  {
   "cell_type": "code",
   "execution_count": 68,
   "id": "tender-relation",
   "metadata": {},
   "outputs": [
    {
     "data": {
      "text/plain": [
       "[1] <?xml version=\"1.0\" encoding=\"utf-8\"?>\\n<d:error xmlns:d=\"DAV:\" xmlns:s=\"http://sabredav.org/ns\">\\n  <s:exception>Sabre\\\\DAV\\\\Exception\\\\NotAuthenticated</s:exception>\\n  <s:message>No basic authentication headers were found</s:message>\\n  <s:sabredav-version>1.8.12</s:sabredav-version>\\n</d:error>\\n"
      ]
     },
     "metadata": {},
     "output_type": "display_data"
    }
   ],
   "source": [
    "resp"
   ]
  },
  {
   "cell_type": "code",
   "execution_count": 64,
   "id": "solar-arbitration",
   "metadata": {},
   "outputs": [
    {
     "ename": "ERROR",
     "evalue": "Error: lexical error: invalid char in json text.\n                                       <?xml version=\"1.0\" encoding=\"u\n                     (right here) ------^\n\n",
     "output_type": "error",
     "traceback": [
      "Error: lexical error: invalid char in json text.\n                                       <?xml version=\"1.0\" encoding=\"u\n                     (right here) ------^\n\nTraceback:\n",
      "1. jsonlite::fromJSON(resp)",
      "2. parse_and_simplify(txt = txt, simplifyVector = simplifyVector, \n .     simplifyDataFrame = simplifyDataFrame, simplifyMatrix = simplifyMatrix, \n .     flatten = flatten, ...)",
      "3. parseJSON(txt, bigint_as_char)",
      "4. parse_string(txt, bigint_as_char)"
     ]
    }
   ],
   "source": [
    "list_json <- jsonlite::fromJSON(resp)\n",
    "EDH <- as_tibble(list_json)\n",
    "head(EDH)"
   ]
  },
  {
   "cell_type": "code",
   "execution_count": 34,
   "id": "willing-married",
   "metadata": {},
   "outputs": [
    {
     "data": {
      "text/html": [
       "<table class=\"dataframe\">\n",
       "<caption>A data.frame: 15 × 4</caption>\n",
       "<thead>\n",
       "\t<tr><th scope=col>Var1</th><th scope=col>Freq</th><th scope=col>Percentage</th><th scope=col>Percent_round</th></tr>\n",
       "\t<tr><th scope=col>&lt;fct&gt;</th><th scope=col>&lt;int&gt;</th><th scope=col>&lt;dbl&gt;</th><th scope=col>&lt;dbl&gt;</th></tr>\n",
       "</thead>\n",
       "<tbody>\n",
       "\t<tr><td>Celtic               </td><td>    1</td><td> 0.001227355</td><td> 0.00</td></tr>\n",
       "\t<tr><td>Celtic-Latin         </td><td>    4</td><td> 0.004909421</td><td> 0.00</td></tr>\n",
       "\t<tr><td>Greek                </td><td> 1290</td><td> 1.583288330</td><td> 1.58</td></tr>\n",
       "\t<tr><td>Greek-Hebrew-Latin   </td><td>    1</td><td> 0.001227355</td><td> 0.00</td></tr>\n",
       "\t<tr><td>Greek-Latin          </td><td>  654</td><td> 0.802690363</td><td> 0.80</td></tr>\n",
       "\t<tr><td>Hebrew-Iberian-Latin </td><td>    1</td><td> 0.001227355</td><td> 0.00</td></tr>\n",
       "\t<tr><td>Hebrew-Latin         </td><td>    4</td><td> 0.004909421</td><td> 0.00</td></tr>\n",
       "\t<tr><td>Iberian-Latin        </td><td>    1</td><td> 0.001227355</td><td> 0.00</td></tr>\n",
       "\t<tr><td>Italic-Latin         </td><td>    2</td><td> 0.002454711</td><td> 0.00</td></tr>\n",
       "\t<tr><td>Latin                </td><td>79495</td><td>97.568609161</td><td>97.57</td></tr>\n",
       "\t<tr><td>LG                   </td><td>    1</td><td> 0.001227355</td><td> 0.00</td></tr>\n",
       "\t<tr><td>Numidian             </td><td>    3</td><td> 0.003682066</td><td> 0.00</td></tr>\n",
       "\t<tr><td>Palmyrenic-Latin     </td><td>    3</td><td> 0.003682066</td><td> 0.00</td></tr>\n",
       "\t<tr><td>Phonician-Punic-Latin</td><td>   12</td><td> 0.014728264</td><td> 0.01</td></tr>\n",
       "\t<tr><td>PyGL                 </td><td>    3</td><td> 0.003682066</td><td> 0.00</td></tr>\n",
       "</tbody>\n",
       "</table>\n"
      ],
      "text/latex": [
       "A data.frame: 15 × 4\n",
       "\\begin{tabular}{llll}\n",
       " Var1 & Freq & Percentage & Percent\\_round\\\\\n",
       " <fct> & <int> & <dbl> & <dbl>\\\\\n",
       "\\hline\n",
       "\t Celtic                &     1 &  0.001227355 &  0.00\\\\\n",
       "\t Celtic-Latin          &     4 &  0.004909421 &  0.00\\\\\n",
       "\t Greek                 &  1290 &  1.583288330 &  1.58\\\\\n",
       "\t Greek-Hebrew-Latin    &     1 &  0.001227355 &  0.00\\\\\n",
       "\t Greek-Latin           &   654 &  0.802690363 &  0.80\\\\\n",
       "\t Hebrew-Iberian-Latin  &     1 &  0.001227355 &  0.00\\\\\n",
       "\t Hebrew-Latin          &     4 &  0.004909421 &  0.00\\\\\n",
       "\t Iberian-Latin         &     1 &  0.001227355 &  0.00\\\\\n",
       "\t Italic-Latin          &     2 &  0.002454711 &  0.00\\\\\n",
       "\t Latin                 & 79495 & 97.568609161 & 97.57\\\\\n",
       "\t LG                    &     1 &  0.001227355 &  0.00\\\\\n",
       "\t Numidian              &     3 &  0.003682066 &  0.00\\\\\n",
       "\t Palmyrenic-Latin      &     3 &  0.003682066 &  0.00\\\\\n",
       "\t Phonician-Punic-Latin &    12 &  0.014728264 &  0.01\\\\\n",
       "\t PyGL                  &     3 &  0.003682066 &  0.00\\\\\n",
       "\\end{tabular}\n"
      ],
      "text/markdown": [
       "\n",
       "A data.frame: 15 × 4\n",
       "\n",
       "| Var1 &lt;fct&gt; | Freq &lt;int&gt; | Percentage &lt;dbl&gt; | Percent_round &lt;dbl&gt; |\n",
       "|---|---|---|---|\n",
       "| Celtic                |     1 |  0.001227355 |  0.00 |\n",
       "| Celtic-Latin          |     4 |  0.004909421 |  0.00 |\n",
       "| Greek                 |  1290 |  1.583288330 |  1.58 |\n",
       "| Greek-Hebrew-Latin    |     1 |  0.001227355 |  0.00 |\n",
       "| Greek-Latin           |   654 |  0.802690363 |  0.80 |\n",
       "| Hebrew-Iberian-Latin  |     1 |  0.001227355 |  0.00 |\n",
       "| Hebrew-Latin          |     4 |  0.004909421 |  0.00 |\n",
       "| Iberian-Latin         |     1 |  0.001227355 |  0.00 |\n",
       "| Italic-Latin          |     2 |  0.002454711 |  0.00 |\n",
       "| Latin                 | 79495 | 97.568609161 | 97.57 |\n",
       "| LG                    |     1 |  0.001227355 |  0.00 |\n",
       "| Numidian              |     3 |  0.003682066 |  0.00 |\n",
       "| Palmyrenic-Latin      |     3 |  0.003682066 |  0.00 |\n",
       "| Phonician-Punic-Latin |    12 |  0.014728264 |  0.01 |\n",
       "| PyGL                  |     3 |  0.003682066 |  0.00 |\n",
       "\n"
      ],
      "text/plain": [
       "   Var1                  Freq  Percentage   Percent_round\n",
       "1  Celtic                    1  0.001227355  0.00        \n",
       "2  Celtic-Latin              4  0.004909421  0.00        \n",
       "3  Greek                  1290  1.583288330  1.58        \n",
       "4  Greek-Hebrew-Latin        1  0.001227355  0.00        \n",
       "5  Greek-Latin             654  0.802690363  0.80        \n",
       "6  Hebrew-Iberian-Latin      1  0.001227355  0.00        \n",
       "7  Hebrew-Latin              4  0.004909421  0.00        \n",
       "8  Iberian-Latin             1  0.001227355  0.00        \n",
       "9  Italic-Latin              2  0.002454711  0.00        \n",
       "10 Latin                 79495 97.568609161 97.57        \n",
       "11 LG                        1  0.001227355  0.00        \n",
       "12 Numidian                  3  0.003682066  0.00        \n",
       "13 Palmyrenic-Latin          3  0.003682066  0.00        \n",
       "14 Phonician-Punic-Latin    12  0.014728264  0.01        \n",
       "15 PyGL                      3  0.003682066  0.00        "
      ]
     },
     "metadata": {},
     "output_type": "display_data"
    }
   ],
   "source": [
    "# Language\n",
    "\n",
    "language<- as.data.frame(table(unlist(EDH$language)))\n",
    "language<- language %>% \n",
    "  mutate(Percentage = Freq/(nrow(EDH)/100))\n",
    "language$Percent_round<- round(language$Percentage, digits = 2)\n",
    "language"
   ]
  },
  {
   "cell_type": "code",
   "execution_count": 38,
   "id": "corresponding-winning",
   "metadata": {},
   "outputs": [
    {
     "name": "stderr",
     "output_type": "stream",
     "text": [
      "Warning message in stri_count_regex(string, pattern, opts_regex = opts(pattern)):\n",
      "“argument is not an atomic vector; coercing”\n"
     ]
    },
    {
     "data": {
      "text/html": [
       "79012"
      ],
      "text/latex": [
       "79012"
      ],
      "text/markdown": [
       "79012"
      ],
      "text/plain": [
       "[1] 79012"
      ]
     },
     "metadata": {},
     "output_type": "display_data"
    },
    {
     "name": "stderr",
     "output_type": "stream",
     "text": [
      "Warning message in stri_count_regex(string, pattern, opts_regex = opts(pattern)):\n",
      "“argument is not an atomic vector; coercing”\n"
     ]
    },
    {
     "data": {
      "text/html": [
       "96.9757965535863"
      ],
      "text/latex": [
       "96.9757965535863"
      ],
      "text/markdown": [
       "96.9757965535863"
      ],
      "text/plain": [
       "[1] 96.9758"
      ]
     },
     "metadata": {},
     "output_type": "display_data"
    },
    {
     "name": "stderr",
     "output_type": "stream",
     "text": [
      "Warning message in stri_count_regex(string, pattern, opts_regex = opts(pattern)):\n",
      "“argument is not an atomic vector; coercing”\n"
     ]
    },
    {
     "data": {
      "text/html": [
       "2464"
      ],
      "text/latex": [
       "2464"
      ],
      "text/markdown": [
       "2464"
      ],
      "text/plain": [
       "[1] 2464"
      ]
     },
     "metadata": {},
     "output_type": "display_data"
    },
    {
     "name": "stderr",
     "output_type": "stream",
     "text": [
      "Warning message in stri_count_regex(string, pattern, opts_regex = opts(pattern)):\n",
      "“argument is not an atomic vector; coercing”\n"
     ]
    },
    {
     "data": {
      "text/html": [
       "3.02420344641367"
      ],
      "text/latex": [
       "3.02420344641367"
      ],
      "text/markdown": [
       "3.02420344641367"
      ],
      "text/plain": [
       "[1] 3.024203"
      ]
     },
     "metadata": {},
     "output_type": "display_data"
    }
   ],
   "source": [
    "# Coordinates\n",
    "\n",
    "location<- EDH %>% \n",
    "  select(id, coordinates, findspot_ancient, findspot_ancient_clean, findspot_ancient_certainty, province_label, province_label_clean, province_label_certainty, country, country_clean, country_certainty, modern_region, modern_region_clean, modern_region_certainty, findspot_modern, findspot_modern_clean, findspot_modern_certainty, findspot, findspot_clean, findspot_certainty, present_location, edh_geography_uri, commentary)\n",
    "\n",
    "# how many inscriptions have spatial coordinates available\n",
    "nrow(EDH)-sum(str_count(location$coordinates, \"list()\"))                 \n",
    "\n",
    "# how many % of inscriptions have spatial coordinates available\n",
    "(nrow(EDH)-sum(str_count(location$coordinates, \"list()\")))/(nrow(EDH)/100)\n",
    "\n",
    "# how many inscriptions don't have spatial coordinates\n",
    "sum(str_count(location$coordinates, \"list()\"))\n",
    "\n",
    "# how many % of inscriptions don't have spatial coordinates\n",
    "sum(str_count(location$coordinates, \"list()\"))/(nrow(EDH)/100)\n",
    "\n"
   ]
  },
  {
   "cell_type": "code",
   "execution_count": 52,
   "id": "racial-alberta",
   "metadata": {},
   "outputs": [],
   "source": [
    "download.file(\"https://raw.githubusercontent.com/sdam-au/tempun/master/scripts/modelling_distributions.py\", destfile = \"modelling_distributions.py\")"
   ]
  },
  {
   "cell_type": "code",
   "execution_count": 53,
   "id": "after-prerequisite",
   "metadata": {},
   "outputs": [
    {
     "ename": "ERROR",
     "evalue": "Error in py_run_file_impl(file, local, convert): ImportError: numpy.core.multiarray failed to import\n\nDetailed traceback: \n  File \"<string>\", line 1, in <module>\n  File \"/home/petra/R/x86_64-pc-linux-gnu-library/4.0/reticulate/python/rpytools/loader.py\", line 24, in _import_hook\n    level=level\n  File \"/home/petra/.local/share/r-miniconda/envs/r-reticulate/lib/python3.6/site-packages/scipy/stats/__init__.py\", line 388, in <module>\n    from .stats import *\n  File \"/home/petra/R/x86_64-pc-linux-gnu-library/4.0/reticulate/python/rpytools/loader.py\", line 24, in _import_hook\n    level=level\n  File \"/home/petra/.local/share/r-miniconda/envs/r-reticulate/lib/python3.6/site-packages/scipy/stats/stats.py\", line 174, in <module>\n    from scipy.spatial.distance import cdist\n  File \"/home/petra/R/x86_64-pc-linux-gnu-library/4.0/reticulate/python/rpytools/loader.py\", line 24, in _import_hook\n    level=level\n  File \"/home/petra/.local/share/r-miniconda/envs/r-reticulate/lib/python3.6/site-packages/scipy/spatial/__init__.py\", line 96, in <module>\n    from .kdtree import *\n  File \"/home/petra/R/x86_64-pc-linux-gnu-library/4.0/reticulate/python/rpytools/loader.py\", line 24, in _import_hook\n    level=level\n  File \"/home/petra/.local/share/r-miniconda/envs/r-reticulate/lib/python3.6/site-packages/scipy/spatial/kdtree.py\", line 5, in <module>\n    import scipy.sparse\n  File \"/home/petra/R/x86_64-pc-linux-gnu-library/4.0/reticulate/python/rpytools/loader.py\", line 24, in _import_hook\n    level=level\n  File \"/home/petra/.local/share/r-miniconda/envs/r-reticulate/lib/python3.6/site-packages/scipy/sparse/__init__.py\", line 228, in <module>\n    from .csr import *\n  File \"/home/petra/R/x86_64-pc-linux-gnu-library/4.0/reticulate/python/rpytools/loader.py\", line 24, in _import_hook\n    level=level\n  File \"/home/petra/.local/share/r-miniconda/envs/r-reticulate/lib/python3.6/site-packages/scipy/sparse/csr.py\", line 10, in <module>\n    from ._sparsetools import (csr_tocsc, csr_tobsr, csr_count_blocks,\n  File \"/home/petra/R/x86_64-pc-linux-gnu-library/4.0/reticulate/python/rpytools/loader.py\", line 24, in _import_hook\n    level=level\n\n",
     "output_type": "error",
     "traceback": [
      "Error in py_run_file_impl(file, local, convert): ImportError: numpy.core.multiarray failed to import\n\nDetailed traceback: \n  File \"<string>\", line 1, in <module>\n  File \"/home/petra/R/x86_64-pc-linux-gnu-library/4.0/reticulate/python/rpytools/loader.py\", line 24, in _import_hook\n    level=level\n  File \"/home/petra/.local/share/r-miniconda/envs/r-reticulate/lib/python3.6/site-packages/scipy/stats/__init__.py\", line 388, in <module>\n    from .stats import *\n  File \"/home/petra/R/x86_64-pc-linux-gnu-library/4.0/reticulate/python/rpytools/loader.py\", line 24, in _import_hook\n    level=level\n  File \"/home/petra/.local/share/r-miniconda/envs/r-reticulate/lib/python3.6/site-packages/scipy/stats/stats.py\", line 174, in <module>\n    from scipy.spatial.distance import cdist\n  File \"/home/petra/R/x86_64-pc-linux-gnu-library/4.0/reticulate/python/rpytools/loader.py\", line 24, in _import_hook\n    level=level\n  File \"/home/petra/.local/share/r-miniconda/envs/r-reticulate/lib/python3.6/site-packages/scipy/spatial/__init__.py\", line 96, in <module>\n    from .kdtree import *\n  File \"/home/petra/R/x86_64-pc-linux-gnu-library/4.0/reticulate/python/rpytools/loader.py\", line 24, in _import_hook\n    level=level\n  File \"/home/petra/.local/share/r-miniconda/envs/r-reticulate/lib/python3.6/site-packages/scipy/spatial/kdtree.py\", line 5, in <module>\n    import scipy.sparse\n  File \"/home/petra/R/x86_64-pc-linux-gnu-library/4.0/reticulate/python/rpytools/loader.py\", line 24, in _import_hook\n    level=level\n  File \"/home/petra/.local/share/r-miniconda/envs/r-reticulate/lib/python3.6/site-packages/scipy/sparse/__init__.py\", line 228, in <module>\n    from .csr import *\n  File \"/home/petra/R/x86_64-pc-linux-gnu-library/4.0/reticulate/python/rpytools/loader.py\", line 24, in _import_hook\n    level=level\n  File \"/home/petra/.local/share/r-miniconda/envs/r-reticulate/lib/python3.6/site-packages/scipy/sparse/csr.py\", line 10, in <module>\n    from ._sparsetools import (csr_tocsc, csr_tobsr, csr_count_blocks,\n  File \"/home/petra/R/x86_64-pc-linux-gnu-library/4.0/reticulate/python/rpytools/loader.py\", line 24, in _import_hook\n    level=level\n\nTraceback:\n",
      "1. py_run_file(\"modelling_distributions.py\")",
      "2. py_run_file_impl(file, local, convert)"
     ]
    }
   ],
   "source": [
    "py_run_file(\"modelling_distributions.py\")"
   ]
  },
  {
   "cell_type": "code",
   "execution_count": 5,
   "id": "imperial-court",
   "metadata": {},
   "outputs": [
    {
     "name": "stdout",
     "output_type": "stream",
     "text": [
      "Requirement already satisfied: rpy2 in /home/petra/.pyenv/versions/3.8.7/lib/python3.8/site-packages (3.4.2)\r\n",
      "Requirement already satisfied: cffi>=1.10.0 in /home/petra/.local/lib/python3.8/site-packages (from rpy2) (1.14.5)\r\n",
      "Requirement already satisfied: jinja2 in /home/petra/.local/lib/python3.8/site-packages (from rpy2) (2.11.3)\r\n",
      "Requirement already satisfied: pytz in /home/petra/.local/lib/python3.8/site-packages (from rpy2) (2021.1)\r\n",
      "Requirement already satisfied: tzlocal in /home/petra/.local/lib/python3.8/site-packages (from rpy2) (2.1)\r\n",
      "Requirement already satisfied: pycparser in /home/petra/.local/lib/python3.8/site-packages (from cffi>=1.10.0->rpy2) (2.20)\r\n",
      "Requirement already satisfied: MarkupSafe>=0.23 in /home/petra/.local/lib/python3.8/site-packages (from jinja2->rpy2) (1.1.1)\r\n"
     ]
    }
   ],
   "source": [
    "!pip install rpy2"
   ]
  },
  {
   "cell_type": "code",
   "execution_count": 4,
   "id": "coral-tooth",
   "metadata": {},
   "outputs": [
    {
     "name": "stderr",
     "output_type": "stream",
     "text": [
      "UsageError: Cell magic `%%R` not found.\n"
     ]
    }
   ],
   "source": [
    "%%R\n",
    "\n",
    "test<- c(1,2,3)\n",
    "test"
   ]
  }
 ],
 "metadata": {
  "kernelspec": {
   "display_name": "Python 3",
   "language": "python",
   "name": "python3"
  },
  "language_info": {
   "codemirror_mode": {
    "name": "ipython",
    "version": 3
   },
   "file_extension": ".py",
   "mimetype": "text/x-python",
   "name": "python",
   "nbconvert_exporter": "python",
   "pygments_lexer": "ipython3",
   "version": "3.8.7"
  }
 },
 "nbformat": 4,
 "nbformat_minor": 5
}
